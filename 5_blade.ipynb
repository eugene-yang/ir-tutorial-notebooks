{
  "nbformat": 4,
  "nbformat_minor": 0,
  "metadata": {
    "colab": {
      "provenance": [],
      "gpuType": "T4"
    },
    "kernelspec": {
      "name": "python3",
      "display_name": "Python 3"
    },
    "language_info": {
      "name": "python"
    },
    "widgets": {
      "application/vnd.jupyter.widget-state+json": {
        "19129db08a4d45ac9a7451c54fa6294e": {
          "model_module": "@jupyter-widgets/controls",
          "model_name": "HBoxModel",
          "model_module_version": "1.5.0",
          "state": {
            "_dom_classes": [],
            "_model_module": "@jupyter-widgets/controls",
            "_model_module_version": "1.5.0",
            "_model_name": "HBoxModel",
            "_view_count": null,
            "_view_module": "@jupyter-widgets/controls",
            "_view_module_version": "1.5.0",
            "_view_name": "HBoxView",
            "box_style": "",
            "children": [
              "IPY_MODEL_83f94e7318f7470e84e57bb9793cd516",
              "IPY_MODEL_21febb8af09845e3b4035ca4d7b4e6f5",
              "IPY_MODEL_2eb7be5cf5724ff2abdbb11d574d13df"
            ],
            "layout": "IPY_MODEL_d5c2bfc469dd4d75a15456e9f5139703"
          }
        },
        "83f94e7318f7470e84e57bb9793cd516": {
          "model_module": "@jupyter-widgets/controls",
          "model_name": "HTMLModel",
          "model_module_version": "1.5.0",
          "state": {
            "_dom_classes": [],
            "_model_module": "@jupyter-widgets/controls",
            "_model_module_version": "1.5.0",
            "_model_name": "HTMLModel",
            "_view_count": null,
            "_view_module": "@jupyter-widgets/controls",
            "_view_module_version": "1.5.0",
            "_view_name": "HTMLView",
            "description": "",
            "description_tooltip": null,
            "layout": "IPY_MODEL_b04d6073e65845c4b0e70945a95c23a2",
            "placeholder": "​",
            "style": "IPY_MODEL_bef41c64e3a64f71b4fdb32b00bfb90b",
            "value": "Downloading builder script: 100%"
          }
        },
        "21febb8af09845e3b4035ca4d7b4e6f5": {
          "model_module": "@jupyter-widgets/controls",
          "model_name": "FloatProgressModel",
          "model_module_version": "1.5.0",
          "state": {
            "_dom_classes": [],
            "_model_module": "@jupyter-widgets/controls",
            "_model_module_version": "1.5.0",
            "_model_name": "FloatProgressModel",
            "_view_count": null,
            "_view_module": "@jupyter-widgets/controls",
            "_view_module_version": "1.5.0",
            "_view_name": "ProgressView",
            "bar_style": "success",
            "description": "",
            "description_tooltip": null,
            "layout": "IPY_MODEL_dc51464eadf942aaab5dab9ec166c6cc",
            "max": 1311,
            "min": 0,
            "orientation": "horizontal",
            "style": "IPY_MODEL_f4b0311ca9ad412296d0614a3517169e",
            "value": 1311
          }
        },
        "2eb7be5cf5724ff2abdbb11d574d13df": {
          "model_module": "@jupyter-widgets/controls",
          "model_name": "HTMLModel",
          "model_module_version": "1.5.0",
          "state": {
            "_dom_classes": [],
            "_model_module": "@jupyter-widgets/controls",
            "_model_module_version": "1.5.0",
            "_model_name": "HTMLModel",
            "_view_count": null,
            "_view_module": "@jupyter-widgets/controls",
            "_view_module_version": "1.5.0",
            "_view_name": "HTMLView",
            "description": "",
            "description_tooltip": null,
            "layout": "IPY_MODEL_d3da9c98fd4c4bcbb0df491a28e234fb",
            "placeholder": "​",
            "style": "IPY_MODEL_c674c869c50e4eb8a2b63d5b928a6b82",
            "value": " 1.31k/1.31k [00:00&lt;00:00, 59.4kB/s]"
          }
        },
        "d5c2bfc469dd4d75a15456e9f5139703": {
          "model_module": "@jupyter-widgets/base",
          "model_name": "LayoutModel",
          "model_module_version": "1.2.0",
          "state": {
            "_model_module": "@jupyter-widgets/base",
            "_model_module_version": "1.2.0",
            "_model_name": "LayoutModel",
            "_view_count": null,
            "_view_module": "@jupyter-widgets/base",
            "_view_module_version": "1.2.0",
            "_view_name": "LayoutView",
            "align_content": null,
            "align_items": null,
            "align_self": null,
            "border": null,
            "bottom": null,
            "display": null,
            "flex": null,
            "flex_flow": null,
            "grid_area": null,
            "grid_auto_columns": null,
            "grid_auto_flow": null,
            "grid_auto_rows": null,
            "grid_column": null,
            "grid_gap": null,
            "grid_row": null,
            "grid_template_areas": null,
            "grid_template_columns": null,
            "grid_template_rows": null,
            "height": null,
            "justify_content": null,
            "justify_items": null,
            "left": null,
            "margin": null,
            "max_height": null,
            "max_width": null,
            "min_height": null,
            "min_width": null,
            "object_fit": null,
            "object_position": null,
            "order": null,
            "overflow": null,
            "overflow_x": null,
            "overflow_y": null,
            "padding": null,
            "right": null,
            "top": null,
            "visibility": null,
            "width": null
          }
        },
        "b04d6073e65845c4b0e70945a95c23a2": {
          "model_module": "@jupyter-widgets/base",
          "model_name": "LayoutModel",
          "model_module_version": "1.2.0",
          "state": {
            "_model_module": "@jupyter-widgets/base",
            "_model_module_version": "1.2.0",
            "_model_name": "LayoutModel",
            "_view_count": null,
            "_view_module": "@jupyter-widgets/base",
            "_view_module_version": "1.2.0",
            "_view_name": "LayoutView",
            "align_content": null,
            "align_items": null,
            "align_self": null,
            "border": null,
            "bottom": null,
            "display": null,
            "flex": null,
            "flex_flow": null,
            "grid_area": null,
            "grid_auto_columns": null,
            "grid_auto_flow": null,
            "grid_auto_rows": null,
            "grid_column": null,
            "grid_gap": null,
            "grid_row": null,
            "grid_template_areas": null,
            "grid_template_columns": null,
            "grid_template_rows": null,
            "height": null,
            "justify_content": null,
            "justify_items": null,
            "left": null,
            "margin": null,
            "max_height": null,
            "max_width": null,
            "min_height": null,
            "min_width": null,
            "object_fit": null,
            "object_position": null,
            "order": null,
            "overflow": null,
            "overflow_x": null,
            "overflow_y": null,
            "padding": null,
            "right": null,
            "top": null,
            "visibility": null,
            "width": null
          }
        },
        "bef41c64e3a64f71b4fdb32b00bfb90b": {
          "model_module": "@jupyter-widgets/controls",
          "model_name": "DescriptionStyleModel",
          "model_module_version": "1.5.0",
          "state": {
            "_model_module": "@jupyter-widgets/controls",
            "_model_module_version": "1.5.0",
            "_model_name": "DescriptionStyleModel",
            "_view_count": null,
            "_view_module": "@jupyter-widgets/base",
            "_view_module_version": "1.2.0",
            "_view_name": "StyleView",
            "description_width": ""
          }
        },
        "dc51464eadf942aaab5dab9ec166c6cc": {
          "model_module": "@jupyter-widgets/base",
          "model_name": "LayoutModel",
          "model_module_version": "1.2.0",
          "state": {
            "_model_module": "@jupyter-widgets/base",
            "_model_module_version": "1.2.0",
            "_model_name": "LayoutModel",
            "_view_count": null,
            "_view_module": "@jupyter-widgets/base",
            "_view_module_version": "1.2.0",
            "_view_name": "LayoutView",
            "align_content": null,
            "align_items": null,
            "align_self": null,
            "border": null,
            "bottom": null,
            "display": null,
            "flex": null,
            "flex_flow": null,
            "grid_area": null,
            "grid_auto_columns": null,
            "grid_auto_flow": null,
            "grid_auto_rows": null,
            "grid_column": null,
            "grid_gap": null,
            "grid_row": null,
            "grid_template_areas": null,
            "grid_template_columns": null,
            "grid_template_rows": null,
            "height": null,
            "justify_content": null,
            "justify_items": null,
            "left": null,
            "margin": null,
            "max_height": null,
            "max_width": null,
            "min_height": null,
            "min_width": null,
            "object_fit": null,
            "object_position": null,
            "order": null,
            "overflow": null,
            "overflow_x": null,
            "overflow_y": null,
            "padding": null,
            "right": null,
            "top": null,
            "visibility": null,
            "width": null
          }
        },
        "f4b0311ca9ad412296d0614a3517169e": {
          "model_module": "@jupyter-widgets/controls",
          "model_name": "ProgressStyleModel",
          "model_module_version": "1.5.0",
          "state": {
            "_model_module": "@jupyter-widgets/controls",
            "_model_module_version": "1.5.0",
            "_model_name": "ProgressStyleModel",
            "_view_count": null,
            "_view_module": "@jupyter-widgets/base",
            "_view_module_version": "1.2.0",
            "_view_name": "StyleView",
            "bar_color": null,
            "description_width": ""
          }
        },
        "d3da9c98fd4c4bcbb0df491a28e234fb": {
          "model_module": "@jupyter-widgets/base",
          "model_name": "LayoutModel",
          "model_module_version": "1.2.0",
          "state": {
            "_model_module": "@jupyter-widgets/base",
            "_model_module_version": "1.2.0",
            "_model_name": "LayoutModel",
            "_view_count": null,
            "_view_module": "@jupyter-widgets/base",
            "_view_module_version": "1.2.0",
            "_view_name": "LayoutView",
            "align_content": null,
            "align_items": null,
            "align_self": null,
            "border": null,
            "bottom": null,
            "display": null,
            "flex": null,
            "flex_flow": null,
            "grid_area": null,
            "grid_auto_columns": null,
            "grid_auto_flow": null,
            "grid_auto_rows": null,
            "grid_column": null,
            "grid_gap": null,
            "grid_row": null,
            "grid_template_areas": null,
            "grid_template_columns": null,
            "grid_template_rows": null,
            "height": null,
            "justify_content": null,
            "justify_items": null,
            "left": null,
            "margin": null,
            "max_height": null,
            "max_width": null,
            "min_height": null,
            "min_width": null,
            "object_fit": null,
            "object_position": null,
            "order": null,
            "overflow": null,
            "overflow_x": null,
            "overflow_y": null,
            "padding": null,
            "right": null,
            "top": null,
            "visibility": null,
            "width": null
          }
        },
        "c674c869c50e4eb8a2b63d5b928a6b82": {
          "model_module": "@jupyter-widgets/controls",
          "model_name": "DescriptionStyleModel",
          "model_module_version": "1.5.0",
          "state": {
            "_model_module": "@jupyter-widgets/controls",
            "_model_module_version": "1.5.0",
            "_model_name": "DescriptionStyleModel",
            "_view_count": null,
            "_view_module": "@jupyter-widgets/base",
            "_view_module_version": "1.2.0",
            "_view_name": "StyleView",
            "description_width": ""
          }
        },
        "0dc339c38da74695a179d6004f63d0e5": {
          "model_module": "@jupyter-widgets/controls",
          "model_name": "HBoxModel",
          "model_module_version": "1.5.0",
          "state": {
            "_dom_classes": [],
            "_model_module": "@jupyter-widgets/controls",
            "_model_module_version": "1.5.0",
            "_model_name": "HBoxModel",
            "_view_count": null,
            "_view_module": "@jupyter-widgets/controls",
            "_view_module_version": "1.5.0",
            "_view_name": "HBoxView",
            "box_style": "",
            "children": [
              "IPY_MODEL_f728ebeea0a845dcbc2c6b607c6bc978",
              "IPY_MODEL_f8a9fd28144d456baf5912b92a04c251",
              "IPY_MODEL_f863f30570744e3483bf124b2b0667b0"
            ],
            "layout": "IPY_MODEL_5d3236474a4f41b2b0b2f8b8e6d7acf2"
          }
        },
        "f728ebeea0a845dcbc2c6b607c6bc978": {
          "model_module": "@jupyter-widgets/controls",
          "model_name": "HTMLModel",
          "model_module_version": "1.5.0",
          "state": {
            "_dom_classes": [],
            "_model_module": "@jupyter-widgets/controls",
            "_model_module_version": "1.5.0",
            "_model_name": "HTMLModel",
            "_view_count": null,
            "_view_module": "@jupyter-widgets/controls",
            "_view_module_version": "1.5.0",
            "_view_name": "HTMLView",
            "description": "",
            "description_tooltip": null,
            "layout": "IPY_MODEL_474e96e623aa49c8a603801db8ab73e5",
            "placeholder": "​",
            "style": "IPY_MODEL_0d9c8dba0a10477dbb3449ae1124ee17",
            "value": "Downloading readme: 100%"
          }
        },
        "f8a9fd28144d456baf5912b92a04c251": {
          "model_module": "@jupyter-widgets/controls",
          "model_name": "FloatProgressModel",
          "model_module_version": "1.5.0",
          "state": {
            "_dom_classes": [],
            "_model_module": "@jupyter-widgets/controls",
            "_model_module_version": "1.5.0",
            "_model_name": "FloatProgressModel",
            "_view_count": null,
            "_view_module": "@jupyter-widgets/controls",
            "_view_module_version": "1.5.0",
            "_view_name": "ProgressView",
            "bar_style": "success",
            "description": "",
            "description_tooltip": null,
            "layout": "IPY_MODEL_cbfc4a83c769442b9a25c27bcc5a38a8",
            "max": 1477,
            "min": 0,
            "orientation": "horizontal",
            "style": "IPY_MODEL_3869a56e41df4c418d04ed4f623ba50c",
            "value": 1477
          }
        },
        "f863f30570744e3483bf124b2b0667b0": {
          "model_module": "@jupyter-widgets/controls",
          "model_name": "HTMLModel",
          "model_module_version": "1.5.0",
          "state": {
            "_dom_classes": [],
            "_model_module": "@jupyter-widgets/controls",
            "_model_module_version": "1.5.0",
            "_model_name": "HTMLModel",
            "_view_count": null,
            "_view_module": "@jupyter-widgets/controls",
            "_view_module_version": "1.5.0",
            "_view_name": "HTMLView",
            "description": "",
            "description_tooltip": null,
            "layout": "IPY_MODEL_3bdc109f2eef4108b0f01eb2d1b641e9",
            "placeholder": "​",
            "style": "IPY_MODEL_cb92e9d3f2d4438a87d9ca41b1e461a8",
            "value": " 1.48k/1.48k [00:00&lt;00:00, 29.1kB/s]"
          }
        },
        "5d3236474a4f41b2b0b2f8b8e6d7acf2": {
          "model_module": "@jupyter-widgets/base",
          "model_name": "LayoutModel",
          "model_module_version": "1.2.0",
          "state": {
            "_model_module": "@jupyter-widgets/base",
            "_model_module_version": "1.2.0",
            "_model_name": "LayoutModel",
            "_view_count": null,
            "_view_module": "@jupyter-widgets/base",
            "_view_module_version": "1.2.0",
            "_view_name": "LayoutView",
            "align_content": null,
            "align_items": null,
            "align_self": null,
            "border": null,
            "bottom": null,
            "display": null,
            "flex": null,
            "flex_flow": null,
            "grid_area": null,
            "grid_auto_columns": null,
            "grid_auto_flow": null,
            "grid_auto_rows": null,
            "grid_column": null,
            "grid_gap": null,
            "grid_row": null,
            "grid_template_areas": null,
            "grid_template_columns": null,
            "grid_template_rows": null,
            "height": null,
            "justify_content": null,
            "justify_items": null,
            "left": null,
            "margin": null,
            "max_height": null,
            "max_width": null,
            "min_height": null,
            "min_width": null,
            "object_fit": null,
            "object_position": null,
            "order": null,
            "overflow": null,
            "overflow_x": null,
            "overflow_y": null,
            "padding": null,
            "right": null,
            "top": null,
            "visibility": null,
            "width": null
          }
        },
        "474e96e623aa49c8a603801db8ab73e5": {
          "model_module": "@jupyter-widgets/base",
          "model_name": "LayoutModel",
          "model_module_version": "1.2.0",
          "state": {
            "_model_module": "@jupyter-widgets/base",
            "_model_module_version": "1.2.0",
            "_model_name": "LayoutModel",
            "_view_count": null,
            "_view_module": "@jupyter-widgets/base",
            "_view_module_version": "1.2.0",
            "_view_name": "LayoutView",
            "align_content": null,
            "align_items": null,
            "align_self": null,
            "border": null,
            "bottom": null,
            "display": null,
            "flex": null,
            "flex_flow": null,
            "grid_area": null,
            "grid_auto_columns": null,
            "grid_auto_flow": null,
            "grid_auto_rows": null,
            "grid_column": null,
            "grid_gap": null,
            "grid_row": null,
            "grid_template_areas": null,
            "grid_template_columns": null,
            "grid_template_rows": null,
            "height": null,
            "justify_content": null,
            "justify_items": null,
            "left": null,
            "margin": null,
            "max_height": null,
            "max_width": null,
            "min_height": null,
            "min_width": null,
            "object_fit": null,
            "object_position": null,
            "order": null,
            "overflow": null,
            "overflow_x": null,
            "overflow_y": null,
            "padding": null,
            "right": null,
            "top": null,
            "visibility": null,
            "width": null
          }
        },
        "0d9c8dba0a10477dbb3449ae1124ee17": {
          "model_module": "@jupyter-widgets/controls",
          "model_name": "DescriptionStyleModel",
          "model_module_version": "1.5.0",
          "state": {
            "_model_module": "@jupyter-widgets/controls",
            "_model_module_version": "1.5.0",
            "_model_name": "DescriptionStyleModel",
            "_view_count": null,
            "_view_module": "@jupyter-widgets/base",
            "_view_module_version": "1.2.0",
            "_view_name": "StyleView",
            "description_width": ""
          }
        },
        "cbfc4a83c769442b9a25c27bcc5a38a8": {
          "model_module": "@jupyter-widgets/base",
          "model_name": "LayoutModel",
          "model_module_version": "1.2.0",
          "state": {
            "_model_module": "@jupyter-widgets/base",
            "_model_module_version": "1.2.0",
            "_model_name": "LayoutModel",
            "_view_count": null,
            "_view_module": "@jupyter-widgets/base",
            "_view_module_version": "1.2.0",
            "_view_name": "LayoutView",
            "align_content": null,
            "align_items": null,
            "align_self": null,
            "border": null,
            "bottom": null,
            "display": null,
            "flex": null,
            "flex_flow": null,
            "grid_area": null,
            "grid_auto_columns": null,
            "grid_auto_flow": null,
            "grid_auto_rows": null,
            "grid_column": null,
            "grid_gap": null,
            "grid_row": null,
            "grid_template_areas": null,
            "grid_template_columns": null,
            "grid_template_rows": null,
            "height": null,
            "justify_content": null,
            "justify_items": null,
            "left": null,
            "margin": null,
            "max_height": null,
            "max_width": null,
            "min_height": null,
            "min_width": null,
            "object_fit": null,
            "object_position": null,
            "order": null,
            "overflow": null,
            "overflow_x": null,
            "overflow_y": null,
            "padding": null,
            "right": null,
            "top": null,
            "visibility": null,
            "width": null
          }
        },
        "3869a56e41df4c418d04ed4f623ba50c": {
          "model_module": "@jupyter-widgets/controls",
          "model_name": "ProgressStyleModel",
          "model_module_version": "1.5.0",
          "state": {
            "_model_module": "@jupyter-widgets/controls",
            "_model_module_version": "1.5.0",
            "_model_name": "ProgressStyleModel",
            "_view_count": null,
            "_view_module": "@jupyter-widgets/base",
            "_view_module_version": "1.2.0",
            "_view_name": "StyleView",
            "bar_color": null,
            "description_width": ""
          }
        },
        "3bdc109f2eef4108b0f01eb2d1b641e9": {
          "model_module": "@jupyter-widgets/base",
          "model_name": "LayoutModel",
          "model_module_version": "1.2.0",
          "state": {
            "_model_module": "@jupyter-widgets/base",
            "_model_module_version": "1.2.0",
            "_model_name": "LayoutModel",
            "_view_count": null,
            "_view_module": "@jupyter-widgets/base",
            "_view_module_version": "1.2.0",
            "_view_name": "LayoutView",
            "align_content": null,
            "align_items": null,
            "align_self": null,
            "border": null,
            "bottom": null,
            "display": null,
            "flex": null,
            "flex_flow": null,
            "grid_area": null,
            "grid_auto_columns": null,
            "grid_auto_flow": null,
            "grid_auto_rows": null,
            "grid_column": null,
            "grid_gap": null,
            "grid_row": null,
            "grid_template_areas": null,
            "grid_template_columns": null,
            "grid_template_rows": null,
            "height": null,
            "justify_content": null,
            "justify_items": null,
            "left": null,
            "margin": null,
            "max_height": null,
            "max_width": null,
            "min_height": null,
            "min_width": null,
            "object_fit": null,
            "object_position": null,
            "order": null,
            "overflow": null,
            "overflow_x": null,
            "overflow_y": null,
            "padding": null,
            "right": null,
            "top": null,
            "visibility": null,
            "width": null
          }
        },
        "cb92e9d3f2d4438a87d9ca41b1e461a8": {
          "model_module": "@jupyter-widgets/controls",
          "model_name": "DescriptionStyleModel",
          "model_module_version": "1.5.0",
          "state": {
            "_model_module": "@jupyter-widgets/controls",
            "_model_module_version": "1.5.0",
            "_model_name": "DescriptionStyleModel",
            "_view_count": null,
            "_view_module": "@jupyter-widgets/base",
            "_view_module_version": "1.2.0",
            "_view_name": "StyleView",
            "description_width": ""
          }
        },
        "b16ee4cb317c4148a51659b04a87aa9a": {
          "model_module": "@jupyter-widgets/controls",
          "model_name": "HBoxModel",
          "model_module_version": "1.5.0",
          "state": {
            "_dom_classes": [],
            "_model_module": "@jupyter-widgets/controls",
            "_model_module_version": "1.5.0",
            "_model_name": "HBoxModel",
            "_view_count": null,
            "_view_module": "@jupyter-widgets/controls",
            "_view_module_version": "1.5.0",
            "_view_name": "HBoxView",
            "box_style": "",
            "children": [
              "IPY_MODEL_6e1648b5d8594515b03da651c375a26a",
              "IPY_MODEL_07a81aa9807840bbab84804d45740c05",
              "IPY_MODEL_e7f39db62bd242a087d42947b504248f"
            ],
            "layout": "IPY_MODEL_1f684d285e65464fa702c9881b5143bf"
          }
        },
        "6e1648b5d8594515b03da651c375a26a": {
          "model_module": "@jupyter-widgets/controls",
          "model_name": "HTMLModel",
          "model_module_version": "1.5.0",
          "state": {
            "_dom_classes": [],
            "_model_module": "@jupyter-widgets/controls",
            "_model_module_version": "1.5.0",
            "_model_name": "HTMLModel",
            "_view_count": null,
            "_view_module": "@jupyter-widgets/controls",
            "_view_module_version": "1.5.0",
            "_view_name": "HTMLView",
            "description": "",
            "description_tooltip": null,
            "layout": "IPY_MODEL_38739a346bbf497894bcbe7490aba6b9",
            "placeholder": "​",
            "style": "IPY_MODEL_c8b80b5f957b4e9cb73afe4362f83f93",
            "value": "Loading first 40k docs from NeuCLIR Chinese Collection: 100%"
          }
        },
        "07a81aa9807840bbab84804d45740c05": {
          "model_module": "@jupyter-widgets/controls",
          "model_name": "FloatProgressModel",
          "model_module_version": "1.5.0",
          "state": {
            "_dom_classes": [],
            "_model_module": "@jupyter-widgets/controls",
            "_model_module_version": "1.5.0",
            "_model_name": "FloatProgressModel",
            "_view_count": null,
            "_view_module": "@jupyter-widgets/controls",
            "_view_module_version": "1.5.0",
            "_view_name": "ProgressView",
            "bar_style": "success",
            "description": "",
            "description_tooltip": null,
            "layout": "IPY_MODEL_fd8f17f50ac94bd8bcc6d6314d1a4379",
            "max": 40000,
            "min": 0,
            "orientation": "horizontal",
            "style": "IPY_MODEL_4345f1024bec4be4b245310f3f223ddc",
            "value": 40000
          }
        },
        "e7f39db62bd242a087d42947b504248f": {
          "model_module": "@jupyter-widgets/controls",
          "model_name": "HTMLModel",
          "model_module_version": "1.5.0",
          "state": {
            "_dom_classes": [],
            "_model_module": "@jupyter-widgets/controls",
            "_model_module_version": "1.5.0",
            "_model_name": "HTMLModel",
            "_view_count": null,
            "_view_module": "@jupyter-widgets/controls",
            "_view_module_version": "1.5.0",
            "_view_name": "HTMLView",
            "description": "",
            "description_tooltip": null,
            "layout": "IPY_MODEL_aec3d14f998a4766887c6f5abd9baed3",
            "placeholder": "​",
            "style": "IPY_MODEL_9e21e3cb60ee4f32ab957eb86d8d400c",
            "value": " 40000/40000 [00:19&lt;00:00, 3542.89it/s]"
          }
        },
        "1f684d285e65464fa702c9881b5143bf": {
          "model_module": "@jupyter-widgets/base",
          "model_name": "LayoutModel",
          "model_module_version": "1.2.0",
          "state": {
            "_model_module": "@jupyter-widgets/base",
            "_model_module_version": "1.2.0",
            "_model_name": "LayoutModel",
            "_view_count": null,
            "_view_module": "@jupyter-widgets/base",
            "_view_module_version": "1.2.0",
            "_view_name": "LayoutView",
            "align_content": null,
            "align_items": null,
            "align_self": null,
            "border": null,
            "bottom": null,
            "display": null,
            "flex": null,
            "flex_flow": null,
            "grid_area": null,
            "grid_auto_columns": null,
            "grid_auto_flow": null,
            "grid_auto_rows": null,
            "grid_column": null,
            "grid_gap": null,
            "grid_row": null,
            "grid_template_areas": null,
            "grid_template_columns": null,
            "grid_template_rows": null,
            "height": null,
            "justify_content": null,
            "justify_items": null,
            "left": null,
            "margin": null,
            "max_height": null,
            "max_width": null,
            "min_height": null,
            "min_width": null,
            "object_fit": null,
            "object_position": null,
            "order": null,
            "overflow": null,
            "overflow_x": null,
            "overflow_y": null,
            "padding": null,
            "right": null,
            "top": null,
            "visibility": null,
            "width": null
          }
        },
        "38739a346bbf497894bcbe7490aba6b9": {
          "model_module": "@jupyter-widgets/base",
          "model_name": "LayoutModel",
          "model_module_version": "1.2.0",
          "state": {
            "_model_module": "@jupyter-widgets/base",
            "_model_module_version": "1.2.0",
            "_model_name": "LayoutModel",
            "_view_count": null,
            "_view_module": "@jupyter-widgets/base",
            "_view_module_version": "1.2.0",
            "_view_name": "LayoutView",
            "align_content": null,
            "align_items": null,
            "align_self": null,
            "border": null,
            "bottom": null,
            "display": null,
            "flex": null,
            "flex_flow": null,
            "grid_area": null,
            "grid_auto_columns": null,
            "grid_auto_flow": null,
            "grid_auto_rows": null,
            "grid_column": null,
            "grid_gap": null,
            "grid_row": null,
            "grid_template_areas": null,
            "grid_template_columns": null,
            "grid_template_rows": null,
            "height": null,
            "justify_content": null,
            "justify_items": null,
            "left": null,
            "margin": null,
            "max_height": null,
            "max_width": null,
            "min_height": null,
            "min_width": null,
            "object_fit": null,
            "object_position": null,
            "order": null,
            "overflow": null,
            "overflow_x": null,
            "overflow_y": null,
            "padding": null,
            "right": null,
            "top": null,
            "visibility": null,
            "width": null
          }
        },
        "c8b80b5f957b4e9cb73afe4362f83f93": {
          "model_module": "@jupyter-widgets/controls",
          "model_name": "DescriptionStyleModel",
          "model_module_version": "1.5.0",
          "state": {
            "_model_module": "@jupyter-widgets/controls",
            "_model_module_version": "1.5.0",
            "_model_name": "DescriptionStyleModel",
            "_view_count": null,
            "_view_module": "@jupyter-widgets/base",
            "_view_module_version": "1.2.0",
            "_view_name": "StyleView",
            "description_width": ""
          }
        },
        "fd8f17f50ac94bd8bcc6d6314d1a4379": {
          "model_module": "@jupyter-widgets/base",
          "model_name": "LayoutModel",
          "model_module_version": "1.2.0",
          "state": {
            "_model_module": "@jupyter-widgets/base",
            "_model_module_version": "1.2.0",
            "_model_name": "LayoutModel",
            "_view_count": null,
            "_view_module": "@jupyter-widgets/base",
            "_view_module_version": "1.2.0",
            "_view_name": "LayoutView",
            "align_content": null,
            "align_items": null,
            "align_self": null,
            "border": null,
            "bottom": null,
            "display": null,
            "flex": null,
            "flex_flow": null,
            "grid_area": null,
            "grid_auto_columns": null,
            "grid_auto_flow": null,
            "grid_auto_rows": null,
            "grid_column": null,
            "grid_gap": null,
            "grid_row": null,
            "grid_template_areas": null,
            "grid_template_columns": null,
            "grid_template_rows": null,
            "height": null,
            "justify_content": null,
            "justify_items": null,
            "left": null,
            "margin": null,
            "max_height": null,
            "max_width": null,
            "min_height": null,
            "min_width": null,
            "object_fit": null,
            "object_position": null,
            "order": null,
            "overflow": null,
            "overflow_x": null,
            "overflow_y": null,
            "padding": null,
            "right": null,
            "top": null,
            "visibility": null,
            "width": null
          }
        },
        "4345f1024bec4be4b245310f3f223ddc": {
          "model_module": "@jupyter-widgets/controls",
          "model_name": "ProgressStyleModel",
          "model_module_version": "1.5.0",
          "state": {
            "_model_module": "@jupyter-widgets/controls",
            "_model_module_version": "1.5.0",
            "_model_name": "ProgressStyleModel",
            "_view_count": null,
            "_view_module": "@jupyter-widgets/base",
            "_view_module_version": "1.2.0",
            "_view_name": "StyleView",
            "bar_color": null,
            "description_width": ""
          }
        },
        "aec3d14f998a4766887c6f5abd9baed3": {
          "model_module": "@jupyter-widgets/base",
          "model_name": "LayoutModel",
          "model_module_version": "1.2.0",
          "state": {
            "_model_module": "@jupyter-widgets/base",
            "_model_module_version": "1.2.0",
            "_model_name": "LayoutModel",
            "_view_count": null,
            "_view_module": "@jupyter-widgets/base",
            "_view_module_version": "1.2.0",
            "_view_name": "LayoutView",
            "align_content": null,
            "align_items": null,
            "align_self": null,
            "border": null,
            "bottom": null,
            "display": null,
            "flex": null,
            "flex_flow": null,
            "grid_area": null,
            "grid_auto_columns": null,
            "grid_auto_flow": null,
            "grid_auto_rows": null,
            "grid_column": null,
            "grid_gap": null,
            "grid_row": null,
            "grid_template_areas": null,
            "grid_template_columns": null,
            "grid_template_rows": null,
            "height": null,
            "justify_content": null,
            "justify_items": null,
            "left": null,
            "margin": null,
            "max_height": null,
            "max_width": null,
            "min_height": null,
            "min_width": null,
            "object_fit": null,
            "object_position": null,
            "order": null,
            "overflow": null,
            "overflow_x": null,
            "overflow_y": null,
            "padding": null,
            "right": null,
            "top": null,
            "visibility": null,
            "width": null
          }
        },
        "9e21e3cb60ee4f32ab957eb86d8d400c": {
          "model_module": "@jupyter-widgets/controls",
          "model_name": "DescriptionStyleModel",
          "model_module_version": "1.5.0",
          "state": {
            "_model_module": "@jupyter-widgets/controls",
            "_model_module_version": "1.5.0",
            "_model_name": "DescriptionStyleModel",
            "_view_count": null,
            "_view_module": "@jupyter-widgets/base",
            "_view_module_version": "1.2.0",
            "_view_name": "StyleView",
            "description_width": ""
          }
        },
        "9488edc4e4b44e66b5ca897b28510918": {
          "model_module": "@jupyter-widgets/controls",
          "model_name": "HBoxModel",
          "model_module_version": "1.5.0",
          "state": {
            "_dom_classes": [],
            "_model_module": "@jupyter-widgets/controls",
            "_model_module_version": "1.5.0",
            "_model_name": "HBoxModel",
            "_view_count": null,
            "_view_module": "@jupyter-widgets/controls",
            "_view_module_version": "1.5.0",
            "_view_name": "HBoxView",
            "box_style": "",
            "children": [
              "IPY_MODEL_7d653439a17744be8fa9d073f7e872a0",
              "IPY_MODEL_ae886d7b6a9c4971ba79ea7827e07fc3",
              "IPY_MODEL_bea8662ba12a4b3f906b48096c8ce877"
            ],
            "layout": "IPY_MODEL_f4d3a5abe24143c2b6d75296caccae5c"
          }
        },
        "7d653439a17744be8fa9d073f7e872a0": {
          "model_module": "@jupyter-widgets/controls",
          "model_name": "HTMLModel",
          "model_module_version": "1.5.0",
          "state": {
            "_dom_classes": [],
            "_model_module": "@jupyter-widgets/controls",
            "_model_module_version": "1.5.0",
            "_model_name": "HTMLModel",
            "_view_count": null,
            "_view_module": "@jupyter-widgets/controls",
            "_view_module_version": "1.5.0",
            "_view_name": "HTMLView",
            "description": "",
            "description_tooltip": null,
            "layout": "IPY_MODEL_f5a986f51865470881b2a643d9a83597",
            "placeholder": "​",
            "style": "IPY_MODEL_02ae8d0d38724d57a231734768837b96",
            "value": "100%"
          }
        },
        "ae886d7b6a9c4971ba79ea7827e07fc3": {
          "model_module": "@jupyter-widgets/controls",
          "model_name": "FloatProgressModel",
          "model_module_version": "1.5.0",
          "state": {
            "_dom_classes": [],
            "_model_module": "@jupyter-widgets/controls",
            "_model_module_version": "1.5.0",
            "_model_name": "FloatProgressModel",
            "_view_count": null,
            "_view_module": "@jupyter-widgets/controls",
            "_view_module_version": "1.5.0",
            "_view_name": "ProgressView",
            "bar_style": "success",
            "description": "",
            "description_tooltip": null,
            "layout": "IPY_MODEL_33d9873506f9449db284457fb2f7a95c",
            "max": 40000,
            "min": 0,
            "orientation": "horizontal",
            "style": "IPY_MODEL_fffecdb96c8f4c51840b2a09d5dc91cf",
            "value": 40000
          }
        },
        "bea8662ba12a4b3f906b48096c8ce877": {
          "model_module": "@jupyter-widgets/controls",
          "model_name": "HTMLModel",
          "model_module_version": "1.5.0",
          "state": {
            "_dom_classes": [],
            "_model_module": "@jupyter-widgets/controls",
            "_model_module_version": "1.5.0",
            "_model_name": "HTMLModel",
            "_view_count": null,
            "_view_module": "@jupyter-widgets/controls",
            "_view_module_version": "1.5.0",
            "_view_name": "HTMLView",
            "description": "",
            "description_tooltip": null,
            "layout": "IPY_MODEL_5bf6c19517364eeb8043250f4cc65f6e",
            "placeholder": "​",
            "style": "IPY_MODEL_226d61b2375b47a088528088edbf38a2",
            "value": " 40000/40000 [00:00&lt;00:00, 48729.24it/s]"
          }
        },
        "f4d3a5abe24143c2b6d75296caccae5c": {
          "model_module": "@jupyter-widgets/base",
          "model_name": "LayoutModel",
          "model_module_version": "1.2.0",
          "state": {
            "_model_module": "@jupyter-widgets/base",
            "_model_module_version": "1.2.0",
            "_model_name": "LayoutModel",
            "_view_count": null,
            "_view_module": "@jupyter-widgets/base",
            "_view_module_version": "1.2.0",
            "_view_name": "LayoutView",
            "align_content": null,
            "align_items": null,
            "align_self": null,
            "border": null,
            "bottom": null,
            "display": null,
            "flex": null,
            "flex_flow": null,
            "grid_area": null,
            "grid_auto_columns": null,
            "grid_auto_flow": null,
            "grid_auto_rows": null,
            "grid_column": null,
            "grid_gap": null,
            "grid_row": null,
            "grid_template_areas": null,
            "grid_template_columns": null,
            "grid_template_rows": null,
            "height": null,
            "justify_content": null,
            "justify_items": null,
            "left": null,
            "margin": null,
            "max_height": null,
            "max_width": null,
            "min_height": null,
            "min_width": null,
            "object_fit": null,
            "object_position": null,
            "order": null,
            "overflow": null,
            "overflow_x": null,
            "overflow_y": null,
            "padding": null,
            "right": null,
            "top": null,
            "visibility": null,
            "width": null
          }
        },
        "f5a986f51865470881b2a643d9a83597": {
          "model_module": "@jupyter-widgets/base",
          "model_name": "LayoutModel",
          "model_module_version": "1.2.0",
          "state": {
            "_model_module": "@jupyter-widgets/base",
            "_model_module_version": "1.2.0",
            "_model_name": "LayoutModel",
            "_view_count": null,
            "_view_module": "@jupyter-widgets/base",
            "_view_module_version": "1.2.0",
            "_view_name": "LayoutView",
            "align_content": null,
            "align_items": null,
            "align_self": null,
            "border": null,
            "bottom": null,
            "display": null,
            "flex": null,
            "flex_flow": null,
            "grid_area": null,
            "grid_auto_columns": null,
            "grid_auto_flow": null,
            "grid_auto_rows": null,
            "grid_column": null,
            "grid_gap": null,
            "grid_row": null,
            "grid_template_areas": null,
            "grid_template_columns": null,
            "grid_template_rows": null,
            "height": null,
            "justify_content": null,
            "justify_items": null,
            "left": null,
            "margin": null,
            "max_height": null,
            "max_width": null,
            "min_height": null,
            "min_width": null,
            "object_fit": null,
            "object_position": null,
            "order": null,
            "overflow": null,
            "overflow_x": null,
            "overflow_y": null,
            "padding": null,
            "right": null,
            "top": null,
            "visibility": null,
            "width": null
          }
        },
        "02ae8d0d38724d57a231734768837b96": {
          "model_module": "@jupyter-widgets/controls",
          "model_name": "DescriptionStyleModel",
          "model_module_version": "1.5.0",
          "state": {
            "_model_module": "@jupyter-widgets/controls",
            "_model_module_version": "1.5.0",
            "_model_name": "DescriptionStyleModel",
            "_view_count": null,
            "_view_module": "@jupyter-widgets/base",
            "_view_module_version": "1.2.0",
            "_view_name": "StyleView",
            "description_width": ""
          }
        },
        "33d9873506f9449db284457fb2f7a95c": {
          "model_module": "@jupyter-widgets/base",
          "model_name": "LayoutModel",
          "model_module_version": "1.2.0",
          "state": {
            "_model_module": "@jupyter-widgets/base",
            "_model_module_version": "1.2.0",
            "_model_name": "LayoutModel",
            "_view_count": null,
            "_view_module": "@jupyter-widgets/base",
            "_view_module_version": "1.2.0",
            "_view_name": "LayoutView",
            "align_content": null,
            "align_items": null,
            "align_self": null,
            "border": null,
            "bottom": null,
            "display": null,
            "flex": null,
            "flex_flow": null,
            "grid_area": null,
            "grid_auto_columns": null,
            "grid_auto_flow": null,
            "grid_auto_rows": null,
            "grid_column": null,
            "grid_gap": null,
            "grid_row": null,
            "grid_template_areas": null,
            "grid_template_columns": null,
            "grid_template_rows": null,
            "height": null,
            "justify_content": null,
            "justify_items": null,
            "left": null,
            "margin": null,
            "max_height": null,
            "max_width": null,
            "min_height": null,
            "min_width": null,
            "object_fit": null,
            "object_position": null,
            "order": null,
            "overflow": null,
            "overflow_x": null,
            "overflow_y": null,
            "padding": null,
            "right": null,
            "top": null,
            "visibility": null,
            "width": null
          }
        },
        "fffecdb96c8f4c51840b2a09d5dc91cf": {
          "model_module": "@jupyter-widgets/controls",
          "model_name": "ProgressStyleModel",
          "model_module_version": "1.5.0",
          "state": {
            "_model_module": "@jupyter-widgets/controls",
            "_model_module_version": "1.5.0",
            "_model_name": "ProgressStyleModel",
            "_view_count": null,
            "_view_module": "@jupyter-widgets/base",
            "_view_module_version": "1.2.0",
            "_view_name": "StyleView",
            "bar_color": null,
            "description_width": ""
          }
        },
        "5bf6c19517364eeb8043250f4cc65f6e": {
          "model_module": "@jupyter-widgets/base",
          "model_name": "LayoutModel",
          "model_module_version": "1.2.0",
          "state": {
            "_model_module": "@jupyter-widgets/base",
            "_model_module_version": "1.2.0",
            "_model_name": "LayoutModel",
            "_view_count": null,
            "_view_module": "@jupyter-widgets/base",
            "_view_module_version": "1.2.0",
            "_view_name": "LayoutView",
            "align_content": null,
            "align_items": null,
            "align_self": null,
            "border": null,
            "bottom": null,
            "display": null,
            "flex": null,
            "flex_flow": null,
            "grid_area": null,
            "grid_auto_columns": null,
            "grid_auto_flow": null,
            "grid_auto_rows": null,
            "grid_column": null,
            "grid_gap": null,
            "grid_row": null,
            "grid_template_areas": null,
            "grid_template_columns": null,
            "grid_template_rows": null,
            "height": null,
            "justify_content": null,
            "justify_items": null,
            "left": null,
            "margin": null,
            "max_height": null,
            "max_width": null,
            "min_height": null,
            "min_width": null,
            "object_fit": null,
            "object_position": null,
            "order": null,
            "overflow": null,
            "overflow_x": null,
            "overflow_y": null,
            "padding": null,
            "right": null,
            "top": null,
            "visibility": null,
            "width": null
          }
        },
        "226d61b2375b47a088528088edbf38a2": {
          "model_module": "@jupyter-widgets/controls",
          "model_name": "DescriptionStyleModel",
          "model_module_version": "1.5.0",
          "state": {
            "_model_module": "@jupyter-widgets/controls",
            "_model_module_version": "1.5.0",
            "_model_name": "DescriptionStyleModel",
            "_view_count": null,
            "_view_module": "@jupyter-widgets/base",
            "_view_module_version": "1.2.0",
            "_view_name": "StyleView",
            "description_width": ""
          }
        },
        "d0cd311b96414b28b4dfc8ff2ae0c6cf": {
          "model_module": "@jupyter-widgets/controls",
          "model_name": "HBoxModel",
          "model_module_version": "1.5.0",
          "state": {
            "_dom_classes": [],
            "_model_module": "@jupyter-widgets/controls",
            "_model_module_version": "1.5.0",
            "_model_name": "HBoxModel",
            "_view_count": null,
            "_view_module": "@jupyter-widgets/controls",
            "_view_module_version": "1.5.0",
            "_view_name": "HBoxView",
            "box_style": "",
            "children": [
              "IPY_MODEL_04de8e99846742de9e2703356fbc8bd1",
              "IPY_MODEL_27d8ebc1a65a4f1a87eab934a376e708",
              "IPY_MODEL_b7cc467aa2f74f3a9b684b0c47f2cf8b"
            ],
            "layout": "IPY_MODEL_b36c54541c554304bae1e2074748c198"
          }
        },
        "04de8e99846742de9e2703356fbc8bd1": {
          "model_module": "@jupyter-widgets/controls",
          "model_name": "HTMLModel",
          "model_module_version": "1.5.0",
          "state": {
            "_dom_classes": [],
            "_model_module": "@jupyter-widgets/controls",
            "_model_module_version": "1.5.0",
            "_model_name": "HTMLModel",
            "_view_count": null,
            "_view_module": "@jupyter-widgets/controls",
            "_view_module_version": "1.5.0",
            "_view_name": "HTMLView",
            "description": "",
            "description_tooltip": null,
            "layout": "IPY_MODEL_c1bb714605a047c7b0f5b13ae0caf9c0",
            "placeholder": "​",
            "style": "IPY_MODEL_c124ef90df8c4ec5854617c3ba2242ed",
            "value": "100%"
          }
        },
        "27d8ebc1a65a4f1a87eab934a376e708": {
          "model_module": "@jupyter-widgets/controls",
          "model_name": "FloatProgressModel",
          "model_module_version": "1.5.0",
          "state": {
            "_dom_classes": [],
            "_model_module": "@jupyter-widgets/controls",
            "_model_module_version": "1.5.0",
            "_model_name": "FloatProgressModel",
            "_view_count": null,
            "_view_module": "@jupyter-widgets/controls",
            "_view_module_version": "1.5.0",
            "_view_name": "ProgressView",
            "bar_style": "success",
            "description": "",
            "description_tooltip": null,
            "layout": "IPY_MODEL_e925844235344329a1a222fce30891cb",
            "max": 1250,
            "min": 0,
            "orientation": "horizontal",
            "style": "IPY_MODEL_d5bc297f47b2498ea36e19794309e949",
            "value": 1250
          }
        },
        "b7cc467aa2f74f3a9b684b0c47f2cf8b": {
          "model_module": "@jupyter-widgets/controls",
          "model_name": "HTMLModel",
          "model_module_version": "1.5.0",
          "state": {
            "_dom_classes": [],
            "_model_module": "@jupyter-widgets/controls",
            "_model_module_version": "1.5.0",
            "_model_name": "HTMLModel",
            "_view_count": null,
            "_view_module": "@jupyter-widgets/controls",
            "_view_module_version": "1.5.0",
            "_view_name": "HTMLView",
            "description": "",
            "description_tooltip": null,
            "layout": "IPY_MODEL_b65befe0653444f9866de8202a8eff30",
            "placeholder": "​",
            "style": "IPY_MODEL_553a9802dc21410e85a406c23a14c422",
            "value": " 1250/1250 [16:13&lt;00:00,  1.26it/s]"
          }
        },
        "b36c54541c554304bae1e2074748c198": {
          "model_module": "@jupyter-widgets/base",
          "model_name": "LayoutModel",
          "model_module_version": "1.2.0",
          "state": {
            "_model_module": "@jupyter-widgets/base",
            "_model_module_version": "1.2.0",
            "_model_name": "LayoutModel",
            "_view_count": null,
            "_view_module": "@jupyter-widgets/base",
            "_view_module_version": "1.2.0",
            "_view_name": "LayoutView",
            "align_content": null,
            "align_items": null,
            "align_self": null,
            "border": null,
            "bottom": null,
            "display": null,
            "flex": null,
            "flex_flow": null,
            "grid_area": null,
            "grid_auto_columns": null,
            "grid_auto_flow": null,
            "grid_auto_rows": null,
            "grid_column": null,
            "grid_gap": null,
            "grid_row": null,
            "grid_template_areas": null,
            "grid_template_columns": null,
            "grid_template_rows": null,
            "height": null,
            "justify_content": null,
            "justify_items": null,
            "left": null,
            "margin": null,
            "max_height": null,
            "max_width": null,
            "min_height": null,
            "min_width": null,
            "object_fit": null,
            "object_position": null,
            "order": null,
            "overflow": null,
            "overflow_x": null,
            "overflow_y": null,
            "padding": null,
            "right": null,
            "top": null,
            "visibility": null,
            "width": null
          }
        },
        "c1bb714605a047c7b0f5b13ae0caf9c0": {
          "model_module": "@jupyter-widgets/base",
          "model_name": "LayoutModel",
          "model_module_version": "1.2.0",
          "state": {
            "_model_module": "@jupyter-widgets/base",
            "_model_module_version": "1.2.0",
            "_model_name": "LayoutModel",
            "_view_count": null,
            "_view_module": "@jupyter-widgets/base",
            "_view_module_version": "1.2.0",
            "_view_name": "LayoutView",
            "align_content": null,
            "align_items": null,
            "align_self": null,
            "border": null,
            "bottom": null,
            "display": null,
            "flex": null,
            "flex_flow": null,
            "grid_area": null,
            "grid_auto_columns": null,
            "grid_auto_flow": null,
            "grid_auto_rows": null,
            "grid_column": null,
            "grid_gap": null,
            "grid_row": null,
            "grid_template_areas": null,
            "grid_template_columns": null,
            "grid_template_rows": null,
            "height": null,
            "justify_content": null,
            "justify_items": null,
            "left": null,
            "margin": null,
            "max_height": null,
            "max_width": null,
            "min_height": null,
            "min_width": null,
            "object_fit": null,
            "object_position": null,
            "order": null,
            "overflow": null,
            "overflow_x": null,
            "overflow_y": null,
            "padding": null,
            "right": null,
            "top": null,
            "visibility": null,
            "width": null
          }
        },
        "c124ef90df8c4ec5854617c3ba2242ed": {
          "model_module": "@jupyter-widgets/controls",
          "model_name": "DescriptionStyleModel",
          "model_module_version": "1.5.0",
          "state": {
            "_model_module": "@jupyter-widgets/controls",
            "_model_module_version": "1.5.0",
            "_model_name": "DescriptionStyleModel",
            "_view_count": null,
            "_view_module": "@jupyter-widgets/base",
            "_view_module_version": "1.2.0",
            "_view_name": "StyleView",
            "description_width": ""
          }
        },
        "e925844235344329a1a222fce30891cb": {
          "model_module": "@jupyter-widgets/base",
          "model_name": "LayoutModel",
          "model_module_version": "1.2.0",
          "state": {
            "_model_module": "@jupyter-widgets/base",
            "_model_module_version": "1.2.0",
            "_model_name": "LayoutModel",
            "_view_count": null,
            "_view_module": "@jupyter-widgets/base",
            "_view_module_version": "1.2.0",
            "_view_name": "LayoutView",
            "align_content": null,
            "align_items": null,
            "align_self": null,
            "border": null,
            "bottom": null,
            "display": null,
            "flex": null,
            "flex_flow": null,
            "grid_area": null,
            "grid_auto_columns": null,
            "grid_auto_flow": null,
            "grid_auto_rows": null,
            "grid_column": null,
            "grid_gap": null,
            "grid_row": null,
            "grid_template_areas": null,
            "grid_template_columns": null,
            "grid_template_rows": null,
            "height": null,
            "justify_content": null,
            "justify_items": null,
            "left": null,
            "margin": null,
            "max_height": null,
            "max_width": null,
            "min_height": null,
            "min_width": null,
            "object_fit": null,
            "object_position": null,
            "order": null,
            "overflow": null,
            "overflow_x": null,
            "overflow_y": null,
            "padding": null,
            "right": null,
            "top": null,
            "visibility": null,
            "width": null
          }
        },
        "d5bc297f47b2498ea36e19794309e949": {
          "model_module": "@jupyter-widgets/controls",
          "model_name": "ProgressStyleModel",
          "model_module_version": "1.5.0",
          "state": {
            "_model_module": "@jupyter-widgets/controls",
            "_model_module_version": "1.5.0",
            "_model_name": "ProgressStyleModel",
            "_view_count": null,
            "_view_module": "@jupyter-widgets/base",
            "_view_module_version": "1.2.0",
            "_view_name": "StyleView",
            "bar_color": null,
            "description_width": ""
          }
        },
        "b65befe0653444f9866de8202a8eff30": {
          "model_module": "@jupyter-widgets/base",
          "model_name": "LayoutModel",
          "model_module_version": "1.2.0",
          "state": {
            "_model_module": "@jupyter-widgets/base",
            "_model_module_version": "1.2.0",
            "_model_name": "LayoutModel",
            "_view_count": null,
            "_view_module": "@jupyter-widgets/base",
            "_view_module_version": "1.2.0",
            "_view_name": "LayoutView",
            "align_content": null,
            "align_items": null,
            "align_self": null,
            "border": null,
            "bottom": null,
            "display": null,
            "flex": null,
            "flex_flow": null,
            "grid_area": null,
            "grid_auto_columns": null,
            "grid_auto_flow": null,
            "grid_auto_rows": null,
            "grid_column": null,
            "grid_gap": null,
            "grid_row": null,
            "grid_template_areas": null,
            "grid_template_columns": null,
            "grid_template_rows": null,
            "height": null,
            "justify_content": null,
            "justify_items": null,
            "left": null,
            "margin": null,
            "max_height": null,
            "max_width": null,
            "min_height": null,
            "min_width": null,
            "object_fit": null,
            "object_position": null,
            "order": null,
            "overflow": null,
            "overflow_x": null,
            "overflow_y": null,
            "padding": null,
            "right": null,
            "top": null,
            "visibility": null,
            "width": null
          }
        },
        "553a9802dc21410e85a406c23a14c422": {
          "model_module": "@jupyter-widgets/controls",
          "model_name": "DescriptionStyleModel",
          "model_module_version": "1.5.0",
          "state": {
            "_model_module": "@jupyter-widgets/controls",
            "_model_module_version": "1.5.0",
            "_model_name": "DescriptionStyleModel",
            "_view_count": null,
            "_view_module": "@jupyter-widgets/base",
            "_view_module_version": "1.2.0",
            "_view_name": "StyleView",
            "description_width": ""
          }
        }
      }
    },
    "accelerator": "GPU"
  },
  "cells": [
    {
      "cell_type": "markdown",
      "source": [
        "# JHU JSALT Summer School IR Laboratory -- Part 5\n",
        "\n",
        "This notebook is mainly borrowed from the series of Colab notebooks created for the SIGIR 2023 Tutorial entitled '**Neural Methods for CLIR Tutorial**'. For more information, please visit their [repository](https://github.com/hltcoe/clir-tutorial).\n",
        "\n",
        "In this notebook we are going to walk through a CLIR example using a Translate-trained bi-encoder model BLADE to produce a ranked list on the NeuCLIR Chinese collection.\n"
      ],
      "metadata": {
        "id": "Gf3QADZx9uWO"
      }
    },
    {
      "cell_type": "markdown",
      "source": [
        "## Setup\n",
        "Replicating the steps from the official Anserini [notebook](https://github.com/castorini/anserini-notebooks/blob/master/anserini_robust04_demo.ipynb)"
      ],
      "metadata": {
        "id": "LMpCvJI7-B86"
      }
    },
    {
      "cell_type": "markdown",
      "source": [
        "We first download the precompiled image from maven. The code was written in 2023, which uses some deprecated functions are later removed from the latest version. In this notebook, we use Anserini 0.21.0."
      ],
      "metadata": {
        "id": "sJAWmxpmwocX"
      }
    },
    {
      "cell_type": "code",
      "source": [
        "!wget https://repo1.maven.org/maven2/io/anserini/anserini/0.21.0/anserini-0.21.0-fatjar.jar"
      ],
      "metadata": {
        "colab": {
          "base_uri": "https://localhost:8080/"
        },
        "id": "B9upp5utxdVR",
        "outputId": "8d31f653-28ca-4de7-e825-09feedbbb9f4"
      },
      "execution_count": null,
      "outputs": [
        {
          "output_type": "stream",
          "name": "stdout",
          "text": [
            "--2024-05-27 20:42:07--  https://repo1.maven.org/maven2/io/anserini/anserini/0.21.0/anserini-0.21.0-fatjar.jar\n",
            "Resolving repo1.maven.org (repo1.maven.org)... 199.232.192.209, 199.232.196.209, 2a04:4e42:4c::209, ...\n",
            "Connecting to repo1.maven.org (repo1.maven.org)|199.232.192.209|:443... connected.\n",
            "HTTP request sent, awaiting response... 200 OK\n",
            "Length: 159044007 (152M) [application/java-archive]\n",
            "Saving to: ‘anserini-0.21.0-fatjar.jar’\n",
            "\n",
            "anserini-0.21.0-fat 100%[===================>] 151.68M  30.2MB/s    in 5.8s    \n",
            "\n",
            "2024-05-27 20:42:15 (26.3 MB/s) - ‘anserini-0.21.0-fatjar.jar’ saved [159044007/159044007]\n",
            "\n"
          ]
        }
      ]
    },
    {
      "cell_type": "markdown",
      "source": [
        "Let's install the packages!\n",
        "The following command will install `ir_measurees`, Huggingface `datasets`, Google Translate (for presentation), and Huggingface Transformers."
      ],
      "metadata": {
        "id": "QAnsVLdaMm7G"
      }
    },
    {
      "cell_type": "code",
      "source": [
        "!pip install -q -U --progress-bar on ir_measures transformers datasets googletrans==3.1.0a0"
      ],
      "metadata": {
        "colab": {
          "base_uri": "https://localhost:8080/"
        },
        "id": "ZVlNOiqpB2ps",
        "outputId": "36203a94-260d-473d-d24d-71f83390dbb3"
      },
      "execution_count": null,
      "outputs": [
        {
          "output_type": "stream",
          "name": "stdout",
          "text": [
            "\u001b[?25l     \u001b[90m━━━━━━━━━━━━━━━━━━━━━━━━━━━━━━━━━━━━━━━━\u001b[0m \u001b[32m0.0/48.8 kB\u001b[0m \u001b[31m?\u001b[0m eta \u001b[36m-:--:--\u001b[0m\r\u001b[2K     \u001b[90m━━━━━━━━━━━━━━━━━━━━━━━━━━━━━━━━━━━━━━━━\u001b[0m \u001b[32m48.8/48.8 kB\u001b[0m \u001b[31m2.3 MB/s\u001b[0m eta \u001b[36m0:00:00\u001b[0m\n",
            "\u001b[?25h  Preparing metadata (setup.py) ... \u001b[?25l\u001b[?25hdone\n",
            "\u001b[2K     \u001b[90m━━━━━━━━━━━━━━━━━━━━━━━━━━━━━━━━━━━━━━━━\u001b[0m \u001b[32m7.2/7.2 MB\u001b[0m \u001b[31m53.6 MB/s\u001b[0m eta \u001b[36m0:00:00\u001b[0m\n",
            "\u001b[2K     \u001b[90m━━━━━━━━━━━━━━━━━━━━━━━━━━━━━━━━━━━━━━\u001b[0m \u001b[32m486.2/486.2 kB\u001b[0m \u001b[31m36.1 MB/s\u001b[0m eta \u001b[36m0:00:00\u001b[0m\n",
            "\u001b[?25h  Preparing metadata (setup.py) ... \u001b[?25l\u001b[?25hdone\n",
            "\u001b[2K     \u001b[90m━━━━━━━━━━━━━━━━━━━━━━━━━━━━━━━━━━━━━━━━\u001b[0m \u001b[32m55.1/55.1 kB\u001b[0m \u001b[31m5.5 MB/s\u001b[0m eta \u001b[36m0:00:00\u001b[0m\n",
            "\u001b[2K     \u001b[90m━━━━━━━━━━━━━━━━━━━━━━━━━━━━━━━━━━━━━━━━\u001b[0m \u001b[32m1.5/1.5 MB\u001b[0m \u001b[31m71.7 MB/s\u001b[0m eta \u001b[36m0:00:00\u001b[0m\n",
            "\u001b[2K     \u001b[90m━━━━━━━━━━━━━━━━━━━━━━━━━━━━━━━━━━━━━━\u001b[0m \u001b[32m133.4/133.4 kB\u001b[0m \u001b[31m16.0 MB/s\u001b[0m eta \u001b[36m0:00:00\u001b[0m\n",
            "\u001b[2K     \u001b[90m━━━━━━━━━━━━━━━━━━━━━━━━━━━━━━━━━━━━━━━━\u001b[0m \u001b[32m58.8/58.8 kB\u001b[0m \u001b[31m7.8 MB/s\u001b[0m eta \u001b[36m0:00:00\u001b[0m\n",
            "\u001b[2K     \u001b[90m━━━━━━━━━━━━━━━━━━━━━━━━━━━━━━━━━━━━━━━━\u001b[0m \u001b[32m42.6/42.6 kB\u001b[0m \u001b[31m5.6 MB/s\u001b[0m eta \u001b[36m0:00:00\u001b[0m\n",
            "\u001b[2K     \u001b[90m━━━━━━━━━━━━━━━━━━━━━━━━━━━━━━━━━━━━━━━━\u001b[0m \u001b[32m53.6/53.6 kB\u001b[0m \u001b[31m7.4 MB/s\u001b[0m eta \u001b[36m0:00:00\u001b[0m\n",
            "\u001b[2K     \u001b[90m━━━━━━━━━━━━━━━━━━━━━━━━━━━━━━━━━━━━━━━━\u001b[0m \u001b[32m65.0/65.0 kB\u001b[0m \u001b[31m8.8 MB/s\u001b[0m eta \u001b[36m0:00:00\u001b[0m\n",
            "\u001b[2K     \u001b[90m━━━━━━━━━━━━━━━━━━━━━━━━━━━━━━━━━━━━━━\u001b[0m \u001b[32m287.4/287.4 kB\u001b[0m \u001b[31m33.3 MB/s\u001b[0m eta \u001b[36m0:00:00\u001b[0m\n",
            "\u001b[?25h  Preparing metadata (setup.py) ... \u001b[?25l\u001b[?25hdone\n",
            "\u001b[2K     \u001b[90m━━━━━━━━━━━━━━━━━━━━━━━━━━━━━━━━━━━━━━\u001b[0m \u001b[32m268.8/268.8 kB\u001b[0m \u001b[31m28.7 MB/s\u001b[0m eta \u001b[36m0:00:00\u001b[0m\n",
            "\u001b[2K     \u001b[90m━━━━━━━━━━━━━━━━━━━━━━━━━━━━━━━━━━━━━━━━\u001b[0m \u001b[32m7.8/7.8 MB\u001b[0m \u001b[31m104.9 MB/s\u001b[0m eta \u001b[36m0:00:00\u001b[0m\n",
            "\u001b[2K     \u001b[90m━━━━━━━━━━━━━━━━━━━━━━━━━━━━━━━━━━━━━━━━\u001b[0m \u001b[32m1.3/1.3 MB\u001b[0m \u001b[31m70.6 MB/s\u001b[0m eta \u001b[36m0:00:00\u001b[0m\n",
            "\u001b[2K     \u001b[90m━━━━━━━━━━━━━━━━━━━━━━━━━━━━━━━━━━━━━━\u001b[0m \u001b[32m110.5/110.5 kB\u001b[0m \u001b[31m13.9 MB/s\u001b[0m eta \u001b[36m0:00:00\u001b[0m\n",
            "\u001b[2K     \u001b[90m━━━━━━━━━━━━━━━━━━━━━━━━━━━━━━━━━━━━━━\u001b[0m \u001b[32m212.5/212.5 kB\u001b[0m \u001b[31m23.7 MB/s\u001b[0m eta \u001b[36m0:00:00\u001b[0m\n",
            "\u001b[2K     \u001b[90m━━━━━━━━━━━━━━━━━━━━━━━━━━━━━━━━━━━━━━\u001b[0m \u001b[32m134.3/134.3 kB\u001b[0m \u001b[31m12.4 MB/s\u001b[0m eta \u001b[36m0:00:00\u001b[0m\n",
            "\u001b[?25h  Building wheel for googletrans (setup.py) ... \u001b[?25l\u001b[?25hdone\n",
            "  Building wheel for ir_measures (setup.py) ... \u001b[?25l\u001b[?25hdone\n",
            "  Building wheel for cwl-eval (setup.py) ... \u001b[?25l\u001b[?25hdone\n"
          ]
        }
      ]
    },
    {
      "cell_type": "markdown",
      "source": [
        "After installation, let's download the dataset. The NeuCLIR 1 Collection is publicly available on Huggingface Datasets! Topics and qrels are available on the TREC website, from which we will directly download it.\n",
        "\n",
        "Working with the entire NeuCLIR Chinese collection will take too much indexing time. For this demonstration, we'll just use the first 40k documents."
      ],
      "metadata": {
        "id": "LiZVp9JgMtaL"
      }
    },
    {
      "cell_type": "code",
      "source": [
        "# Download topics and qrels from NIST\n",
        "!wget -q --show-progress https://trec.nist.gov/data/neuclir/topics.0720.utf8.jsonl\n",
        "!wget -q --show-progress https://trec.nist.gov/data/neuclir/2022-qrels.zho\n",
        "\n",
        "import json\n",
        "import pandas as pd\n",
        "from tqdm.auto import tqdm\n",
        "\n",
        "import ir_measures as irms\n",
        "from datasets import load_dataset\n",
        "\n",
        "# Only loading the first 40k docs from HF Datasets\n",
        "ds = load_dataset('neuclir/neuclir1', split='zho', streaming=True) # total 3179209\n",
        "doc_subset = [ o for i, o in zip(tqdm(range(40_000), desc='Loading first 40k docs from NeuCLIR Chinese Collection'), ds) ]\n",
        "subset_doc_ids = set([ d['id'] for d in doc_subset ])\n",
        "\n",
        "use_topic = '66' # use topic 66 as demo -- expecting to have 9 relevant docs\n",
        "\n",
        "qrels = pd.DataFrame([ l for l in irms.read_trec_qrels('2022-qrels.zho') if l.query_id == use_topic and l.doc_id in subset_doc_ids ])\n",
        "topics = [ t for t in map(json.loads, open(\"topics.0720.utf8.jsonl\")) if t['topic_id'] == use_topic ]"
      ],
      "metadata": {
        "colab": {
          "base_uri": "https://localhost:8080/",
          "height": 149,
          "referenced_widgets": [
            "19129db08a4d45ac9a7451c54fa6294e",
            "83f94e7318f7470e84e57bb9793cd516",
            "21febb8af09845e3b4035ca4d7b4e6f5",
            "2eb7be5cf5724ff2abdbb11d574d13df",
            "d5c2bfc469dd4d75a15456e9f5139703",
            "b04d6073e65845c4b0e70945a95c23a2",
            "bef41c64e3a64f71b4fdb32b00bfb90b",
            "dc51464eadf942aaab5dab9ec166c6cc",
            "f4b0311ca9ad412296d0614a3517169e",
            "d3da9c98fd4c4bcbb0df491a28e234fb",
            "c674c869c50e4eb8a2b63d5b928a6b82",
            "0dc339c38da74695a179d6004f63d0e5",
            "f728ebeea0a845dcbc2c6b607c6bc978",
            "f8a9fd28144d456baf5912b92a04c251",
            "f863f30570744e3483bf124b2b0667b0",
            "5d3236474a4f41b2b0b2f8b8e6d7acf2",
            "474e96e623aa49c8a603801db8ab73e5",
            "0d9c8dba0a10477dbb3449ae1124ee17",
            "cbfc4a83c769442b9a25c27bcc5a38a8",
            "3869a56e41df4c418d04ed4f623ba50c",
            "3bdc109f2eef4108b0f01eb2d1b641e9",
            "cb92e9d3f2d4438a87d9ca41b1e461a8",
            "b16ee4cb317c4148a51659b04a87aa9a",
            "6e1648b5d8594515b03da651c375a26a",
            "07a81aa9807840bbab84804d45740c05",
            "e7f39db62bd242a087d42947b504248f",
            "1f684d285e65464fa702c9881b5143bf",
            "38739a346bbf497894bcbe7490aba6b9",
            "c8b80b5f957b4e9cb73afe4362f83f93",
            "fd8f17f50ac94bd8bcc6d6314d1a4379",
            "4345f1024bec4be4b245310f3f223ddc",
            "aec3d14f998a4766887c6f5abd9baed3",
            "9e21e3cb60ee4f32ab957eb86d8d400c"
          ]
        },
        "id": "PI64O_uLCK_o",
        "outputId": "6e012b12-696c-4198-8eb7-56840bcb4134"
      },
      "execution_count": null,
      "outputs": [
        {
          "output_type": "stream",
          "name": "stdout",
          "text": [
            "topics.0720.utf8.js 100%[===================>] 646.75K  --.-KB/s    in 0.1s    \n",
            "2022-qrels.zho      100%[===================>]   1.54M  9.01MB/s    in 0.2s    \n"
          ]
        },
        {
          "output_type": "display_data",
          "data": {
            "text/plain": [
              "Downloading builder script:   0%|          | 0.00/1.31k [00:00<?, ?B/s]"
            ],
            "application/vnd.jupyter.widget-view+json": {
              "version_major": 2,
              "version_minor": 0,
              "model_id": "19129db08a4d45ac9a7451c54fa6294e"
            }
          },
          "metadata": {}
        },
        {
          "output_type": "display_data",
          "data": {
            "text/plain": [
              "Downloading readme:   0%|          | 0.00/1.48k [00:00<?, ?B/s]"
            ],
            "application/vnd.jupyter.widget-view+json": {
              "version_major": 2,
              "version_minor": 0,
              "model_id": "0dc339c38da74695a179d6004f63d0e5"
            }
          },
          "metadata": {}
        },
        {
          "output_type": "display_data",
          "data": {
            "text/plain": [
              "Loading first 40k docs from NeuCLIR Chinese Collection:   0%|          | 0/40000 [00:00<?, ?it/s]"
            ],
            "application/vnd.jupyter.widget-view+json": {
              "version_major": 2,
              "version_minor": 0,
              "model_id": "b16ee4cb317c4148a51659b04a87aa9a"
            }
          },
          "metadata": {}
        }
      ]
    },
    {
      "cell_type": "markdown",
      "source": [
        "Here we create helper functions so we can obtain the query and document text more conveniently.\n"
      ],
      "metadata": {
        "id": "Vwthe0HUM0Mu"
      }
    },
    {
      "cell_type": "code",
      "source": [
        "topic_id_idx = { t['topic_id']: i for i, t in enumerate(topics) }\n",
        "def get_query_by_topic_id(topic_id, query_type='title', lang=\"eng\"):\n",
        "    for topic in topics[ topic_id_idx[topic_id] ]['topics']:\n",
        "      if topic[\"lang\"] == lang:\n",
        "        return topic[f'topic_{query_type}']\n",
        "\n",
        "doc_id_to_idx = { d['id']: i for i, d in enumerate(doc_subset) }\n",
        "def get_doc_text_by_doc_id(doc_id):\n",
        "    doc = doc_subset[ doc_id_to_idx[doc_id] ]\n",
        "    return doc['title'] + ' ' + doc['text']"
      ],
      "metadata": {
        "id": "wQEp7jlVCZFj"
      },
      "execution_count": null,
      "outputs": []
    },
    {
      "cell_type": "markdown",
      "source": [
        "## BLADE model\n",
        "\n",
        "BLADE is a transformer-based model initialized with a pruned bilingual language model that generates sparse vectors for queries and documents.\n",
        "The following creates a `Blade` class that will make it easier to feed the query (or document) into the model and obtain sparse vectors with dimension spanning the bilingual vocabulary of the underyling language model."
      ],
      "metadata": {
        "id": "q85mWINbM3Ge"
      }
    },
    {
      "cell_type": "code",
      "source": [
        "import json\n",
        "import torch\n",
        "\n",
        "from transformers import AutoModelForMaskedLM\n",
        "\n",
        "class Blade(torch.nn.Module):\n",
        "\n",
        "    def __init__(self, model_type_or_dir):\n",
        "        super().__init__()\n",
        "        self.transformer = AutoModelForMaskedLM.from_pretrained(model_type_or_dir)\n",
        "\n",
        "    def forward(self, **kwargs):\n",
        "        out = self.transformer(**kwargs)[\"logits\"] # output (logits) of MLM head, shape (bs, pad_len, voc_size)\n",
        "        values, _ = torch.max(torch.log(1 + torch.relu(out)) * kwargs[\"attention_mask\"].unsqueeze(-1), dim=1)\n",
        "        return values"
      ],
      "metadata": {
        "id": "MAtVI3Hfaj2F"
      },
      "execution_count": null,
      "outputs": []
    },
    {
      "cell_type": "markdown",
      "source": [
        "## Indexing"
      ],
      "metadata": {
        "id": "WbD7iXPfH5BU"
      }
    },
    {
      "cell_type": "markdown",
      "source": [
        "Indexing with BLADE is a two-step process.\n",
        "\n",
        "\n",
        "1.   We generate the sparse weights for a subset of the documents using the fine-tuned model.\n",
        "2.   We store the generated weights into a sparse index using Anserini.\n",
        "\n",
        "\n"
      ],
      "metadata": {
        "id": "v8caQAg2NmIG"
      }
    },
    {
      "cell_type": "code",
      "source": [
        "!mkdir -p collection"
      ],
      "metadata": {
        "id": "KOK9O2yqH6eC"
      },
      "execution_count": null,
      "outputs": []
    },
    {
      "cell_type": "markdown",
      "source": [
        "Helper function that takes in a batch of documents and generates sparse vectors by preserving the highest top-k weights."
      ],
      "metadata": {
        "id": "xe70Yq6AYNuA"
      }
    },
    {
      "cell_type": "code",
      "source": [
        "def process_text(docs, ids, model, tokenizer, device, reverse_voc, max_length, top_k):\n",
        "  with torch.inference_mode():\n",
        "    features = tokenizer(\n",
        "        docs, return_tensors = \"pt\", max_length = max_length,\n",
        "        padding = True, truncation = True\n",
        "    )\n",
        "    features = {key: val.to(device) for key, val in features.items()}\n",
        "    doc_reps = model(**features)\n",
        "\n",
        "  cols = [torch.nonzero(x).squeeze().cpu().tolist() for x in torch.unbind(doc_reps, dim = 0)]\n",
        "\n",
        "  res = {}\n",
        "  for col, doc_rep, id_ in zip(cols, doc_reps, ids):\n",
        "    weights = doc_rep[col].cpu().tolist()\n",
        "\n",
        "    if type(col) == list:\n",
        "      weights_dict = {k : v for k, v in zip(col, weights)}\n",
        "    else:\n",
        "      weights_dict = {col : weights}\n",
        "\n",
        "    tokids = heapq.nlargest(top_k, weights_dict, key = weights_dict.__getitem__)\n",
        "    tokids = set(tokids)\n",
        "\n",
        "    dict_blade = {\n",
        "      reverse_voc[k]: round(v * 100)\n",
        "      for k, v in weights_dict.items() if  k in tokids and round(v * 100) > 0\n",
        "    }\n",
        "\n",
        "    dict_blade = dict(sorted(dict_blade.items(), key = operator.itemgetter(1), reverse = True))\n",
        "\n",
        "    if len(dict_blade.keys()) == 0:\n",
        "      print(\"empty input =>\", id_)\n",
        "      dict_blade['\"[unused993]\"'] = 1\n",
        "\n",
        "    res[id_] = dict_blade\n",
        "  return res"
      ],
      "metadata": {
        "id": "GiNpaRlXV0vx"
      },
      "execution_count": null,
      "outputs": []
    },
    {
      "cell_type": "markdown",
      "source": [
        "Loading the BLADE model. Make sure to change the runtime type to include the free GPU (T4)."
      ],
      "metadata": {
        "id": "u-wnXrcfYfPD"
      }
    },
    {
      "cell_type": "code",
      "source": [
        "import json\n",
        "import math\n",
        "import heapq\n",
        "import torch\n",
        "import operator\n",
        "\n",
        "from transformers import AutoTokenizer\n",
        "\n",
        "model_name = \"srnair/blade-en-zh\"\n",
        "\n",
        "tokenizer = AutoTokenizer.from_pretrained(model_name)\n",
        "model = Blade(model_name)\n",
        "device = torch.device(\"cuda\")\n",
        "model.to(device)\n",
        "model.eval()\n"
      ],
      "metadata": {
        "colab": {
          "base_uri": "https://localhost:8080/"
        },
        "id": "4Hg8HgyRY812",
        "outputId": "b1f28fa8-7419-41ad-a79c-63427ab185e1"
      },
      "execution_count": null,
      "outputs": [
        {
          "output_type": "execute_result",
          "data": {
            "text/plain": [
              "Blade(\n",
              "  (transformer): BertForMaskedLM(\n",
              "    (bert): BertModel(\n",
              "      (embeddings): BertEmbeddings(\n",
              "        (word_embeddings): Embedding(35225, 768, padding_idx=0)\n",
              "        (position_embeddings): Embedding(512, 768)\n",
              "        (token_type_embeddings): Embedding(2, 768)\n",
              "        (LayerNorm): LayerNorm((768,), eps=1e-12, elementwise_affine=True)\n",
              "        (dropout): Dropout(p=0.1, inplace=False)\n",
              "      )\n",
              "      (encoder): BertEncoder(\n",
              "        (layer): ModuleList(\n",
              "          (0-11): 12 x BertLayer(\n",
              "            (attention): BertAttention(\n",
              "              (self): BertSelfAttention(\n",
              "                (query): Linear(in_features=768, out_features=768, bias=True)\n",
              "                (key): Linear(in_features=768, out_features=768, bias=True)\n",
              "                (value): Linear(in_features=768, out_features=768, bias=True)\n",
              "                (dropout): Dropout(p=0.1, inplace=False)\n",
              "              )\n",
              "              (output): BertSelfOutput(\n",
              "                (dense): Linear(in_features=768, out_features=768, bias=True)\n",
              "                (LayerNorm): LayerNorm((768,), eps=1e-12, elementwise_affine=True)\n",
              "                (dropout): Dropout(p=0.1, inplace=False)\n",
              "              )\n",
              "            )\n",
              "            (intermediate): BertIntermediate(\n",
              "              (dense): Linear(in_features=768, out_features=3072, bias=True)\n",
              "              (intermediate_act_fn): GELUActivation()\n",
              "            )\n",
              "            (output): BertOutput(\n",
              "              (dense): Linear(in_features=3072, out_features=768, bias=True)\n",
              "              (LayerNorm): LayerNorm((768,), eps=1e-12, elementwise_affine=True)\n",
              "              (dropout): Dropout(p=0.1, inplace=False)\n",
              "            )\n",
              "          )\n",
              "        )\n",
              "      )\n",
              "    )\n",
              "    (cls): BertOnlyMLMHead(\n",
              "      (predictions): BertLMPredictionHead(\n",
              "        (transform): BertPredictionHeadTransform(\n",
              "          (dense): Linear(in_features=768, out_features=768, bias=True)\n",
              "          (transform_act_fn): GELUActivation()\n",
              "          (LayerNorm): LayerNorm((768,), eps=1e-12, elementwise_affine=True)\n",
              "        )\n",
              "        (decoder): Linear(in_features=768, out_features=35225, bias=True)\n",
              "      )\n",
              "    )\n",
              "  )\n",
              ")"
            ]
          },
          "metadata": {},
          "execution_count": 14
        }
      ]
    },
    {
      "cell_type": "markdown",
      "source": [
        "Processing document identifiers and document text."
      ],
      "metadata": {
        "id": "lvJao5UMYnzo"
      }
    },
    {
      "cell_type": "code",
      "source": [
        "ids, docs = [], []\n",
        "for doc_id in tqdm(doc_id_to_idx, total = len(doc_id_to_idx)):\n",
        "  content = get_doc_text_by_doc_id(doc_id)\n",
        "  ids.append(doc_id)\n",
        "  docs.append(content.lower())"
      ],
      "metadata": {
        "colab": {
          "base_uri": "https://localhost:8080/",
          "height": 49,
          "referenced_widgets": [
            "9488edc4e4b44e66b5ca897b28510918",
            "7d653439a17744be8fa9d073f7e872a0",
            "ae886d7b6a9c4971ba79ea7827e07fc3",
            "bea8662ba12a4b3f906b48096c8ce877",
            "f4d3a5abe24143c2b6d75296caccae5c",
            "f5a986f51865470881b2a643d9a83597",
            "02ae8d0d38724d57a231734768837b96",
            "33d9873506f9449db284457fb2f7a95c",
            "fffecdb96c8f4c51840b2a09d5dc91cf",
            "5bf6c19517364eeb8043250f4cc65f6e",
            "226d61b2375b47a088528088edbf38a2"
          ]
        },
        "id": "t5XQ2rMTZFVh",
        "outputId": "3897451e-3ff0-4edb-8e97-82f0fb0e45a4"
      },
      "execution_count": null,
      "outputs": [
        {
          "output_type": "display_data",
          "data": {
            "text/plain": [
              "  0%|          | 0/40000 [00:00<?, ?it/s]"
            ],
            "application/vnd.jupyter.widget-view+json": {
              "version_major": 2,
              "version_minor": 0,
              "model_id": "9488edc4e4b44e66b5ca897b28510918"
            }
          },
          "metadata": {}
        }
      ]
    },
    {
      "cell_type": "markdown",
      "source": [
        "### First stage\n",
        "Running BLADE model on document texts. This step will take approximately 16 minutes on T4 GPU using a batch size of 32 documents."
      ],
      "metadata": {
        "id": "eB_65JzJYoKM"
      }
    },
    {
      "cell_type": "code",
      "source": [
        "reverse_voc = {v : k for k, v in tokenizer.vocab.items()}\n",
        "top_k = int(len(tokenizer) * 0.01) # Only preserving the top 10% of the highest weights\n",
        "max_length = 256\n",
        "batch_size = 32\n",
        "\n",
        "with open(\"collection/zho_blade_subset.jsonl\", \"w\") as f:\n",
        "    for i in tqdm(range(0, len(docs), batch_size), total = math.ceil(len(docs) / batch_size)):\n",
        "        doc = docs[i:i+batch_size]\n",
        "        pid = ids[i:i+batch_size]\n",
        "        res = process_text(doc, pid, model, tokenizer, device, reverse_voc, max_length, top_k)\n",
        "        for id_, text in zip(pid, doc):\n",
        "            dict_ = dict(id=id_, content=text, vector=res[id_])\n",
        "            f.write(json.dumps(dict_, ensure_ascii=False)+\"\\n\")"
      ],
      "metadata": {
        "colab": {
          "base_uri": "https://localhost:8080/",
          "height": 49,
          "referenced_widgets": [
            "d0cd311b96414b28b4dfc8ff2ae0c6cf",
            "04de8e99846742de9e2703356fbc8bd1",
            "27d8ebc1a65a4f1a87eab934a376e708",
            "b7cc467aa2f74f3a9b684b0c47f2cf8b",
            "b36c54541c554304bae1e2074748c198",
            "c1bb714605a047c7b0f5b13ae0caf9c0",
            "c124ef90df8c4ec5854617c3ba2242ed",
            "e925844235344329a1a222fce30891cb",
            "d5bc297f47b2498ea36e19794309e949",
            "b65befe0653444f9866de8202a8eff30",
            "553a9802dc21410e85a406c23a14c422"
          ]
        },
        "id": "Fdh2QakWICd7",
        "outputId": "8563b755-8ae2-473d-f9bb-b0aefea312a3"
      },
      "execution_count": null,
      "outputs": [
        {
          "output_type": "display_data",
          "data": {
            "text/plain": [
              "  0%|          | 0/1250 [00:00<?, ?it/s]"
            ],
            "application/vnd.jupyter.widget-view+json": {
              "version_major": 2,
              "version_minor": 0,
              "model_id": "d0cd311b96414b28b4dfc8ff2ae0c6cf"
            }
          },
          "metadata": {}
        }
      ]
    },
    {
      "cell_type": "markdown",
      "source": [
        "### Second stage\n",
        "Index the generated weights using Anserini. At the end of the indexing, you should see 40,000 documents indexed"
      ],
      "metadata": {
        "id": "DjYo_WQVZKvG"
      }
    },
    {
      "cell_type": "code",
      "source": [
        "!java -cp anserini-0.21.0-fatjar.jar io.anserini.index.IndexCollection \\\n",
        "  -collection JsonVectorCollection \\\n",
        "  -generator DefaultLuceneDocumentGenerator \\\n",
        "  -threads 9 \\\n",
        "  -input collection \\\n",
        "  -index indexes/zho_neuclir_subset_blade \\\n",
        "  -impact \\\n",
        "  -pretokenized"
      ],
      "metadata": {
        "colab": {
          "base_uri": "https://localhost:8080/"
        },
        "id": "OPRnXU_ZJted",
        "outputId": "b758eaca-6ec1-4427-cb46-ba83fc65dffb"
      },
      "execution_count": null,
      "outputs": [
        {
          "output_type": "stream",
          "name": "stdout",
          "text": [
            "2023-07-15 21:53:26,567 INFO  [main] index.IndexCollection (IndexCollection.java:380) - Setting log level to INFO\n",
            "2023-07-15 21:53:26,570 INFO  [main] index.IndexCollection (IndexCollection.java:383) - Starting indexer...\n",
            "2023-07-15 21:53:26,570 INFO  [main] index.IndexCollection (IndexCollection.java:384) - ============ Loading Parameters ============\n",
            "2023-07-15 21:53:26,570 INFO  [main] index.IndexCollection (IndexCollection.java:385) - DocumentCollection path: collection\n",
            "2023-07-15 21:53:26,573 INFO  [main] index.IndexCollection (IndexCollection.java:386) - CollectionClass: JsonVectorCollection\n",
            "2023-07-15 21:53:26,574 INFO  [main] index.IndexCollection (IndexCollection.java:387) - Generator: DefaultLuceneDocumentGenerator\n",
            "2023-07-15 21:53:26,575 INFO  [main] index.IndexCollection (IndexCollection.java:388) - Threads: 9\n",
            "2023-07-15 21:53:26,576 INFO  [main] index.IndexCollection (IndexCollection.java:389) - Language: en\n",
            "2023-07-15 21:53:26,576 INFO  [main] index.IndexCollection (IndexCollection.java:390) - Stemmer: porter\n",
            "2023-07-15 21:53:26,581 INFO  [main] index.IndexCollection (IndexCollection.java:391) - Keep stopwords? false\n",
            "2023-07-15 21:53:26,582 INFO  [main] index.IndexCollection (IndexCollection.java:392) - Stopwords: null\n",
            "2023-07-15 21:53:26,583 INFO  [main] index.IndexCollection (IndexCollection.java:393) - Store positions? false\n",
            "2023-07-15 21:53:26,584 INFO  [main] index.IndexCollection (IndexCollection.java:394) - Store docvectors? false\n",
            "2023-07-15 21:53:26,587 INFO  [main] index.IndexCollection (IndexCollection.java:395) - Store document \"contents\" field? false\n",
            "2023-07-15 21:53:26,588 INFO  [main] index.IndexCollection (IndexCollection.java:396) - Store document \"raw\" field? false\n",
            "2023-07-15 21:53:26,596 INFO  [main] index.IndexCollection (IndexCollection.java:397) - Additional fields to index: []\n",
            "2023-07-15 21:53:26,596 INFO  [main] index.IndexCollection (IndexCollection.java:398) - Optimize (merge segments)? false\n",
            "2023-07-15 21:53:26,597 INFO  [main] index.IndexCollection (IndexCollection.java:399) - Whitelist: null\n",
            "2023-07-15 21:53:26,597 INFO  [main] index.IndexCollection (IndexCollection.java:400) - Pretokenized?: true\n",
            "2023-07-15 21:53:26,598 INFO  [main] index.IndexCollection (IndexCollection.java:401) - Index path: indexes/zho_neuclir_subset_blade\n",
            "2023-07-15 21:53:26,611 INFO  [main] index.IndexCollection (IndexCollection.java:481) - ============ Indexing Collection ============\n",
            "2023-07-15 21:53:27,011 INFO  [main] index.IndexCollection (IndexCollection.java:510) - Thread pool with 9 threads initialized.\n",
            "2023-07-15 21:53:27,011 INFO  [main] index.IndexCollection (IndexCollection.java:512) - Initializing collection in collection\n",
            "2023-07-15 21:53:27,016 INFO  [main] index.IndexCollection (IndexCollection.java:521) - 1 file found\n",
            "2023-07-15 21:53:27,016 INFO  [main] index.IndexCollection (IndexCollection.java:522) - Starting to index...\n",
            "2023-07-15 21:54:27,027 INFO  [main] index.IndexCollection (IndexCollection.java:534) - 10,000 documents indexed\n",
            "2023-07-15 21:55:27,029 INFO  [main] index.IndexCollection (IndexCollection.java:534) - 20,000 documents indexed\n",
            "2023-07-15 21:56:26,463 INFO  [main] index.IndexCollection (IndexCollection.java:578) - Indexing Complete! 40,000 documents indexed\n",
            "2023-07-15 21:56:26,463 INFO  [main] index.IndexCollection (IndexCollection.java:579) - ============ Final Counter Values ============\n",
            "2023-07-15 21:56:26,464 INFO  [main] index.IndexCollection (IndexCollection.java:580) - indexed:           40,000\n",
            "2023-07-15 21:56:26,464 INFO  [main] index.IndexCollection (IndexCollection.java:581) - unindexable:            0\n",
            "2023-07-15 21:56:26,464 INFO  [main] index.IndexCollection (IndexCollection.java:582) - empty:                  0\n",
            "2023-07-15 21:56:26,464 INFO  [main] index.IndexCollection (IndexCollection.java:583) - skipped:                0\n",
            "2023-07-15 21:56:26,465 INFO  [main] index.IndexCollection (IndexCollection.java:584) - errors:                 0\n",
            "2023-07-15 21:56:26,471 INFO  [main] index.IndexCollection (IndexCollection.java:587) - Total 40,000 documents indexed in 00:02:59\n"
          ]
        }
      ]
    },
    {
      "cell_type": "markdown",
      "source": [
        "## Retrieval"
      ],
      "metadata": {
        "id": "lvVExJPLKt8J"
      }
    },
    {
      "cell_type": "markdown",
      "source": [
        "Post indexing of Chinese documents, we want to generate a ranked list for a given English query using the BLADE model. Similar to indexing, retrieval is a two-step process\n",
        "\n",
        "\n",
        "1.   We generate the sparse weights for a query using the fine-tuned model.\n",
        "2.   We perform retrieval using the generated query weights with Anserini.\n",
        "\n"
      ],
      "metadata": {
        "id": "G6UVYSqIZduV"
      }
    },
    {
      "cell_type": "code",
      "source": [
        "!mkdir -p runs"
      ],
      "metadata": {
        "id": "olQOGGtELlfY"
      },
      "execution_count": null,
      "outputs": []
    },
    {
      "cell_type": "markdown",
      "source": [
        "Get the English query for a specific topic_id (66)."
      ],
      "metadata": {
        "id": "ZH577j6PZoBV"
      }
    },
    {
      "cell_type": "code",
      "source": [
        "topic_text = get_query_by_topic_id(use_topic, lang=\"eng\")"
      ],
      "metadata": {
        "id": "H9Hl_YklKv5d"
      },
      "execution_count": null,
      "outputs": []
    },
    {
      "cell_type": "markdown",
      "source": [
        "### First stage\n",
        "Running BLADE on query text"
      ],
      "metadata": {
        "id": "3OHJHnRdaQl8"
      }
    },
    {
      "cell_type": "code",
      "source": [
        "max_length = 32 # set maximum query length to 32\n",
        "query_dict = process_text([topic_text], [\"66\"], model, tokenizer, device, reverse_voc, max_length, top_k)"
      ],
      "metadata": {
        "id": "XJxC5oYkK3u8"
      },
      "execution_count": null,
      "outputs": []
    },
    {
      "cell_type": "markdown",
      "source": [
        "Helper function to create query vectors in Anserini format"
      ],
      "metadata": {
        "id": "dBMmKoTGaWCx"
      }
    },
    {
      "cell_type": "code",
      "source": [
        "def get_anserini_query(id_, query_vector):\n",
        "  exp_query = \" \".join([\" \".join([key]*val) for key, val in query_vector.items()])\n",
        "  return f\"{id_}\\t{exp_query}\\n\""
      ],
      "metadata": {
        "id": "VIttiO93vNiY"
      },
      "execution_count": null,
      "outputs": []
    },
    {
      "cell_type": "code",
      "source": [
        "with open(\"zho_blade_topics.txt\", \"w\") as f:\n",
        "  f.write(get_anserini_query(use_topic, query_dict[use_topic]))"
      ],
      "metadata": {
        "id": "Se4tMvhdvo_6"
      },
      "execution_count": null,
      "outputs": []
    },
    {
      "cell_type": "markdown",
      "source": [
        "### Second stage\n",
        "Perform retrieval using Anserini"
      ],
      "metadata": {
        "id": "DsOH-CHlag2L"
      }
    },
    {
      "cell_type": "code",
      "source": [
        "!java -cp anserini-0.21.0-fatjar.jar io.anserini.search.SearchCollection \\\n",
        "  -index indexes/zho_neuclir_subset_blade \\\n",
        "  -topics zho_blade_topics.txt \\\n",
        "  -topicreader TsvInt \\\n",
        "  -output runs/zho_neuclir_subset_blade.title.txt \\\n",
        "  -impact \\\n",
        "  -pretokenized"
      ],
      "metadata": {
        "colab": {
          "base_uri": "https://localhost:8080/"
        },
        "id": "rybqyLaTLBSn",
        "outputId": "b2f92cb9-f9e2-4e28-e42d-b7e27fa15ef9"
      },
      "execution_count": null,
      "outputs": [
        {
          "output_type": "stream",
          "name": "stdout",
          "text": [
            "2023-07-15 21:56:27,876 INFO  [main] search.SearchCollection (SearchCollection.java:950) - ============ Initializing Searcher ============\n",
            "2023-07-15 21:56:27,880 INFO  [main] search.SearchCollection (SearchCollection.java:951) - Index: indexes/zho_neuclir_subset_blade\n",
            "2023-07-15 21:56:28,127 INFO  [main] search.SearchCollection (SearchCollection.java:955) - Fields: []\n",
            "2023-07-15 21:56:28,154 INFO  [main] search.SearchCollection (SearchCollection.java:1227) - runtag: Anserini\n",
            "2023-07-15 21:56:28,156 INFO  [main] search.SearchCollection (SearchCollection.java:1233) - ============ Launching Search Threads ============\n",
            "2023-07-15 21:56:29,318 INFO  [pool-2-thread-1] search.SearchCollection$SearcherThread (SearchCollection.java:883) - ranker: impact(), reranker: default: 1 queries processed in 00:00:01 = ~0.91 q/s\n",
            "2023-07-15 21:56:29,346 INFO  [main] search.SearchCollection (SearchCollection.java:1439) - Total run time: 00:00:01\n"
          ]
        }
      ]
    },
    {
      "cell_type": "markdown",
      "source": [
        "Scoring against the filtered qrels, this BLADE result is better than BM25 -- giving us an nDCG@20 of 0.5531 compared to 0.1483 for the same topic."
      ],
      "metadata": {
        "id": "AFjN1akRa1LW"
      }
    },
    {
      "cell_type": "code",
      "source": [
        "to_rerank = pd.DataFrame([ l for l in irms.read_trec_run(\"runs/zho_neuclir_subset_blade.title.txt\")])\n",
        "\n",
        "irms.calc_aggregate([irms.nDCG@20, irms.AP], qrels, to_rerank)"
      ],
      "metadata": {
        "colab": {
          "base_uri": "https://localhost:8080/"
        },
        "id": "37twjd5lLwvq",
        "outputId": "036d5e30-1293-454e-837b-169df8a05068"
      },
      "execution_count": null,
      "outputs": [
        {
          "output_type": "execute_result",
          "data": {
            "text/plain": [
              "{AP: 0.3504142956973146, nDCG@20: 0.5531909174508711}"
            ]
          },
          "metadata": {},
          "execution_count": 34
        }
      ]
    },
    {
      "cell_type": "markdown",
      "source": [
        "# Exercise\n",
        "Perform retrieval using a different topic id.\n",
        "\n",
        "For generating a score, refer to this [cell](https://colab.research.google.com/drive/1u_8ESzz_f26toFy45m17UQRZXGVqMt0B#scrollTo=PI64O_uLCK_o&line=19&uniqifier=1) on how to filter qrels to only include the chosen topic id.\n",
        "\n",
        "Try it out yourself here:"
      ],
      "metadata": {
        "id": "HSKd2s1ya7To"
      }
    },
    {
      "cell_type": "code",
      "source": [
        "# Your solution\n",
        "use_topic =\n",
        "qrels ="
      ],
      "metadata": {
        "id": "fp9iQGr9a7mL"
      },
      "execution_count": null,
      "outputs": []
    }
  ]
}
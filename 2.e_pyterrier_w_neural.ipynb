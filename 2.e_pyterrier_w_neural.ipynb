{
  "nbformat": 4,
  "nbformat_minor": 0,
  "metadata": {
    "colab": {
      "provenance": [],
      "toc_visible": true
    },
    "kernelspec": {
      "display_name": "Python 3",
      "name": "python3"
    },
    "language_info": {
      "name": "python"
    },
    "accelerator": "GPU"
  },
  "cells": [
    {
      "cell_type": "markdown",
      "metadata": {
        "id": "9egyhuvU3_GI"
      },
      "source": [
        "# JHU JSALT Summer School IR Laboratory -- Part 2 (extra)\n",
        "\n",
        "This notebook is mainly borrowed from the series of Colab notebooks created for the [CIKM 2021](https://www.cikm2021.org/) Tutorial entitled '**IR From Bag-of-words to BERT and Beyond through Practical Experiments**'. For more information, please visit their [repository](https://github.com/terrier-org/cikm2021tutorial).\n",
        "\n",
        "In particular, in this notebook you will:\n",
        "\n",
        " - Re-rank documents using neural models like KNRM, Vanilla BERT, EPIC, and monoT5.\n",
        " - Use DeepCT and doc2query to augment documents for lexical retrieval functions like BM25."
      ]
    },
    {
      "cell_type": "markdown",
      "metadata": {
        "id": "dl0-Gs6e5I7n"
      },
      "source": [
        "## Setup\n",
        "\n",
        "In the following, we will set up the libraries required to execute the notebook.\n",
        "\n",
        "### Pyterrier installation\n",
        "\n",
        "The following cell installs the latest release of the [PyTerrier](https://github.com/terrier-org/pyterrier) package."
      ]
    },
    {
      "cell_type": "code",
      "metadata": {
        "id": "zSgDzjKxqfq5"
      },
      "source": [
        "!pip install -q --upgrade python-terrier"
      ],
      "execution_count": null,
      "outputs": []
    },
    {
      "cell_type": "markdown",
      "metadata": {
        "id": "mV0C6jJvqhMR"
      },
      "source": [
        "### Pyterrier plugins installation\n",
        "\n",
        "We install the [OpenNIR](https://opennir.net/), [monoT5](https://github.com/terrierteam/pyterrier_t5), [DeepCT](https://github.com/terrierteam/pyterrier_deepct) and [doc2query](https://github.com/terrierteam/pyterrier_doc2query) PyTerrier plugins. You can safely ignore the package versioning errors."
      ]
    },
    {
      "cell_type": "code",
      "metadata": {
        "id": "AkIR_PXdet7R"
      },
      "source": [
        "!pip install -q --upgrade git+https://github.com/Georgetown-IR-Lab/OpenNIR\n",
        "!pip install -q --upgrade git+https://github.com/terrierteam/pyterrier_t5\n",
        "!pip install -q --upgrade git+https://github.com/terrierteam/pyterrier_deepct.git\n",
        "!pip install -q --upgrade git+https://github.com/terrierteam/pyterrier_doc2query.git"
      ],
      "execution_count": null,
      "outputs": []
    },
    {
      "cell_type": "markdown",
      "metadata": {
        "id": "A-nQrpNP5pN7"
      },
      "source": [
        "## Preliminary steps"
      ]
    },
    {
      "cell_type": "markdown",
      "metadata": {
        "id": "4H7TDkDIQuDR"
      },
      "source": [
        "These lines are needed for DeepCT and to make Tensorflow more quiet."
      ]
    },
    {
      "cell_type": "code",
      "metadata": {
        "id": "lPozTq7K4bVo"
      },
      "source": [
        "%tensorflow_version 1.x\n",
        "import os\n",
        "os.environ['TF_CPP_MIN_LOG_LEVEL'] = '2'\n",
        "import tensorflow as tf\n",
        "assert tf.__version__.startswith(\"1\"), \"TF 1 is required by DeepCT; on Colab, use %tensorflow_version 1.x\"\n",
        "tf.logging.set_verbosity(tf.logging.ERROR)"
      ],
      "execution_count": null,
      "outputs": []
    },
    {
      "cell_type": "markdown",
      "metadata": {
        "id": "YSUwC6S7QkQY"
      },
      "source": [
        "**[PyTerrier](https://github.com/terrier-org/pyterrier) initialization**\n",
        "\n",
        "Lets get [PyTerrier](https://github.com/terrier-org/pyterrier) started. This will download the latest version of the [Terrier](http://terrier.org/) IR platform. We also import the [OpenNIR](https://opennir.net/) pyterrier bindings."
      ]
    },
    {
      "cell_type": "code",
      "metadata": {
        "id": "6FegcyWr5lja"
      },
      "source": [
        "import pyterrier as pt\n",
        "if not pt.started():\n",
        "    pt.init()\n",
        "from pyterrier.measures import * # allow for natural measure names\n",
        "import onir_pt"
      ],
      "execution_count": null,
      "outputs": []
    },
    {
      "cell_type": "markdown",
      "metadata": {
        "id": "hPVjr448rIPc"
      },
      "source": [
        "### [TREC-COVID19](https://ir.nist.gov/covidSubmit/) Dataset download\n",
        "\n",
        "The following cell downloads the [TREC-COVID19](https://ir.nist.gov/covidSubmit/) dataset that we will use in the remainder of this notebook."
      ]
    },
    {
      "cell_type": "code",
      "metadata": {
        "id": "IJMHFRfArd7O"
      },
      "source": [
        "dataset = pt.datasets.get_dataset('irds:cord19/trec-covid')\n",
        "topics = dataset.get_topics(variant='description')\n",
        "qrels = dataset.get_qrels()"
      ],
      "execution_count": null,
      "outputs": []
    },
    {
      "cell_type": "markdown",
      "metadata": {
        "id": "OF3HIPhtrqOH"
      },
      "source": [
        "### Terrier inverted index download\n",
        "\n",
        "To save a few minutes, we use a pre-built Terrier inverted index for the TREC-COVID19 collection ([`'terrier_stemmed'`](http://data.terrier.org/trec-covid.dataset.html#terrier_stemmed) version). Download time took a few seconds for us."
      ]
    },
    {
      "cell_type": "code",
      "metadata": {
        "id": "6oCcP90yrlGi"
      },
      "source": [
        "index = pt.get_dataset('trec-covid').get_index('terrier_stemmed_positions')"
      ],
      "execution_count": null,
      "outputs": []
    },
    {
      "cell_type": "markdown",
      "metadata": {
        "id": "rwDams5M7g6c"
      },
      "source": [
        "## Re-Rankers from scratch\n",
        "\n",
        "Let's start exploring a few neural re-ranking methods! We can build them from scratch using `onir_pt.reranker`.\n",
        "\n",
        "And OpenNIR reranking model consists of:\n",
        " - `ranker` (e.g., `drmm`, `knrm`, or `pacrr`). This defines the neural ranking architecture.\n",
        " - `vocab` (e.g., `wordvec_hash`, or `bert`). This defines how text is encoded by the model. This approach makes it easy to swap out different text representations.\n",
        "\n",
        "This line will take a few minutes to run as it downloads and prepares the word vectors."
      ]
    },
    {
      "cell_type": "code",
      "metadata": {
        "id": "F0O79K2K6fvn"
      },
      "source": [
        "knrm = onir_pt.reranker('knrm', 'wordvec_hash', text_field='title_abstract')"
      ],
      "execution_count": null,
      "outputs": []
    },
    {
      "cell_type": "markdown",
      "metadata": {
        "id": "x1avVTpxDORN"
      },
      "source": [
        "Let's look at how well these models work at ranking!"
      ]
    },
    {
      "cell_type": "code",
      "metadata": {
        "id": "4FWUIN577v1O"
      },
      "source": [
        "br = pt.BatchRetrieve(index) % 50\n",
        "# build a sub-pipeline to get the concatenated title and abstract text\n",
        "get_title_abstract = pt.text.get_text(dataset, 'title') >> pt.text.get_text(dataset, 'abstract') >> pt.apply.title_abstract(lambda r: r['title'] + ' ' + r['abstract'])\n",
        "pipeline = br >> get_title_abstract >> knrm\n",
        "pt.Experiment(\n",
        "    [br, pipeline],\n",
        "    topics,\n",
        "    qrels,\n",
        "    names=['DPH', 'DPH >> KNRM'],\n",
        "    eval_metrics=[AP(rel=2), nDCG, nDCG@10, P(rel=2)@10]\n",
        ")"
      ],
      "execution_count": null,
      "outputs": []
    },
    {
      "cell_type": "markdown",
      "metadata": {
        "id": "MhquobQypVNJ"
      },
      "source": [
        "This doesn't work very well because the model is not trained; it's using random weights to combine the scores from the similarity matrix."
      ]
    },
    {
      "cell_type": "markdown",
      "metadata": {
        "id": "WLv7quA43yAP"
      },
      "source": [
        "## Loading a trained re-ranker\n",
        "\n",
        "You can train re-ranking models in PyTerrier using the `fit` method. This takes a bit of time, so we'll download a model that's already been trained. If you'd like to train the model yourself, you can use:\n",
        "\n",
        "```python\n",
        "# transfer training signals from a medical sample of MS MARCO\n",
        "from sklearn.model_selection import train_test_split\n",
        "train_ds = pt.datasets.get_dataset('irds:msmarco-passage/train/medical')\n",
        "train_topics, valid_topics = train_test_split(train_ds.get_topics(), test_size=50, random_state=42) # split into training and validation sets\n",
        "\n",
        "# Index MS MARCO\n",
        "indexer = pt.index.IterDictIndexer('./terrier_msmarco-passage')\n",
        "tr_index_ref = indexer.index(train_ds.get_corpus_iter(), fields=('text',), meta=('docno',))\n",
        "\n",
        "pipeline = (pt.BatchRetrieve(tr_index_ref) % 100 # get top 100 results\n",
        "            >> pt.text.get_text(train_ds, 'text') # fetch the document text\n",
        "            >> pt.apply.generic(lambda df: df.rename(columns={'text': 'abstract'})) # rename columns\n",
        "            >> knrm) # apply neural re-ranker\n",
        "\n",
        "pipeline.fit(\n",
        "    train_topics,\n",
        "    train_ds.get_qrels(),\n",
        "    valid_topics,\n",
        "    train_ds.get_qrels())\n",
        "```"
      ]
    },
    {
      "cell_type": "code",
      "metadata": {
        "id": "Yk7FBOgvDa8V"
      },
      "source": [
        "del knrm # free up the memory before loading a new version of the ranker\n",
        "knrm = onir_pt.reranker.from_checkpoint('https://macavaney.us/knrm.medmarco.tar.gz', text_field='title_abstract', expected_md5=\"d70b1d4f899690dae51161537e69ed5a\")"
      ],
      "execution_count": null,
      "outputs": []
    },
    {
      "cell_type": "code",
      "metadata": {
        "id": "1BQQKv8lL0Ta"
      },
      "source": [
        "pipeline = br >> get_title_abstract >> knrm\n",
        "pt.Experiment(\n",
        "    [br, pipeline],\n",
        "    topics,\n",
        "    qrels,\n",
        "    names=['DPH', 'DPH >> KNRM'],\n",
        "    baseline=0,\n",
        "    eval_metrics=[AP(rel=2), nDCG, nDCG@10, P(rel=2)@10]\n",
        ")"
      ],
      "execution_count": null,
      "outputs": []
    },
    {
      "cell_type": "markdown",
      "metadata": {
        "id": "aI1_8O8rtXKK"
      },
      "source": [
        "That's a little better than before, but it still underperforms our first-stage ranking model."
      ]
    },
    {
      "cell_type": "markdown",
      "metadata": {
        "id": "79l1jn0pRQEY"
      },
      "source": [
        "## Vanilla BERT\n",
        "\n",
        "Contextualized language models, such as [BERT](https://arxiv.org/abs/1810.04805), are much more powerful neural models that have been shown to be effective for ranking.\n",
        "\n",
        "We'll try using a \"vanilla\" (or \"mono\") version of the BERT model. The BERT model is pre-trained for the task of language modeling and next sentence prediction."
      ]
    },
    {
      "cell_type": "code",
      "metadata": {
        "id": "-qlXPHqN3iO0"
      },
      "source": [
        "del knrm # clear out memory from KNRM\n",
        "vbert = onir_pt.reranker('vanilla_transformer', 'bert', text_field='title_abstract', vocab_config={'train': True})"
      ],
      "execution_count": null,
      "outputs": []
    },
    {
      "cell_type": "markdown",
      "metadata": {
        "id": "progrVwaunrn"
      },
      "source": [
        "Let's see how this model does on TREC COVID."
      ]
    },
    {
      "cell_type": "code",
      "metadata": {
        "id": "PkasovrjQjy0"
      },
      "source": [
        "pipeline = br % 50 >> get_title_abstract >> vbert\n",
        "pt.Experiment(\n",
        "    [br, pipeline],\n",
        "    topics,\n",
        "    qrels,\n",
        "    names=['DPH', 'DPH >> VBERT'],\n",
        "    baseline=0,\n",
        "    eval_metrics=[AP(rel=2), nDCG, nDCG@10, P(rel=2)@10]\n",
        ")"
      ],
      "execution_count": null,
      "outputs": []
    },
    {
      "cell_type": "markdown",
      "metadata": {
        "id": "wBrfNZ_1u_pD"
      },
      "source": [
        "As we see, although the model is pre-trained, it doesn't do very well at ranking on our benchmark. This is because it's not tuned for the task of relevance ranking.\n",
        "\n",
        "We can train the model for ranking (as shown above for KNRM) or we can download a trained model. Here, we use the [SLEDGE](https://arxiv.org/abs/2010.05987) model, which is a Vanilla BERT model trained on scientific text and tuned on medical queries."
      ]
    },
    {
      "cell_type": "code",
      "metadata": {
        "id": "VsXQKNyYSXOj"
      },
      "source": [
        "sledge = onir_pt.reranker.from_checkpoint('https://macavaney.us/scibert-medmarco.tar.gz', text_field='title_abstract', expected_md5=\"854966d0b61543ffffa44cea627ab63b\")"
      ],
      "execution_count": null,
      "outputs": []
    },
    {
      "cell_type": "code",
      "metadata": {
        "id": "dUH-daNJSoNy"
      },
      "source": [
        "pipeline = br % 50 >> get_title_abstract >> sledge\n",
        "pt.Experiment(\n",
        "    [br, pipeline],\n",
        "    topics,\n",
        "    qrels,\n",
        "    names=['DPH', 'DPH >> SLEDGE'],\n",
        "    baseline=0,\n",
        "    eval_metrics=[AP(rel=2), nDCG, nDCG@10, P(rel=2)@10, 'mrt']\n",
        ")"
      ],
      "execution_count": null,
      "outputs": []
    },
    {
      "cell_type": "markdown",
      "metadata": {
        "id": "OtAxDQHyv4ON"
      },
      "source": [
        "That's much better! We're able to significantly improve upon the first stage ranker. But we can see that this is pretty slow to run."
      ]
    },
    {
      "cell_type": "markdown",
      "metadata": {
        "id": "xRcBOIBPRJre"
      },
      "source": [
        "## EPIC"
      ]
    },
    {
      "cell_type": "markdown",
      "metadata": {
        "id": "ef4O3PyAHMuS"
      },
      "source": [
        "Some models focus on query-time computational efficiency. The [EPIC](https://arxiv.org/abs/2004.14245) model builds light-weight document representations that are independent of the query. This means that they can be computed ahead of time. You can index the corpus yourself with the following code (but it takes a while):\n",
        "\n",
        "```python\n",
        "indexed_epic = onir_pt.indexed_epic.from_checkpoint('https://macavaney.us/epic.msmarco.tar.gz', index_path='./epic_cord19')\n",
        "indexed_epic.index(dataset.get_corpus_iter(), fields=('title', 'abstract'))\n",
        "```\n",
        "\n",
        "Instead, we'll download a copy of the EPIC-processed documents:"
      ]
    },
    {
      "cell_type": "code",
      "metadata": {
        "id": "OwkE23yfGl65"
      },
      "source": [
        "import os\n",
        "if not os.path.exists('epic_cord19.zip'):\n",
        "  !wget http://macavaney.us/epic_cord19.zip\n",
        "  !unzip epic_cord19.zip\n",
        "indexed_epic = onir_pt.indexed_epic.from_checkpoint('https://macavaney.us/epic.msmarco.tar.gz', index_path='./epic_cord19')"
      ],
      "execution_count": null,
      "outputs": []
    },
    {
      "cell_type": "markdown",
      "metadata": {
        "id": "y7LfbxJqw80B"
      },
      "source": [
        "We can now run this model over the results of a first-stage ranker. Note how we do not need to fetch the document text with `pt.text.get_text`, which further saves time."
      ]
    },
    {
      "cell_type": "code",
      "metadata": {
        "id": "tynDMGCYJCUv"
      },
      "source": [
        "br = pt.BatchRetrieve(index) % 50\n",
        "pipeline = (br >> indexed_epic.reranker())\n",
        "pt.Experiment(\n",
        "    [br, pipeline],\n",
        "    dataset.get_topics('description'),\n",
        "    dataset.get_qrels(),\n",
        "    names=['DPH', 'DPH >> EPIC (indexed)'],\n",
        "    eval_metrics=[AP(rel=2), nDCG, nDCG@10, P(rel=2)@10, \"mrt\"]\n",
        ")"
      ],
      "execution_count": null,
      "outputs": []
    },
    {
      "cell_type": "markdown",
      "metadata": {
        "id": "iCF-DglUPrB-"
      },
      "source": [
        "## Tuning re-ranking threshold\n",
        "\n",
        "[Prior work suggests](https://arxiv.org/pdf/1904.12683.pdf) that the re-ranking cutoff threshold is an important model hyperparameter. Let's see how this parameter affects EPIC."
      ]
    },
    {
      "cell_type": "code",
      "metadata": {
        "id": "osnHkyGtNy1m"
      },
      "source": [
        "cutoffs = [10, 20, 30, 40, 50, 60, 70, 80, 90, 100]\n",
        "dph = pt.BatchRetrieve(index)\n",
        "res = pt.Experiment(\n",
        "    [dph % cutoff >> indexed_epic.reranker() for cutoff in cutoffs],\n",
        "    dataset.get_topics('description'),\n",
        "    dataset.get_qrels(),\n",
        "    names=[f'c={cutoff}' for cutoff in cutoffs],\n",
        "    eval_metrics=[AP(rel=2), nDCG, nDCG@10, P(rel=2)@10, \"mrt\"]\n",
        ")\n",
        "res"
      ],
      "execution_count": null,
      "outputs": []
    },
    {
      "cell_type": "code",
      "metadata": {
        "id": "Yvq1gw8VO_rp"
      },
      "source": [
        "from matplotlib import pyplot as plt\n",
        "%matplotlib inline\n",
        "plt.plot(res['name'], res['nDCG@10'], label='nDCG@10')\n",
        "plt.plot(res['name'], res['P(rel=2)@10'], label='P(rel=2)@10')\n",
        "plt.ylabel('value')\n",
        "plt.legend()\n",
        "plt.show()\n",
        "plt.clf()\n",
        "plt.plot(res['name'], res['mrt'])\n",
        "plt.ylabel('mrt')\n",
        "plt.show()"
      ],
      "execution_count": null,
      "outputs": []
    },
    {
      "cell_type": "markdown",
      "metadata": {
        "id": "n8tu_yN4QRdh"
      },
      "source": [
        "It appears that the optimal re-ranking threshold for this collection is around 50-70. This also avoids excessive re-ranking time, which grows roughly linearly with larger thredhols. In pratice, this paramter should be tuned on a held-out validation set to avoid over-fitting."
      ]
    },
    {
      "cell_type": "markdown",
      "metadata": {
        "id": "GdUPsiYLX-L1"
      },
      "source": [
        "## monoT5"
      ]
    },
    {
      "cell_type": "markdown",
      "metadata": {
        "id": "u1UoVYscxzR_"
      },
      "source": [
        "The [monoT5](https://arxiv.org/abs/2003.06713) model scores documents using a causal language model. Let's see how this approach works on TREC COVID.\n",
        "\n",
        "The `MonoT5ReRanker` class from `pyterrier_t5` automatically loads a version of the monoT5 ranker that is trained on the MS MARCO passage dataset."
      ]
    },
    {
      "cell_type": "code",
      "metadata": {
        "id": "RuWuB44kQN2f"
      },
      "source": [
        "from pyterrier_t5 import MonoT5ReRanker\n",
        "monoT5 = MonoT5ReRanker(text_field='title_abstract')"
      ],
      "execution_count": null,
      "outputs": []
    },
    {
      "cell_type": "code",
      "metadata": {
        "id": "5FI_KCicWDeB"
      },
      "source": [
        "br = pt.BatchRetrieve(index) % 50\n",
        "pipeline = (br >> get_title_abstract >> monoT5)\n",
        "pt.Experiment(\n",
        "    [br, pipeline],\n",
        "    dataset.get_topics('description'),\n",
        "    dataset.get_qrels(),\n",
        "    names=['DPH', 'DPH >> T5'],\n",
        "    eval_metrics=[AP(rel=2), nDCG, nDCG@10, P(rel=2)@10, \"mrt\"]\n",
        ")"
      ],
      "execution_count": null,
      "outputs": []
    },
    {
      "cell_type": "markdown",
      "metadata": {
        "id": "mP3KpU8t2-Wv"
      },
      "source": [
        "## DeepCT\n",
        "\n",
        "Recall that the DeepCT model repeats terms based on their estimated importance. This repitition boosts the importance in an inverted index structure.\n",
        "\n",
        "We provide an interface to the DeepCT model in the `pyterrier_deepct` package:"
      ]
    },
    {
      "cell_type": "code",
      "metadata": {
        "id": "7ZiZBUJ03ZNH"
      },
      "source": [
        "import pyterrier_deepct"
      ],
      "execution_count": null,
      "outputs": []
    },
    {
      "cell_type": "markdown",
      "metadata": {
        "id": "JC1Vr5sC3acI"
      },
      "source": [
        "### Loading a pre-trained model\n",
        "\n",
        "We will load the pre-trained verison of DeepCT provided by the authors."
      ]
    },
    {
      "cell_type": "code",
      "metadata": {
        "id": "J1tIMtO73aF7"
      },
      "source": [
        "if not os.path.exists(\"marco.zip\"):\n",
        "  !wget http://boston.lti.cs.cmu.edu/appendices/arXiv2019-DeepCT-Zhuyun-Dai/outputs/marco.zip\n",
        "  !unzip marco.zip\n",
        "if not os.path.exists(\"uncased_L-12_H-768_A-12.zip\"):\n",
        "  !wget https://storage.googleapis.com/bert_models/2020_02_20/uncased_L-12_H-768_A-12.zip\n",
        "  !unzip uncased_L-12_H-768_A-12.zip\n",
        "  !mkdir -p bert-base-uncased\n",
        "  !mv vocab.txt bert_* bert-base-uncased/"
      ],
      "execution_count": null,
      "outputs": []
    },
    {
      "cell_type": "markdown",
      "metadata": {
        "id": "Mxoe3V0A3i_c"
      },
      "source": [
        "Loading a model is as simple as specifying the model configuration and weight file:"
      ]
    },
    {
      "cell_type": "code",
      "metadata": {
        "id": "UGq4oPWl3h9I"
      },
      "source": [
        "deepct = pyterrier_deepct.DeepCTTransformer(\"bert-base-uncased/bert_config.json\", \"marco/model.ckpt-65816\")"
      ],
      "execution_count": null,
      "outputs": []
    },
    {
      "cell_type": "markdown",
      "metadata": {
        "id": "unAhL8fF3lMT"
      },
      "source": [
        "### Running on sample text\n",
        "\n",
        "We can transform a dataframe with a sample document to observe the effect of DeepCT:"
      ]
    },
    {
      "cell_type": "code",
      "metadata": {
        "id": "gFc3xjf03oVg"
      },
      "source": [
        "import pandas as pd\n",
        "df = pd.DataFrame([{\"docno\" : \"d1\", \"text\" :\"The 30th ACM International Conference on Information and Knowledge Management (CIKM) is held virtually due to the COVID-19 pandemic.\"}])\n",
        "df.iloc[0].text"
      ],
      "execution_count": null,
      "outputs": []
    },
    {
      "cell_type": "code",
      "metadata": {
        "id": "N1mTKlHx3oTV"
      },
      "source": [
        "deepct_df = deepct(df)\n",
        "deepct_df.iloc[0].text"
      ],
      "execution_count": null,
      "outputs": []
    },
    {
      "cell_type": "markdown",
      "metadata": {
        "id": "XUxtVJDJ34u3"
      },
      "source": [
        "(You may need to expand the text using the \\[...\\] button at the end of the text.)\n",
        "\n",
        "Interesting, right? We can see a lot of terms are expanded. Let's use `Counter` to see which are the most important terms."
      ]
    },
    {
      "cell_type": "code",
      "metadata": {
        "id": "M9GSETVW37Z5"
      },
      "source": [
        "from collections import Counter\n",
        "Counter(deepct_df.iloc[0].text.split()).most_common()"
      ],
      "execution_count": null,
      "outputs": []
    },
    {
      "cell_type": "markdown",
      "metadata": {
        "id": "fg6x7VKo3-mK"
      },
      "source": [
        "As you can see, DeepCT considers \"Conference\", \"CIKM\", and \"ACM\" to be the most important terms in the document. Not bad choices. However, it completley removes the word \"virtually\"."
      ]
    },
    {
      "cell_type": "markdown",
      "metadata": {
        "id": "uW35rEdQ4Bxs"
      },
      "source": [
        "### Loading an index of DeepCT documents\n",
        "\n",
        "It takes too long to run DeepCT over the entire CORD19 collection in a tutorial setting, so we provide a version of the index for download.\n",
        "\n",
        "If you would like to index the collection with DeepCT yourself, you can use:\n",
        "\n",
        "```python\n",
        "dataset = pt.get_dataset(\"irds:cord19/trec-covid\")\n",
        "indexer = (\n",
        "  pt.apply.generic(lambda df: df.rename(columns={'abstract': 'text'})) # rename \"abstract\" column to \"text\"\n",
        "  >> deepct # apply DeepCT transformation\n",
        "  >> pt.IterDictIndexer(\"./deepct_index_path\")) # index the modified documents\n",
        "indexref = indexer.index(dataset.get_corpus_iter())\n",
        "```"
      ]
    },
    {
      "cell_type": "code",
      "metadata": {
        "id": "SlFLMgoh398T"
      },
      "source": [
        "if not os.path.exists('deepct_marco_cord19.zip'):\n",
        "  !wget http://www.dcs.gla.ac.uk/~craigm/cikm2021-tutorial/deepct_marco_cord19.zip\n",
        "  !unzip deepct_marco_cord19.zip\n",
        "deepct_indexref = pt.IndexRef.of('./deepct_index_path')"
      ],
      "execution_count": null,
      "outputs": []
    },
    {
      "cell_type": "markdown",
      "metadata": {
        "id": "TarsGVzjaG6r"
      },
      "source": [
        "How well does DeepCT perform on TREC COVID? Let's run an experiment."
      ]
    },
    {
      "cell_type": "code",
      "metadata": {
        "id": "LNfxKuLCaKnS"
      },
      "source": [
        "pt.Experiment(\n",
        "    [br, pt.BatchRetrieve(deepct_indexref)],\n",
        "    dataset.get_topics('description'),\n",
        "    dataset.get_qrels(),\n",
        "    names=['DPH', 'DeepCT'],\n",
        "    baseline=0,\n",
        "    eval_metrics=[AP(rel=2), nDCG, nDCG@10, P(rel=2)@10]\n",
        ")"
      ],
      "execution_count": null,
      "outputs": []
    },
    {
      "cell_type": "markdown",
      "metadata": {
        "id": "V1LbWpN66wDD"
      },
      "source": [
        "The recall improves DPH (so unbounded nDCG improves), but the top results suffer (nDCG@10 and P(rel=2)@10 are reduced). Let's dig into the top results for each of the TREC COVID quereis to see what's happening."
      ]
    },
    {
      "cell_type": "code",
      "metadata": {
        "id": "zTsTApIm6wsJ"
      },
      "source": [
        "pipeline = pt.BatchRetrieve(deepct_indexref) % 1 >> pt.text.get_text(dataset, 'title')\n",
        "res = pipeline(topics)\n",
        "res.merge(qrels, how='left').head()"
      ],
      "execution_count": null,
      "outputs": []
    },
    {
      "cell_type": "markdown",
      "metadata": {
        "id": "aht6dwwo7CHU"
      },
      "source": [
        "Ouch-- queries 2, 3, and 4 are non-relevant (the top doc for query 1 wasn't judged). Let's dig deeper into those source documents."
      ]
    },
    {
      "cell_type": "code",
      "metadata": {
        "id": "OT0Aw29r7CsL"
      },
      "source": [
        "df = pd.DataFrame(doc for doc in dataset.get_corpus_iter() if doc['docno'] in ('g8grcy5j', '2c4jk2ms', 'mtjs9zv9'))\n",
        "df = df.rename(columns={'abstract': 'text'})\n",
        "deepct_df = deepct(df)\n",
        "print('deepct-transformed documents')\n",
        "for deepct_text, docno, text in zip(deepct_df['text'], deepct_df['docno'], df['text']):\n",
        "  print(docno)\n",
        "  print(Counter(deepct_text.split()).most_common(10))\n",
        "  print(text)"
      ],
      "execution_count": null,
      "outputs": []
    },
    {
      "cell_type": "markdown",
      "metadata": {
        "id": "26NvE33k7Jg5"
      },
      "source": [
        "As we can see, the document ranked highest for \"*will sars cov2 infected people develop immunity*\" (2c4jk2ms) gives high scores to the term sars, overpowering the other query terms.\n",
        "\n",
        "The top document for \"*what causes death from covid 19*\" (mtjs9zv9) has high scores for covid, 19, and death, but is discussing the topic with respect to HIV rather than COVID itself. This underscores the limitations of using bag-of-words for scoring instead.\n",
        "\n",
        "The top document for \"*how does the coronavirus respond to changes in weather*\" (g8grcy5j) discusses the potential for change in climate policy as a result of COVID-19, not how the virus responds to weather. DeepCT picks up on this theme and gives weather-related words high importance."
      ]
    },
    {
      "cell_type": "markdown",
      "metadata": {
        "id": "g8KAxXQQbEDU"
      },
      "source": [
        "## doc2query\n",
        "\n",
        "Recall that doc2query augments an inverted index structure by predicting queries that may be used to search for the document, and appending those to the document text.\n",
        "\n",
        "We provide an interface to doc2query using the `pyterrier_doc2query` package:"
      ]
    },
    {
      "cell_type": "code",
      "metadata": {
        "id": "EEvZKb-GbH6Q"
      },
      "source": [
        "import pyterrier_doc2query"
      ],
      "execution_count": null,
      "outputs": []
    },
    {
      "cell_type": "markdown",
      "metadata": {
        "id": "D7xwmWR4bJcm"
      },
      "source": [
        "### Loading a pre-trained model\n",
        "\n",
        "We will again use a version of the doc2query model released by the authors that is trained on the MS MARCO collection."
      ]
    },
    {
      "cell_type": "code",
      "metadata": {
        "id": "1QME5bJRbMJ1"
      },
      "source": [
        "import os\n",
        "if not os.path.exists(\"t5-base.zip\"):\n",
        "  !wget https://git.uwaterloo.ca/jimmylin/doc2query-data/raw/master/T5-passage/t5-base.zip\n",
        "  !unzip t5-base.zip"
      ],
      "execution_count": null,
      "outputs": []
    },
    {
      "cell_type": "markdown",
      "metadata": {
        "id": "kV7uGpZybV0k"
      },
      "source": [
        "We can load the model weights by specifying the checkpoint."
      ]
    },
    {
      "cell_type": "code",
      "metadata": {
        "id": "HGGu4hm7bXtK"
      },
      "source": [
        "doc2query = pyterrier_doc2query.Doc2Query('model.ckpt-1004000', batch_size=8)"
      ],
      "execution_count": null,
      "outputs": []
    },
    {
      "cell_type": "markdown",
      "metadata": {
        "id": "4SlBjxC-baOY"
      },
      "source": [
        "### Running on sample text\n",
        "\n",
        "Let's see what queries it predicts for the sample document:"
      ]
    },
    {
      "cell_type": "code",
      "metadata": {
        "id": "hhNRK_k9bZVi"
      },
      "source": [
        "import pandas as pd\n",
        "df = pd.DataFrame([{\"docno\" : \"d1\", \"text\" :\"The 30th ACM International Conference on Information and Knowledge Management (CIKM) is held virtually due to the COVID-19 pandemic.\"}])\n",
        "df.iloc[0].text"
      ],
      "execution_count": null,
      "outputs": []
    },
    {
      "cell_type": "code",
      "metadata": {
        "id": "9ZANhTSubjIF"
      },
      "source": [
        "doc2query_df = doc2query(df)\n",
        "doc2query_df.iloc[0].querygen"
      ],
      "execution_count": null,
      "outputs": []
    },
    {
      "cell_type": "markdown",
      "metadata": {
        "id": "POWQLjE6bo1j"
      },
      "source": [
        "Doc2query can genrate some resonable questions (e.g., \"*where is cikm held*\"), but also can generates some that are off-topic and introduce some non-relevant terms (e.g., cicm, cmim)."
      ]
    },
    {
      "cell_type": "markdown",
      "metadata": {
        "id": "Kadv-X8OcEp8"
      },
      "source": [
        "### Loading an index of doc2query documents\n",
        "\n",
        "Let's see how it does on TREC COVID. Again, it takes too long to index in a tutorial setting, so we provide an index.\n",
        "\n",
        "If you would like to index the collection with doc2query yourself, you can use:\n",
        "\n",
        "```python\n",
        "dataset = pt.get_dataset(\"irds:cord19/trec-covid\")\n",
        "indexer = (\n",
        "  pyterrier_doc2query.Doc2Query('model.ckpt-1004000', doc_attr='abstract', batch_size=8, append=True) # aply doc2query on abstracts and append\n",
        "  >> pt.apply.generic(lambda df: df.rename(columns={'abstract': 'text'}) # rename \"abstract\" column to \"text\" for indexing\n",
        "  >> pt.IterDictIndexer(\"./doc2query_index_path\")) # index the expanded documents\n",
        "indexref = indexer.index(dataset.get_corpus_iter())\n",
        "```"
      ]
    },
    {
      "cell_type": "code",
      "metadata": {
        "id": "6uy7Bt-cbof2"
      },
      "source": [
        "if not os.path.exists('doc2query_marco_cord19.zip'):\n",
        "  !wget http://www.dcs.gla.ac.uk/~craigm/cikm2021-tutorial/doc2query_marco_cord19.zip\n",
        "  !unzip doc2query_marco_cord19.zip\n",
        "doc2query_indexref = pt.IndexRef.of('./doc2query_index_path')"
      ],
      "execution_count": null,
      "outputs": []
    },
    {
      "cell_type": "markdown",
      "metadata": {
        "id": "0NCSiTq6ckYe"
      },
      "source": [
        "Let's see how doc2query performs on TREC COVID:"
      ]
    },
    {
      "cell_type": "code",
      "metadata": {
        "id": "A9vGdlQccUEv"
      },
      "source": [
        "pt.Experiment(\n",
        "    [br, pt.BatchRetrieve(doc2query_indexref)],\n",
        "    topics,\n",
        "    qrels,\n",
        "    names=['DPH', 'doc2query'],\n",
        "    baseline=0,\n",
        "    eval_metrics=[AP(rel=2), nDCG, nDCG@10, P(rel=2)@10]\n",
        ")"
      ],
      "execution_count": null,
      "outputs": []
    },
    {
      "cell_type": "markdown",
      "metadata": {
        "id": "iqcWcSmGcNdS"
      },
      "source": [
        "Similar to DeepCT, we see that the approach can significantly improve recall-oriented meausres, but doesn't help with precision-measures.\n",
        "\n",
        "Let's again investigate the top results."
      ]
    },
    {
      "cell_type": "code",
      "metadata": {
        "id": "VSJgkwb7cNAJ"
      },
      "source": [
        "pipeline = pt.BatchRetrieve(doc2query_indexref) % 1 >> pt.text.get_text(dataset, 'title')\n",
        "res = pipeline(topics)\n",
        "res.merge(qrels, how='left').head()"
      ],
      "execution_count": null,
      "outputs": []
    },
    {
      "cell_type": "markdown",
      "metadata": {
        "id": "JB34igFldDni"
      },
      "source": [
        "Let's take a look at what queries it generates for some of these documents:"
      ]
    },
    {
      "cell_type": "code",
      "metadata": {
        "id": "asVAlbBSdGn3"
      },
      "source": [
        "df = pd.DataFrame(doc for doc in dataset.get_corpus_iter() if doc['docno'] in ('124czudi', 'gtp01rna'))\n",
        "df = df.rename(columns={'abstract': 'text'})\n",
        "doc2query_df = doc2query(df)\n",
        "for querygen, docno, text in zip(doc2query_df['querygen'], doc2query_df['docno'], df['text']):\n",
        "  print(docno)\n",
        "  print(querygen)\n",
        "  print(text)"
      ],
      "execution_count": null,
      "outputs": []
    },
    {
      "cell_type": "markdown",
      "metadata": {
        "id": "-Jo0T_hKdXMt"
      },
      "source": [
        "For \"*what causes death from covid 19*\" (gtp01rna), the top document focuses on the deaths from COVID in the US, but not on the specific causes due to COVID.\n",
        "\n",
        "For \"*how does the coronavirus respond to changes in weather*\" (124czudi), the top document is about climate change (similar to DeepCT)."
      ]
    },
    {
      "cell_type": "markdown",
      "metadata": {
        "id": "AW4_m3O4S34V"
      },
      "source": [
        "#  That's all folks\n",
        "\n",
        "If you aren't coming back for Part 4 of the tutorial, please don't forget to complete our exit quiz: https://forms.office.com/r/RiYSAxAKhk"
      ]
    }
  ]
}
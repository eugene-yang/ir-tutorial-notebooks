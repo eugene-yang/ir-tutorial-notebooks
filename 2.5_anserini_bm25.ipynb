{
  "nbformat": 4,
  "nbformat_minor": 0,
  "metadata": {
    "colab": {
      "provenance": []
    },
    "kernelspec": {
      "name": "python3",
      "display_name": "Python 3"
    },
    "language_info": {
      "name": "python"
    },
    "widgets": {
      "application/vnd.jupyter.widget-state+json": {
        "c8e125777f5b4ae2818433fdfe4b151d": {
          "model_module": "@jupyter-widgets/controls",
          "model_name": "HBoxModel",
          "model_module_version": "1.5.0",
          "state": {
            "_dom_classes": [],
            "_model_module": "@jupyter-widgets/controls",
            "_model_module_version": "1.5.0",
            "_model_name": "HBoxModel",
            "_view_count": null,
            "_view_module": "@jupyter-widgets/controls",
            "_view_module_version": "1.5.0",
            "_view_name": "HBoxView",
            "box_style": "",
            "children": [
              "IPY_MODEL_3af52c8f248a4e86b8a310cdb5315ce9",
              "IPY_MODEL_ac765fc5c5054c4d90e9a9f0c81fb290",
              "IPY_MODEL_d246542fc4c44b32ace8b3d03fa90a97"
            ],
            "layout": "IPY_MODEL_9d4c3046cddb48cda1b34c78dd0e8b74"
          }
        },
        "3af52c8f248a4e86b8a310cdb5315ce9": {
          "model_module": "@jupyter-widgets/controls",
          "model_name": "HTMLModel",
          "model_module_version": "1.5.0",
          "state": {
            "_dom_classes": [],
            "_model_module": "@jupyter-widgets/controls",
            "_model_module_version": "1.5.0",
            "_model_name": "HTMLModel",
            "_view_count": null,
            "_view_module": "@jupyter-widgets/controls",
            "_view_module_version": "1.5.0",
            "_view_name": "HTMLView",
            "description": "",
            "description_tooltip": null,
            "layout": "IPY_MODEL_d96d983bb78d4f4490a9cc685980a6e0",
            "placeholder": "​",
            "style": "IPY_MODEL_263df10ab1a14ed7b9c44e2f51cfaa91",
            "value": "Downloading builder script: 100%"
          }
        },
        "ac765fc5c5054c4d90e9a9f0c81fb290": {
          "model_module": "@jupyter-widgets/controls",
          "model_name": "FloatProgressModel",
          "model_module_version": "1.5.0",
          "state": {
            "_dom_classes": [],
            "_model_module": "@jupyter-widgets/controls",
            "_model_module_version": "1.5.0",
            "_model_name": "FloatProgressModel",
            "_view_count": null,
            "_view_module": "@jupyter-widgets/controls",
            "_view_module_version": "1.5.0",
            "_view_name": "ProgressView",
            "bar_style": "success",
            "description": "",
            "description_tooltip": null,
            "layout": "IPY_MODEL_9efc17ac393a4f0a891e5f2adee0af26",
            "max": 1311,
            "min": 0,
            "orientation": "horizontal",
            "style": "IPY_MODEL_fa1c38ca9aa34b358f147bcacc4611cf",
            "value": 1311
          }
        },
        "d246542fc4c44b32ace8b3d03fa90a97": {
          "model_module": "@jupyter-widgets/controls",
          "model_name": "HTMLModel",
          "model_module_version": "1.5.0",
          "state": {
            "_dom_classes": [],
            "_model_module": "@jupyter-widgets/controls",
            "_model_module_version": "1.5.0",
            "_model_name": "HTMLModel",
            "_view_count": null,
            "_view_module": "@jupyter-widgets/controls",
            "_view_module_version": "1.5.0",
            "_view_name": "HTMLView",
            "description": "",
            "description_tooltip": null,
            "layout": "IPY_MODEL_16924ebafe154b71b0050df7e6330220",
            "placeholder": "​",
            "style": "IPY_MODEL_643e94d5494847aab291de70eb90ad76",
            "value": " 1.31k/1.31k [00:00&lt;00:00, 67.4kB/s]"
          }
        },
        "9d4c3046cddb48cda1b34c78dd0e8b74": {
          "model_module": "@jupyter-widgets/base",
          "model_name": "LayoutModel",
          "model_module_version": "1.2.0",
          "state": {
            "_model_module": "@jupyter-widgets/base",
            "_model_module_version": "1.2.0",
            "_model_name": "LayoutModel",
            "_view_count": null,
            "_view_module": "@jupyter-widgets/base",
            "_view_module_version": "1.2.0",
            "_view_name": "LayoutView",
            "align_content": null,
            "align_items": null,
            "align_self": null,
            "border": null,
            "bottom": null,
            "display": null,
            "flex": null,
            "flex_flow": null,
            "grid_area": null,
            "grid_auto_columns": null,
            "grid_auto_flow": null,
            "grid_auto_rows": null,
            "grid_column": null,
            "grid_gap": null,
            "grid_row": null,
            "grid_template_areas": null,
            "grid_template_columns": null,
            "grid_template_rows": null,
            "height": null,
            "justify_content": null,
            "justify_items": null,
            "left": null,
            "margin": null,
            "max_height": null,
            "max_width": null,
            "min_height": null,
            "min_width": null,
            "object_fit": null,
            "object_position": null,
            "order": null,
            "overflow": null,
            "overflow_x": null,
            "overflow_y": null,
            "padding": null,
            "right": null,
            "top": null,
            "visibility": null,
            "width": null
          }
        },
        "d96d983bb78d4f4490a9cc685980a6e0": {
          "model_module": "@jupyter-widgets/base",
          "model_name": "LayoutModel",
          "model_module_version": "1.2.0",
          "state": {
            "_model_module": "@jupyter-widgets/base",
            "_model_module_version": "1.2.0",
            "_model_name": "LayoutModel",
            "_view_count": null,
            "_view_module": "@jupyter-widgets/base",
            "_view_module_version": "1.2.0",
            "_view_name": "LayoutView",
            "align_content": null,
            "align_items": null,
            "align_self": null,
            "border": null,
            "bottom": null,
            "display": null,
            "flex": null,
            "flex_flow": null,
            "grid_area": null,
            "grid_auto_columns": null,
            "grid_auto_flow": null,
            "grid_auto_rows": null,
            "grid_column": null,
            "grid_gap": null,
            "grid_row": null,
            "grid_template_areas": null,
            "grid_template_columns": null,
            "grid_template_rows": null,
            "height": null,
            "justify_content": null,
            "justify_items": null,
            "left": null,
            "margin": null,
            "max_height": null,
            "max_width": null,
            "min_height": null,
            "min_width": null,
            "object_fit": null,
            "object_position": null,
            "order": null,
            "overflow": null,
            "overflow_x": null,
            "overflow_y": null,
            "padding": null,
            "right": null,
            "top": null,
            "visibility": null,
            "width": null
          }
        },
        "263df10ab1a14ed7b9c44e2f51cfaa91": {
          "model_module": "@jupyter-widgets/controls",
          "model_name": "DescriptionStyleModel",
          "model_module_version": "1.5.0",
          "state": {
            "_model_module": "@jupyter-widgets/controls",
            "_model_module_version": "1.5.0",
            "_model_name": "DescriptionStyleModel",
            "_view_count": null,
            "_view_module": "@jupyter-widgets/base",
            "_view_module_version": "1.2.0",
            "_view_name": "StyleView",
            "description_width": ""
          }
        },
        "9efc17ac393a4f0a891e5f2adee0af26": {
          "model_module": "@jupyter-widgets/base",
          "model_name": "LayoutModel",
          "model_module_version": "1.2.0",
          "state": {
            "_model_module": "@jupyter-widgets/base",
            "_model_module_version": "1.2.0",
            "_model_name": "LayoutModel",
            "_view_count": null,
            "_view_module": "@jupyter-widgets/base",
            "_view_module_version": "1.2.0",
            "_view_name": "LayoutView",
            "align_content": null,
            "align_items": null,
            "align_self": null,
            "border": null,
            "bottom": null,
            "display": null,
            "flex": null,
            "flex_flow": null,
            "grid_area": null,
            "grid_auto_columns": null,
            "grid_auto_flow": null,
            "grid_auto_rows": null,
            "grid_column": null,
            "grid_gap": null,
            "grid_row": null,
            "grid_template_areas": null,
            "grid_template_columns": null,
            "grid_template_rows": null,
            "height": null,
            "justify_content": null,
            "justify_items": null,
            "left": null,
            "margin": null,
            "max_height": null,
            "max_width": null,
            "min_height": null,
            "min_width": null,
            "object_fit": null,
            "object_position": null,
            "order": null,
            "overflow": null,
            "overflow_x": null,
            "overflow_y": null,
            "padding": null,
            "right": null,
            "top": null,
            "visibility": null,
            "width": null
          }
        },
        "fa1c38ca9aa34b358f147bcacc4611cf": {
          "model_module": "@jupyter-widgets/controls",
          "model_name": "ProgressStyleModel",
          "model_module_version": "1.5.0",
          "state": {
            "_model_module": "@jupyter-widgets/controls",
            "_model_module_version": "1.5.0",
            "_model_name": "ProgressStyleModel",
            "_view_count": null,
            "_view_module": "@jupyter-widgets/base",
            "_view_module_version": "1.2.0",
            "_view_name": "StyleView",
            "bar_color": null,
            "description_width": ""
          }
        },
        "16924ebafe154b71b0050df7e6330220": {
          "model_module": "@jupyter-widgets/base",
          "model_name": "LayoutModel",
          "model_module_version": "1.2.0",
          "state": {
            "_model_module": "@jupyter-widgets/base",
            "_model_module_version": "1.2.0",
            "_model_name": "LayoutModel",
            "_view_count": null,
            "_view_module": "@jupyter-widgets/base",
            "_view_module_version": "1.2.0",
            "_view_name": "LayoutView",
            "align_content": null,
            "align_items": null,
            "align_self": null,
            "border": null,
            "bottom": null,
            "display": null,
            "flex": null,
            "flex_flow": null,
            "grid_area": null,
            "grid_auto_columns": null,
            "grid_auto_flow": null,
            "grid_auto_rows": null,
            "grid_column": null,
            "grid_gap": null,
            "grid_row": null,
            "grid_template_areas": null,
            "grid_template_columns": null,
            "grid_template_rows": null,
            "height": null,
            "justify_content": null,
            "justify_items": null,
            "left": null,
            "margin": null,
            "max_height": null,
            "max_width": null,
            "min_height": null,
            "min_width": null,
            "object_fit": null,
            "object_position": null,
            "order": null,
            "overflow": null,
            "overflow_x": null,
            "overflow_y": null,
            "padding": null,
            "right": null,
            "top": null,
            "visibility": null,
            "width": null
          }
        },
        "643e94d5494847aab291de70eb90ad76": {
          "model_module": "@jupyter-widgets/controls",
          "model_name": "DescriptionStyleModel",
          "model_module_version": "1.5.0",
          "state": {
            "_model_module": "@jupyter-widgets/controls",
            "_model_module_version": "1.5.0",
            "_model_name": "DescriptionStyleModel",
            "_view_count": null,
            "_view_module": "@jupyter-widgets/base",
            "_view_module_version": "1.2.0",
            "_view_name": "StyleView",
            "description_width": ""
          }
        },
        "39c67e38cdc242508bb2269e2bdc5180": {
          "model_module": "@jupyter-widgets/controls",
          "model_name": "HBoxModel",
          "model_module_version": "1.5.0",
          "state": {
            "_dom_classes": [],
            "_model_module": "@jupyter-widgets/controls",
            "_model_module_version": "1.5.0",
            "_model_name": "HBoxModel",
            "_view_count": null,
            "_view_module": "@jupyter-widgets/controls",
            "_view_module_version": "1.5.0",
            "_view_name": "HBoxView",
            "box_style": "",
            "children": [
              "IPY_MODEL_fc7e2cdab42f4d26b179e23cde0fdf9d",
              "IPY_MODEL_5dc9e962c2cf4b0a8fd7ad52247b88a4",
              "IPY_MODEL_216f9d0bc44142348326098a762ee8aa"
            ],
            "layout": "IPY_MODEL_eb9f4b4f231b4dcfb545547beeb6c5c5"
          }
        },
        "fc7e2cdab42f4d26b179e23cde0fdf9d": {
          "model_module": "@jupyter-widgets/controls",
          "model_name": "HTMLModel",
          "model_module_version": "1.5.0",
          "state": {
            "_dom_classes": [],
            "_model_module": "@jupyter-widgets/controls",
            "_model_module_version": "1.5.0",
            "_model_name": "HTMLModel",
            "_view_count": null,
            "_view_module": "@jupyter-widgets/controls",
            "_view_module_version": "1.5.0",
            "_view_name": "HTMLView",
            "description": "",
            "description_tooltip": null,
            "layout": "IPY_MODEL_0b42a12b14144378b598366796e663a0",
            "placeholder": "​",
            "style": "IPY_MODEL_ec553011c0dd44f997d4a61beb5c9a38",
            "value": "Downloading readme: 100%"
          }
        },
        "5dc9e962c2cf4b0a8fd7ad52247b88a4": {
          "model_module": "@jupyter-widgets/controls",
          "model_name": "FloatProgressModel",
          "model_module_version": "1.5.0",
          "state": {
            "_dom_classes": [],
            "_model_module": "@jupyter-widgets/controls",
            "_model_module_version": "1.5.0",
            "_model_name": "FloatProgressModel",
            "_view_count": null,
            "_view_module": "@jupyter-widgets/controls",
            "_view_module_version": "1.5.0",
            "_view_name": "ProgressView",
            "bar_style": "success",
            "description": "",
            "description_tooltip": null,
            "layout": "IPY_MODEL_0d6279433e5e4fcf99e3192ad427a7e0",
            "max": 1477,
            "min": 0,
            "orientation": "horizontal",
            "style": "IPY_MODEL_ba52980c13ec414180eb9fff2d9eba7d",
            "value": 1477
          }
        },
        "216f9d0bc44142348326098a762ee8aa": {
          "model_module": "@jupyter-widgets/controls",
          "model_name": "HTMLModel",
          "model_module_version": "1.5.0",
          "state": {
            "_dom_classes": [],
            "_model_module": "@jupyter-widgets/controls",
            "_model_module_version": "1.5.0",
            "_model_name": "HTMLModel",
            "_view_count": null,
            "_view_module": "@jupyter-widgets/controls",
            "_view_module_version": "1.5.0",
            "_view_name": "HTMLView",
            "description": "",
            "description_tooltip": null,
            "layout": "IPY_MODEL_32157485637a44b9b585ee6144768e75",
            "placeholder": "​",
            "style": "IPY_MODEL_b31a67645a60406586be6a4dc4bdb63c",
            "value": " 1.48k/1.48k [00:00&lt;00:00, 81.4kB/s]"
          }
        },
        "eb9f4b4f231b4dcfb545547beeb6c5c5": {
          "model_module": "@jupyter-widgets/base",
          "model_name": "LayoutModel",
          "model_module_version": "1.2.0",
          "state": {
            "_model_module": "@jupyter-widgets/base",
            "_model_module_version": "1.2.0",
            "_model_name": "LayoutModel",
            "_view_count": null,
            "_view_module": "@jupyter-widgets/base",
            "_view_module_version": "1.2.0",
            "_view_name": "LayoutView",
            "align_content": null,
            "align_items": null,
            "align_self": null,
            "border": null,
            "bottom": null,
            "display": null,
            "flex": null,
            "flex_flow": null,
            "grid_area": null,
            "grid_auto_columns": null,
            "grid_auto_flow": null,
            "grid_auto_rows": null,
            "grid_column": null,
            "grid_gap": null,
            "grid_row": null,
            "grid_template_areas": null,
            "grid_template_columns": null,
            "grid_template_rows": null,
            "height": null,
            "justify_content": null,
            "justify_items": null,
            "left": null,
            "margin": null,
            "max_height": null,
            "max_width": null,
            "min_height": null,
            "min_width": null,
            "object_fit": null,
            "object_position": null,
            "order": null,
            "overflow": null,
            "overflow_x": null,
            "overflow_y": null,
            "padding": null,
            "right": null,
            "top": null,
            "visibility": null,
            "width": null
          }
        },
        "0b42a12b14144378b598366796e663a0": {
          "model_module": "@jupyter-widgets/base",
          "model_name": "LayoutModel",
          "model_module_version": "1.2.0",
          "state": {
            "_model_module": "@jupyter-widgets/base",
            "_model_module_version": "1.2.0",
            "_model_name": "LayoutModel",
            "_view_count": null,
            "_view_module": "@jupyter-widgets/base",
            "_view_module_version": "1.2.0",
            "_view_name": "LayoutView",
            "align_content": null,
            "align_items": null,
            "align_self": null,
            "border": null,
            "bottom": null,
            "display": null,
            "flex": null,
            "flex_flow": null,
            "grid_area": null,
            "grid_auto_columns": null,
            "grid_auto_flow": null,
            "grid_auto_rows": null,
            "grid_column": null,
            "grid_gap": null,
            "grid_row": null,
            "grid_template_areas": null,
            "grid_template_columns": null,
            "grid_template_rows": null,
            "height": null,
            "justify_content": null,
            "justify_items": null,
            "left": null,
            "margin": null,
            "max_height": null,
            "max_width": null,
            "min_height": null,
            "min_width": null,
            "object_fit": null,
            "object_position": null,
            "order": null,
            "overflow": null,
            "overflow_x": null,
            "overflow_y": null,
            "padding": null,
            "right": null,
            "top": null,
            "visibility": null,
            "width": null
          }
        },
        "ec553011c0dd44f997d4a61beb5c9a38": {
          "model_module": "@jupyter-widgets/controls",
          "model_name": "DescriptionStyleModel",
          "model_module_version": "1.5.0",
          "state": {
            "_model_module": "@jupyter-widgets/controls",
            "_model_module_version": "1.5.0",
            "_model_name": "DescriptionStyleModel",
            "_view_count": null,
            "_view_module": "@jupyter-widgets/base",
            "_view_module_version": "1.2.0",
            "_view_name": "StyleView",
            "description_width": ""
          }
        },
        "0d6279433e5e4fcf99e3192ad427a7e0": {
          "model_module": "@jupyter-widgets/base",
          "model_name": "LayoutModel",
          "model_module_version": "1.2.0",
          "state": {
            "_model_module": "@jupyter-widgets/base",
            "_model_module_version": "1.2.0",
            "_model_name": "LayoutModel",
            "_view_count": null,
            "_view_module": "@jupyter-widgets/base",
            "_view_module_version": "1.2.0",
            "_view_name": "LayoutView",
            "align_content": null,
            "align_items": null,
            "align_self": null,
            "border": null,
            "bottom": null,
            "display": null,
            "flex": null,
            "flex_flow": null,
            "grid_area": null,
            "grid_auto_columns": null,
            "grid_auto_flow": null,
            "grid_auto_rows": null,
            "grid_column": null,
            "grid_gap": null,
            "grid_row": null,
            "grid_template_areas": null,
            "grid_template_columns": null,
            "grid_template_rows": null,
            "height": null,
            "justify_content": null,
            "justify_items": null,
            "left": null,
            "margin": null,
            "max_height": null,
            "max_width": null,
            "min_height": null,
            "min_width": null,
            "object_fit": null,
            "object_position": null,
            "order": null,
            "overflow": null,
            "overflow_x": null,
            "overflow_y": null,
            "padding": null,
            "right": null,
            "top": null,
            "visibility": null,
            "width": null
          }
        },
        "ba52980c13ec414180eb9fff2d9eba7d": {
          "model_module": "@jupyter-widgets/controls",
          "model_name": "ProgressStyleModel",
          "model_module_version": "1.5.0",
          "state": {
            "_model_module": "@jupyter-widgets/controls",
            "_model_module_version": "1.5.0",
            "_model_name": "ProgressStyleModel",
            "_view_count": null,
            "_view_module": "@jupyter-widgets/base",
            "_view_module_version": "1.2.0",
            "_view_name": "StyleView",
            "bar_color": null,
            "description_width": ""
          }
        },
        "32157485637a44b9b585ee6144768e75": {
          "model_module": "@jupyter-widgets/base",
          "model_name": "LayoutModel",
          "model_module_version": "1.2.0",
          "state": {
            "_model_module": "@jupyter-widgets/base",
            "_model_module_version": "1.2.0",
            "_model_name": "LayoutModel",
            "_view_count": null,
            "_view_module": "@jupyter-widgets/base",
            "_view_module_version": "1.2.0",
            "_view_name": "LayoutView",
            "align_content": null,
            "align_items": null,
            "align_self": null,
            "border": null,
            "bottom": null,
            "display": null,
            "flex": null,
            "flex_flow": null,
            "grid_area": null,
            "grid_auto_columns": null,
            "grid_auto_flow": null,
            "grid_auto_rows": null,
            "grid_column": null,
            "grid_gap": null,
            "grid_row": null,
            "grid_template_areas": null,
            "grid_template_columns": null,
            "grid_template_rows": null,
            "height": null,
            "justify_content": null,
            "justify_items": null,
            "left": null,
            "margin": null,
            "max_height": null,
            "max_width": null,
            "min_height": null,
            "min_width": null,
            "object_fit": null,
            "object_position": null,
            "order": null,
            "overflow": null,
            "overflow_x": null,
            "overflow_y": null,
            "padding": null,
            "right": null,
            "top": null,
            "visibility": null,
            "width": null
          }
        },
        "b31a67645a60406586be6a4dc4bdb63c": {
          "model_module": "@jupyter-widgets/controls",
          "model_name": "DescriptionStyleModel",
          "model_module_version": "1.5.0",
          "state": {
            "_model_module": "@jupyter-widgets/controls",
            "_model_module_version": "1.5.0",
            "_model_name": "DescriptionStyleModel",
            "_view_count": null,
            "_view_module": "@jupyter-widgets/base",
            "_view_module_version": "1.2.0",
            "_view_name": "StyleView",
            "description_width": ""
          }
        },
        "2f4c1d06faca4cd780a21ba19f3096c8": {
          "model_module": "@jupyter-widgets/controls",
          "model_name": "HBoxModel",
          "model_module_version": "1.5.0",
          "state": {
            "_dom_classes": [],
            "_model_module": "@jupyter-widgets/controls",
            "_model_module_version": "1.5.0",
            "_model_name": "HBoxModel",
            "_view_count": null,
            "_view_module": "@jupyter-widgets/controls",
            "_view_module_version": "1.5.0",
            "_view_name": "HBoxView",
            "box_style": "",
            "children": [
              "IPY_MODEL_305cc4ec06e548baa8b67ca66be42353",
              "IPY_MODEL_86973af606c447c8b21dc840dce0d92c",
              "IPY_MODEL_7801868b74fe48d3932d0286c6becb61"
            ],
            "layout": "IPY_MODEL_6209ae9a710544d7aa06276224b8a0cc"
          }
        },
        "305cc4ec06e548baa8b67ca66be42353": {
          "model_module": "@jupyter-widgets/controls",
          "model_name": "HTMLModel",
          "model_module_version": "1.5.0",
          "state": {
            "_dom_classes": [],
            "_model_module": "@jupyter-widgets/controls",
            "_model_module_version": "1.5.0",
            "_model_name": "HTMLModel",
            "_view_count": null,
            "_view_module": "@jupyter-widgets/controls",
            "_view_module_version": "1.5.0",
            "_view_name": "HTMLView",
            "description": "",
            "description_tooltip": null,
            "layout": "IPY_MODEL_1bb5a6e310e9457d84dd5e247e127fc9",
            "placeholder": "​",
            "style": "IPY_MODEL_14bf4928497d4085bba31555ec0a1b61",
            "value": "Loading first 40k docs from NeuCLIR Chinese Collection: 100%"
          }
        },
        "86973af606c447c8b21dc840dce0d92c": {
          "model_module": "@jupyter-widgets/controls",
          "model_name": "FloatProgressModel",
          "model_module_version": "1.5.0",
          "state": {
            "_dom_classes": [],
            "_model_module": "@jupyter-widgets/controls",
            "_model_module_version": "1.5.0",
            "_model_name": "FloatProgressModel",
            "_view_count": null,
            "_view_module": "@jupyter-widgets/controls",
            "_view_module_version": "1.5.0",
            "_view_name": "ProgressView",
            "bar_style": "success",
            "description": "",
            "description_tooltip": null,
            "layout": "IPY_MODEL_d3322e1b609f4344a1d974b23539d40e",
            "max": 40000,
            "min": 0,
            "orientation": "horizontal",
            "style": "IPY_MODEL_75c8bc083fb743bb8338f1f6a627f74c",
            "value": 40000
          }
        },
        "7801868b74fe48d3932d0286c6becb61": {
          "model_module": "@jupyter-widgets/controls",
          "model_name": "HTMLModel",
          "model_module_version": "1.5.0",
          "state": {
            "_dom_classes": [],
            "_model_module": "@jupyter-widgets/controls",
            "_model_module_version": "1.5.0",
            "_model_name": "HTMLModel",
            "_view_count": null,
            "_view_module": "@jupyter-widgets/controls",
            "_view_module_version": "1.5.0",
            "_view_name": "HTMLView",
            "description": "",
            "description_tooltip": null,
            "layout": "IPY_MODEL_bb920c293c1b46af9678907290d2d4d7",
            "placeholder": "​",
            "style": "IPY_MODEL_3cd048110d854b90afc029007fc7659f",
            "value": " 40000/40000 [00:19&lt;00:00, 3464.94it/s]"
          }
        },
        "6209ae9a710544d7aa06276224b8a0cc": {
          "model_module": "@jupyter-widgets/base",
          "model_name": "LayoutModel",
          "model_module_version": "1.2.0",
          "state": {
            "_model_module": "@jupyter-widgets/base",
            "_model_module_version": "1.2.0",
            "_model_name": "LayoutModel",
            "_view_count": null,
            "_view_module": "@jupyter-widgets/base",
            "_view_module_version": "1.2.0",
            "_view_name": "LayoutView",
            "align_content": null,
            "align_items": null,
            "align_self": null,
            "border": null,
            "bottom": null,
            "display": null,
            "flex": null,
            "flex_flow": null,
            "grid_area": null,
            "grid_auto_columns": null,
            "grid_auto_flow": null,
            "grid_auto_rows": null,
            "grid_column": null,
            "grid_gap": null,
            "grid_row": null,
            "grid_template_areas": null,
            "grid_template_columns": null,
            "grid_template_rows": null,
            "height": null,
            "justify_content": null,
            "justify_items": null,
            "left": null,
            "margin": null,
            "max_height": null,
            "max_width": null,
            "min_height": null,
            "min_width": null,
            "object_fit": null,
            "object_position": null,
            "order": null,
            "overflow": null,
            "overflow_x": null,
            "overflow_y": null,
            "padding": null,
            "right": null,
            "top": null,
            "visibility": null,
            "width": null
          }
        },
        "1bb5a6e310e9457d84dd5e247e127fc9": {
          "model_module": "@jupyter-widgets/base",
          "model_name": "LayoutModel",
          "model_module_version": "1.2.0",
          "state": {
            "_model_module": "@jupyter-widgets/base",
            "_model_module_version": "1.2.0",
            "_model_name": "LayoutModel",
            "_view_count": null,
            "_view_module": "@jupyter-widgets/base",
            "_view_module_version": "1.2.0",
            "_view_name": "LayoutView",
            "align_content": null,
            "align_items": null,
            "align_self": null,
            "border": null,
            "bottom": null,
            "display": null,
            "flex": null,
            "flex_flow": null,
            "grid_area": null,
            "grid_auto_columns": null,
            "grid_auto_flow": null,
            "grid_auto_rows": null,
            "grid_column": null,
            "grid_gap": null,
            "grid_row": null,
            "grid_template_areas": null,
            "grid_template_columns": null,
            "grid_template_rows": null,
            "height": null,
            "justify_content": null,
            "justify_items": null,
            "left": null,
            "margin": null,
            "max_height": null,
            "max_width": null,
            "min_height": null,
            "min_width": null,
            "object_fit": null,
            "object_position": null,
            "order": null,
            "overflow": null,
            "overflow_x": null,
            "overflow_y": null,
            "padding": null,
            "right": null,
            "top": null,
            "visibility": null,
            "width": null
          }
        },
        "14bf4928497d4085bba31555ec0a1b61": {
          "model_module": "@jupyter-widgets/controls",
          "model_name": "DescriptionStyleModel",
          "model_module_version": "1.5.0",
          "state": {
            "_model_module": "@jupyter-widgets/controls",
            "_model_module_version": "1.5.0",
            "_model_name": "DescriptionStyleModel",
            "_view_count": null,
            "_view_module": "@jupyter-widgets/base",
            "_view_module_version": "1.2.0",
            "_view_name": "StyleView",
            "description_width": ""
          }
        },
        "d3322e1b609f4344a1d974b23539d40e": {
          "model_module": "@jupyter-widgets/base",
          "model_name": "LayoutModel",
          "model_module_version": "1.2.0",
          "state": {
            "_model_module": "@jupyter-widgets/base",
            "_model_module_version": "1.2.0",
            "_model_name": "LayoutModel",
            "_view_count": null,
            "_view_module": "@jupyter-widgets/base",
            "_view_module_version": "1.2.0",
            "_view_name": "LayoutView",
            "align_content": null,
            "align_items": null,
            "align_self": null,
            "border": null,
            "bottom": null,
            "display": null,
            "flex": null,
            "flex_flow": null,
            "grid_area": null,
            "grid_auto_columns": null,
            "grid_auto_flow": null,
            "grid_auto_rows": null,
            "grid_column": null,
            "grid_gap": null,
            "grid_row": null,
            "grid_template_areas": null,
            "grid_template_columns": null,
            "grid_template_rows": null,
            "height": null,
            "justify_content": null,
            "justify_items": null,
            "left": null,
            "margin": null,
            "max_height": null,
            "max_width": null,
            "min_height": null,
            "min_width": null,
            "object_fit": null,
            "object_position": null,
            "order": null,
            "overflow": null,
            "overflow_x": null,
            "overflow_y": null,
            "padding": null,
            "right": null,
            "top": null,
            "visibility": null,
            "width": null
          }
        },
        "75c8bc083fb743bb8338f1f6a627f74c": {
          "model_module": "@jupyter-widgets/controls",
          "model_name": "ProgressStyleModel",
          "model_module_version": "1.5.0",
          "state": {
            "_model_module": "@jupyter-widgets/controls",
            "_model_module_version": "1.5.0",
            "_model_name": "ProgressStyleModel",
            "_view_count": null,
            "_view_module": "@jupyter-widgets/base",
            "_view_module_version": "1.2.0",
            "_view_name": "StyleView",
            "bar_color": null,
            "description_width": ""
          }
        },
        "bb920c293c1b46af9678907290d2d4d7": {
          "model_module": "@jupyter-widgets/base",
          "model_name": "LayoutModel",
          "model_module_version": "1.2.0",
          "state": {
            "_model_module": "@jupyter-widgets/base",
            "_model_module_version": "1.2.0",
            "_model_name": "LayoutModel",
            "_view_count": null,
            "_view_module": "@jupyter-widgets/base",
            "_view_module_version": "1.2.0",
            "_view_name": "LayoutView",
            "align_content": null,
            "align_items": null,
            "align_self": null,
            "border": null,
            "bottom": null,
            "display": null,
            "flex": null,
            "flex_flow": null,
            "grid_area": null,
            "grid_auto_columns": null,
            "grid_auto_flow": null,
            "grid_auto_rows": null,
            "grid_column": null,
            "grid_gap": null,
            "grid_row": null,
            "grid_template_areas": null,
            "grid_template_columns": null,
            "grid_template_rows": null,
            "height": null,
            "justify_content": null,
            "justify_items": null,
            "left": null,
            "margin": null,
            "max_height": null,
            "max_width": null,
            "min_height": null,
            "min_width": null,
            "object_fit": null,
            "object_position": null,
            "order": null,
            "overflow": null,
            "overflow_x": null,
            "overflow_y": null,
            "padding": null,
            "right": null,
            "top": null,
            "visibility": null,
            "width": null
          }
        },
        "3cd048110d854b90afc029007fc7659f": {
          "model_module": "@jupyter-widgets/controls",
          "model_name": "DescriptionStyleModel",
          "model_module_version": "1.5.0",
          "state": {
            "_model_module": "@jupyter-widgets/controls",
            "_model_module_version": "1.5.0",
            "_model_name": "DescriptionStyleModel",
            "_view_count": null,
            "_view_module": "@jupyter-widgets/base",
            "_view_module_version": "1.2.0",
            "_view_name": "StyleView",
            "description_width": ""
          }
        },
        "bd1f63f58f8c442e938f62c7b9b3bc89": {
          "model_module": "@jupyter-widgets/controls",
          "model_name": "HBoxModel",
          "model_module_version": "1.5.0",
          "state": {
            "_dom_classes": [],
            "_model_module": "@jupyter-widgets/controls",
            "_model_module_version": "1.5.0",
            "_model_name": "HBoxModel",
            "_view_count": null,
            "_view_module": "@jupyter-widgets/controls",
            "_view_module_version": "1.5.0",
            "_view_name": "HBoxView",
            "box_style": "",
            "children": [
              "IPY_MODEL_a1813aabc3f44f589a16bef223640dbf",
              "IPY_MODEL_a5aef6a8ac7740faaa77daebd2e1cb61",
              "IPY_MODEL_06c798075d8e478d8edf6c39ec7a8041"
            ],
            "layout": "IPY_MODEL_ee68205f025e4eec9b5bd9e16a828154"
          }
        },
        "a1813aabc3f44f589a16bef223640dbf": {
          "model_module": "@jupyter-widgets/controls",
          "model_name": "HTMLModel",
          "model_module_version": "1.5.0",
          "state": {
            "_dom_classes": [],
            "_model_module": "@jupyter-widgets/controls",
            "_model_module_version": "1.5.0",
            "_model_name": "HTMLModel",
            "_view_count": null,
            "_view_module": "@jupyter-widgets/controls",
            "_view_module_version": "1.5.0",
            "_view_name": "HTMLView",
            "description": "",
            "description_tooltip": null,
            "layout": "IPY_MODEL_a2134a76bfee4ad0b5c0297063abcb18",
            "placeholder": "​",
            "style": "IPY_MODEL_5c40f07cc1914a05acb09135ece6c6dd",
            "value": "100%"
          }
        },
        "a5aef6a8ac7740faaa77daebd2e1cb61": {
          "model_module": "@jupyter-widgets/controls",
          "model_name": "FloatProgressModel",
          "model_module_version": "1.5.0",
          "state": {
            "_dom_classes": [],
            "_model_module": "@jupyter-widgets/controls",
            "_model_module_version": "1.5.0",
            "_model_name": "FloatProgressModel",
            "_view_count": null,
            "_view_module": "@jupyter-widgets/controls",
            "_view_module_version": "1.5.0",
            "_view_name": "ProgressView",
            "bar_style": "success",
            "description": "",
            "description_tooltip": null,
            "layout": "IPY_MODEL_a5cd11f939324b24a3e3714ce49dc605",
            "max": 40000,
            "min": 0,
            "orientation": "horizontal",
            "style": "IPY_MODEL_81928b4f3bcd45af9a6511ab9b52856e",
            "value": 40000
          }
        },
        "06c798075d8e478d8edf6c39ec7a8041": {
          "model_module": "@jupyter-widgets/controls",
          "model_name": "HTMLModel",
          "model_module_version": "1.5.0",
          "state": {
            "_dom_classes": [],
            "_model_module": "@jupyter-widgets/controls",
            "_model_module_version": "1.5.0",
            "_model_name": "HTMLModel",
            "_view_count": null,
            "_view_module": "@jupyter-widgets/controls",
            "_view_module_version": "1.5.0",
            "_view_name": "HTMLView",
            "description": "",
            "description_tooltip": null,
            "layout": "IPY_MODEL_ab5ebe5109a04e019adaa6f6209d0ed7",
            "placeholder": "​",
            "style": "IPY_MODEL_073f1270985141b8b40644df961c0363",
            "value": " 40000/40000 [00:01&lt;00:00, 21856.67it/s]"
          }
        },
        "ee68205f025e4eec9b5bd9e16a828154": {
          "model_module": "@jupyter-widgets/base",
          "model_name": "LayoutModel",
          "model_module_version": "1.2.0",
          "state": {
            "_model_module": "@jupyter-widgets/base",
            "_model_module_version": "1.2.0",
            "_model_name": "LayoutModel",
            "_view_count": null,
            "_view_module": "@jupyter-widgets/base",
            "_view_module_version": "1.2.0",
            "_view_name": "LayoutView",
            "align_content": null,
            "align_items": null,
            "align_self": null,
            "border": null,
            "bottom": null,
            "display": null,
            "flex": null,
            "flex_flow": null,
            "grid_area": null,
            "grid_auto_columns": null,
            "grid_auto_flow": null,
            "grid_auto_rows": null,
            "grid_column": null,
            "grid_gap": null,
            "grid_row": null,
            "grid_template_areas": null,
            "grid_template_columns": null,
            "grid_template_rows": null,
            "height": null,
            "justify_content": null,
            "justify_items": null,
            "left": null,
            "margin": null,
            "max_height": null,
            "max_width": null,
            "min_height": null,
            "min_width": null,
            "object_fit": null,
            "object_position": null,
            "order": null,
            "overflow": null,
            "overflow_x": null,
            "overflow_y": null,
            "padding": null,
            "right": null,
            "top": null,
            "visibility": null,
            "width": null
          }
        },
        "a2134a76bfee4ad0b5c0297063abcb18": {
          "model_module": "@jupyter-widgets/base",
          "model_name": "LayoutModel",
          "model_module_version": "1.2.0",
          "state": {
            "_model_module": "@jupyter-widgets/base",
            "_model_module_version": "1.2.0",
            "_model_name": "LayoutModel",
            "_view_count": null,
            "_view_module": "@jupyter-widgets/base",
            "_view_module_version": "1.2.0",
            "_view_name": "LayoutView",
            "align_content": null,
            "align_items": null,
            "align_self": null,
            "border": null,
            "bottom": null,
            "display": null,
            "flex": null,
            "flex_flow": null,
            "grid_area": null,
            "grid_auto_columns": null,
            "grid_auto_flow": null,
            "grid_auto_rows": null,
            "grid_column": null,
            "grid_gap": null,
            "grid_row": null,
            "grid_template_areas": null,
            "grid_template_columns": null,
            "grid_template_rows": null,
            "height": null,
            "justify_content": null,
            "justify_items": null,
            "left": null,
            "margin": null,
            "max_height": null,
            "max_width": null,
            "min_height": null,
            "min_width": null,
            "object_fit": null,
            "object_position": null,
            "order": null,
            "overflow": null,
            "overflow_x": null,
            "overflow_y": null,
            "padding": null,
            "right": null,
            "top": null,
            "visibility": null,
            "width": null
          }
        },
        "5c40f07cc1914a05acb09135ece6c6dd": {
          "model_module": "@jupyter-widgets/controls",
          "model_name": "DescriptionStyleModel",
          "model_module_version": "1.5.0",
          "state": {
            "_model_module": "@jupyter-widgets/controls",
            "_model_module_version": "1.5.0",
            "_model_name": "DescriptionStyleModel",
            "_view_count": null,
            "_view_module": "@jupyter-widgets/base",
            "_view_module_version": "1.2.0",
            "_view_name": "StyleView",
            "description_width": ""
          }
        },
        "a5cd11f939324b24a3e3714ce49dc605": {
          "model_module": "@jupyter-widgets/base",
          "model_name": "LayoutModel",
          "model_module_version": "1.2.0",
          "state": {
            "_model_module": "@jupyter-widgets/base",
            "_model_module_version": "1.2.0",
            "_model_name": "LayoutModel",
            "_view_count": null,
            "_view_module": "@jupyter-widgets/base",
            "_view_module_version": "1.2.0",
            "_view_name": "LayoutView",
            "align_content": null,
            "align_items": null,
            "align_self": null,
            "border": null,
            "bottom": null,
            "display": null,
            "flex": null,
            "flex_flow": null,
            "grid_area": null,
            "grid_auto_columns": null,
            "grid_auto_flow": null,
            "grid_auto_rows": null,
            "grid_column": null,
            "grid_gap": null,
            "grid_row": null,
            "grid_template_areas": null,
            "grid_template_columns": null,
            "grid_template_rows": null,
            "height": null,
            "justify_content": null,
            "justify_items": null,
            "left": null,
            "margin": null,
            "max_height": null,
            "max_width": null,
            "min_height": null,
            "min_width": null,
            "object_fit": null,
            "object_position": null,
            "order": null,
            "overflow": null,
            "overflow_x": null,
            "overflow_y": null,
            "padding": null,
            "right": null,
            "top": null,
            "visibility": null,
            "width": null
          }
        },
        "81928b4f3bcd45af9a6511ab9b52856e": {
          "model_module": "@jupyter-widgets/controls",
          "model_name": "ProgressStyleModel",
          "model_module_version": "1.5.0",
          "state": {
            "_model_module": "@jupyter-widgets/controls",
            "_model_module_version": "1.5.0",
            "_model_name": "ProgressStyleModel",
            "_view_count": null,
            "_view_module": "@jupyter-widgets/base",
            "_view_module_version": "1.2.0",
            "_view_name": "StyleView",
            "bar_color": null,
            "description_width": ""
          }
        },
        "ab5ebe5109a04e019adaa6f6209d0ed7": {
          "model_module": "@jupyter-widgets/base",
          "model_name": "LayoutModel",
          "model_module_version": "1.2.0",
          "state": {
            "_model_module": "@jupyter-widgets/base",
            "_model_module_version": "1.2.0",
            "_model_name": "LayoutModel",
            "_view_count": null,
            "_view_module": "@jupyter-widgets/base",
            "_view_module_version": "1.2.0",
            "_view_name": "LayoutView",
            "align_content": null,
            "align_items": null,
            "align_self": null,
            "border": null,
            "bottom": null,
            "display": null,
            "flex": null,
            "flex_flow": null,
            "grid_area": null,
            "grid_auto_columns": null,
            "grid_auto_flow": null,
            "grid_auto_rows": null,
            "grid_column": null,
            "grid_gap": null,
            "grid_row": null,
            "grid_template_areas": null,
            "grid_template_columns": null,
            "grid_template_rows": null,
            "height": null,
            "justify_content": null,
            "justify_items": null,
            "left": null,
            "margin": null,
            "max_height": null,
            "max_width": null,
            "min_height": null,
            "min_width": null,
            "object_fit": null,
            "object_position": null,
            "order": null,
            "overflow": null,
            "overflow_x": null,
            "overflow_y": null,
            "padding": null,
            "right": null,
            "top": null,
            "visibility": null,
            "width": null
          }
        },
        "073f1270985141b8b40644df961c0363": {
          "model_module": "@jupyter-widgets/controls",
          "model_name": "DescriptionStyleModel",
          "model_module_version": "1.5.0",
          "state": {
            "_model_module": "@jupyter-widgets/controls",
            "_model_module_version": "1.5.0",
            "_model_name": "DescriptionStyleModel",
            "_view_count": null,
            "_view_module": "@jupyter-widgets/base",
            "_view_module_version": "1.2.0",
            "_view_name": "StyleView",
            "description_width": ""
          }
        }
      }
    }
  },
  "cells": [
    {
      "cell_type": "markdown",
      "source": [
        "# JHU JSALT Summer School IR Laboratory -- Part 2.5\n",
        "\n",
        "This notebook is mainly borrowed from the series of Colab notebooks created for the SIGIR 2023 Tutorial entitled '**Neural Methods for CLIR Tutorial**'. For more information, please visit their [repository](https://github.com/hltcoe/clir-tutorial).\n",
        "\n",
        "In this notebook we are going to walk through a CLIR example using Anserini, which is a wrapper around Lucene. We use a BM25 model with query translation to generate a ranked list on the NeuCLIR Chinese collection as an example.\n",
        "\n"
      ],
      "metadata": {
        "id": "Gf3QADZx9uWO"
      }
    },
    {
      "cell_type": "markdown",
      "source": [
        "## Setup\n",
        "Replicating the steps from the official Anserini [notebook](https://github.com/castorini/anserini-notebooks/blob/master/anserini_robust04_demo.ipynb)"
      ],
      "metadata": {
        "id": "LMpCvJI7-B86"
      }
    },
    {
      "cell_type": "markdown",
      "source": [
        "We first need to upgrade the Java version on Google Colab"
      ],
      "metadata": {
        "id": "YDR5nlMiBhm_"
      }
    },
    {
      "cell_type": "markdown",
      "source": [
        "We first download the precompiled image from maven. The code was written in 2023, which uses some deprecated functions are later removed from the latest version. In this notebook, we use Anserini 0.21.0."
      ],
      "metadata": {
        "id": "sJAWmxpmwocX"
      }
    },
    {
      "cell_type": "code",
      "source": [
        "!wget https://repo1.maven.org/maven2/io/anserini/anserini/0.21.0/anserini-0.21.0-fatjar.jar"
      ],
      "metadata": {
        "id": "B9upp5utxdVR",
        "outputId": "8d31f653-28ca-4de7-e825-09feedbbb9f4",
        "colab": {
          "base_uri": "https://localhost:8080/"
        }
      },
      "execution_count": 1,
      "outputs": [
        {
          "output_type": "stream",
          "name": "stdout",
          "text": [
            "--2024-05-27 20:42:07--  https://repo1.maven.org/maven2/io/anserini/anserini/0.21.0/anserini-0.21.0-fatjar.jar\n",
            "Resolving repo1.maven.org (repo1.maven.org)... 199.232.192.209, 199.232.196.209, 2a04:4e42:4c::209, ...\n",
            "Connecting to repo1.maven.org (repo1.maven.org)|199.232.192.209|:443... connected.\n",
            "HTTP request sent, awaiting response... 200 OK\n",
            "Length: 159044007 (152M) [application/java-archive]\n",
            "Saving to: ‘anserini-0.21.0-fatjar.jar’\n",
            "\n",
            "anserini-0.21.0-fat 100%[===================>] 151.68M  30.2MB/s    in 5.8s    \n",
            "\n",
            "2024-05-27 20:42:15 (26.3 MB/s) - ‘anserini-0.21.0-fatjar.jar’ saved [159044007/159044007]\n",
            "\n"
          ]
        }
      ]
    },
    {
      "cell_type": "markdown",
      "source": [
        "Let's install the packages!\n",
        "The following command will install `ir_measurees`, Huggingface `datasets`, Google Translate (for presentation), and Huggingface Transformers."
      ],
      "metadata": {
        "id": "nHyAuJMXIWEi"
      }
    },
    {
      "cell_type": "code",
      "source": [
        "!pip install -q -U --progress-bar on ir_measures transformers datasets googletrans==3.1.0a0"
      ],
      "metadata": {
        "colab": {
          "base_uri": "https://localhost:8080/"
        },
        "id": "ZVlNOiqpB2ps",
        "outputId": "52f05617-a637-4ecd-e91f-cbae33d08cee"
      },
      "execution_count": 2,
      "outputs": [
        {
          "output_type": "stream",
          "name": "stdout",
          "text": [
            "\u001b[2K     \u001b[90m━━━━━━━━━━━━━━━━━━━━━━━━━━━━━━━━━━━━━━━━\u001b[0m \u001b[32m48.8/48.8 kB\u001b[0m \u001b[31m136.2 kB/s\u001b[0m eta \u001b[36m0:00:00\u001b[0m\n",
            "\u001b[?25h  Preparing metadata (setup.py) ... \u001b[?25l\u001b[?25hdone\n",
            "\u001b[2K     \u001b[90m━━━━━━━━━━━━━━━━━━━━━━━━━━━━━━━━━━━━━━━━\u001b[0m \u001b[32m9.1/9.1 MB\u001b[0m \u001b[31m25.7 MB/s\u001b[0m eta \u001b[36m0:00:00\u001b[0m\n",
            "\u001b[2K     \u001b[90m━━━━━━━━━━━━━━━━━━━━━━━━━━━━━━━━━━━━━━━━\u001b[0m \u001b[32m542.0/542.0 kB\u001b[0m \u001b[31m31.4 MB/s\u001b[0m eta \u001b[36m0:00:00\u001b[0m\n",
            "\u001b[?25h  Preparing metadata (setup.py) ... \u001b[?25l\u001b[?25hdone\n",
            "\u001b[2K     \u001b[90m━━━━━━━━━━━━━━━━━━━━━━━━━━━━━━━━━━━━━━━━\u001b[0m \u001b[32m55.1/55.1 kB\u001b[0m \u001b[31m4.4 MB/s\u001b[0m eta \u001b[36m0:00:00\u001b[0m\n",
            "\u001b[2K     \u001b[90m━━━━━━━━━━━━━━━━━━━━━━━━━━━━━━━━━━━━━━━━\u001b[0m \u001b[32m1.1/1.1 MB\u001b[0m \u001b[31m45.1 MB/s\u001b[0m eta \u001b[36m0:00:00\u001b[0m\n",
            "\u001b[2K     \u001b[90m━━━━━━━━━━━━━━━━━━━━━━━━━━━━━━━━━━━━━━━━\u001b[0m \u001b[32m133.4/133.4 kB\u001b[0m \u001b[31m13.6 MB/s\u001b[0m eta \u001b[36m0:00:00\u001b[0m\n",
            "\u001b[2K     \u001b[90m━━━━━━━━━━━━━━━━━━━━━━━━━━━━━━━━━━━━━━━━\u001b[0m \u001b[32m58.8/58.8 kB\u001b[0m \u001b[31m4.7 MB/s\u001b[0m eta \u001b[36m0:00:00\u001b[0m\n",
            "\u001b[2K     \u001b[90m━━━━━━━━━━━━━━━━━━━━━━━━━━━━━━━━━━━━━━━━\u001b[0m \u001b[32m42.6/42.6 kB\u001b[0m \u001b[31m3.7 MB/s\u001b[0m eta \u001b[36m0:00:00\u001b[0m\n",
            "\u001b[2K     \u001b[90m━━━━━━━━━━━━━━━━━━━━━━━━━━━━━━━━━━━━━━━━\u001b[0m \u001b[32m53.6/53.6 kB\u001b[0m \u001b[31m6.0 MB/s\u001b[0m eta \u001b[36m0:00:00\u001b[0m\n",
            "\u001b[2K     \u001b[90m━━━━━━━━━━━━━━━━━━━━━━━━━━━━━━━━━━━━━━━━\u001b[0m \u001b[32m65.0/65.0 kB\u001b[0m \u001b[31m6.1 MB/s\u001b[0m eta \u001b[36m0:00:00\u001b[0m\n",
            "\u001b[2K     \u001b[90m━━━━━━━━━━━━━━━━━━━━━━━━━━━━━━━━━━━━━━━━\u001b[0m \u001b[32m287.4/287.4 kB\u001b[0m \u001b[31m19.9 MB/s\u001b[0m eta \u001b[36m0:00:00\u001b[0m\n",
            "\u001b[?25h  Preparing metadata (setup.py) ... \u001b[?25l\u001b[?25hdone\n",
            "\u001b[2K     \u001b[90m━━━━━━━━━━━━━━━━━━━━━━━━━━━━━━━━━━━━━━━━\u001b[0m \u001b[32m116.3/116.3 kB\u001b[0m \u001b[31m2.8 MB/s\u001b[0m eta \u001b[36m0:00:00\u001b[0m\n",
            "\u001b[2K     \u001b[90m━━━━━━━━━━━━━━━━━━━━━━━━━━━━━━━━━━━━━━━━\u001b[0m \u001b[32m194.1/194.1 kB\u001b[0m \u001b[31m11.4 MB/s\u001b[0m eta \u001b[36m0:00:00\u001b[0m\n",
            "\u001b[2K     \u001b[90m━━━━━━━━━━━━━━━━━━━━━━━━━━━━━━━━━━━━━━━━\u001b[0m \u001b[32m134.8/134.8 kB\u001b[0m \u001b[31m12.7 MB/s\u001b[0m eta \u001b[36m0:00:00\u001b[0m\n",
            "\u001b[?25h  Building wheel for googletrans (setup.py) ... \u001b[?25l\u001b[?25hdone\n",
            "  Building wheel for ir_measures (setup.py) ... \u001b[?25l\u001b[?25hdone\n",
            "  Building wheel for cwl-eval (setup.py) ... \u001b[?25l\u001b[?25hdone\n"
          ]
        }
      ]
    },
    {
      "cell_type": "markdown",
      "source": [
        "After installation, let's download the dataset. The NeuCLIR 1 Collection is publicly available on Huggingface Datasets! Topics and qrels are available on the TREC website, from which we will directly download it.\n",
        "\n",
        "Working with the entire NeuCLIR Chinese collection will take too much indexing time. For this demonstration, we'll just use the first 40k documents."
      ],
      "metadata": {
        "id": "l8XXSpzuIbPw"
      }
    },
    {
      "cell_type": "code",
      "source": [
        "# Download topics and qrels from NIST\n",
        "!wget -q --show-progress https://trec.nist.gov/data/neuclir/topics.0720.utf8.jsonl\n",
        "!wget -q --show-progress https://trec.nist.gov/data/neuclir/2022-qrels.zho\n",
        "\n",
        "import json\n",
        "import pandas as pd\n",
        "from tqdm.auto import tqdm\n",
        "\n",
        "import ir_measures as irms\n",
        "from datasets import load_dataset\n",
        "\n",
        "# Only loading the first 40k docs from HF Datasets\n",
        "ds = load_dataset('neuclir/neuclir1', split='zho', streaming=True) # total 3179209\n",
        "doc_subset = [ o for i, o in zip(tqdm(range(40_000), desc='Loading first 40k docs from NeuCLIR Chinese Collection'), ds) ]\n",
        "subset_doc_ids = set([ d['id'] for d in doc_subset ])\n",
        "\n",
        "use_topic = '66' # use topic 66 as demo -- expecting to have 9 relevant docs\n",
        "\n",
        "qrels = pd.DataFrame([ l for l in irms.read_trec_qrels('2022-qrels.zho') if l.query_id == use_topic and l.doc_id in subset_doc_ids ])\n",
        "topics = [ t for t in map(json.loads, open(\"topics.0720.utf8.jsonl\")) if t['topic_id'] == use_topic ]"
      ],
      "metadata": {
        "colab": {
          "base_uri": "https://localhost:8080/",
          "height": 341,
          "referenced_widgets": [
            "c8e125777f5b4ae2818433fdfe4b151d",
            "3af52c8f248a4e86b8a310cdb5315ce9",
            "ac765fc5c5054c4d90e9a9f0c81fb290",
            "d246542fc4c44b32ace8b3d03fa90a97",
            "9d4c3046cddb48cda1b34c78dd0e8b74",
            "d96d983bb78d4f4490a9cc685980a6e0",
            "263df10ab1a14ed7b9c44e2f51cfaa91",
            "9efc17ac393a4f0a891e5f2adee0af26",
            "fa1c38ca9aa34b358f147bcacc4611cf",
            "16924ebafe154b71b0050df7e6330220",
            "643e94d5494847aab291de70eb90ad76",
            "39c67e38cdc242508bb2269e2bdc5180",
            "fc7e2cdab42f4d26b179e23cde0fdf9d",
            "5dc9e962c2cf4b0a8fd7ad52247b88a4",
            "216f9d0bc44142348326098a762ee8aa",
            "eb9f4b4f231b4dcfb545547beeb6c5c5",
            "0b42a12b14144378b598366796e663a0",
            "ec553011c0dd44f997d4a61beb5c9a38",
            "0d6279433e5e4fcf99e3192ad427a7e0",
            "ba52980c13ec414180eb9fff2d9eba7d",
            "32157485637a44b9b585ee6144768e75",
            "b31a67645a60406586be6a4dc4bdb63c",
            "2f4c1d06faca4cd780a21ba19f3096c8",
            "305cc4ec06e548baa8b67ca66be42353",
            "86973af606c447c8b21dc840dce0d92c",
            "7801868b74fe48d3932d0286c6becb61",
            "6209ae9a710544d7aa06276224b8a0cc",
            "1bb5a6e310e9457d84dd5e247e127fc9",
            "14bf4928497d4085bba31555ec0a1b61",
            "d3322e1b609f4344a1d974b23539d40e",
            "75c8bc083fb743bb8338f1f6a627f74c",
            "bb920c293c1b46af9678907290d2d4d7",
            "3cd048110d854b90afc029007fc7659f"
          ]
        },
        "id": "PI64O_uLCK_o",
        "outputId": "f6535155-9137-4ab5-addc-1fef267aea82"
      },
      "execution_count": 3,
      "outputs": [
        {
          "output_type": "stream",
          "name": "stdout",
          "text": [
            "topics.0720.utf8.js 100%[===================>] 646.75K   747KB/s    in 0.9s    \n",
            "2022-qrels.zho      100%[===================>]   1.54M  1.53MB/s    in 1.0s    \n"
          ]
        },
        {
          "output_type": "stream",
          "name": "stderr",
          "text": [
            "/usr/local/lib/python3.10/dist-packages/huggingface_hub/utils/_token.py:89: UserWarning: \n",
            "The secret `HF_TOKEN` does not exist in your Colab secrets.\n",
            "To authenticate with the Hugging Face Hub, create a token in your settings tab (https://huggingface.co/settings/tokens), set it as secret in your Google Colab and restart your session.\n",
            "You will be able to reuse this secret in all of your notebooks.\n",
            "Please note that authentication is recommended but still optional to access public models or datasets.\n",
            "  warnings.warn(\n",
            "/usr/local/lib/python3.10/dist-packages/datasets/load.py:1486: FutureWarning: The repository for neuclir/neuclir1 contains custom code which must be executed to correctly load the dataset. You can inspect the repository content at https://hf.co/datasets/neuclir/neuclir1\n",
            "You can avoid this message in future by passing the argument `trust_remote_code=True`.\n",
            "Passing `trust_remote_code=True` will be mandatory to load this dataset from the next major release of `datasets`.\n",
            "  warnings.warn(\n"
          ]
        },
        {
          "output_type": "display_data",
          "data": {
            "text/plain": [
              "Downloading builder script:   0%|          | 0.00/1.31k [00:00<?, ?B/s]"
            ],
            "application/vnd.jupyter.widget-view+json": {
              "version_major": 2,
              "version_minor": 0,
              "model_id": "c8e125777f5b4ae2818433fdfe4b151d"
            }
          },
          "metadata": {}
        },
        {
          "output_type": "display_data",
          "data": {
            "text/plain": [
              "Downloading readme:   0%|          | 0.00/1.48k [00:00<?, ?B/s]"
            ],
            "application/vnd.jupyter.widget-view+json": {
              "version_major": 2,
              "version_minor": 0,
              "model_id": "39c67e38cdc242508bb2269e2bdc5180"
            }
          },
          "metadata": {}
        },
        {
          "output_type": "display_data",
          "data": {
            "text/plain": [
              "Loading first 40k docs from NeuCLIR Chinese Collection:   0%|          | 0/40000 [00:00<?, ?it/s]"
            ],
            "application/vnd.jupyter.widget-view+json": {
              "version_major": 2,
              "version_minor": 0,
              "model_id": "2f4c1d06faca4cd780a21ba19f3096c8"
            }
          },
          "metadata": {}
        }
      ]
    },
    {
      "cell_type": "markdown",
      "source": [
        "Here we create helper functions so we can obtain the query and document text more conveniently.\n",
        "\n",
        "\n"
      ],
      "metadata": {
        "id": "RPkAxI1wIntf"
      }
    },
    {
      "cell_type": "code",
      "source": [
        "topic_id_idx = { t['topic_id']: i for i, t in enumerate(topics) }\n",
        "def get_query_by_topic_id(topic_id, query_type='title', lang=\"eng\"):\n",
        "    for topic in topics[ topic_id_idx[topic_id] ]['topics']:\n",
        "      if topic[\"lang\"] == lang:\n",
        "        return topic[f'topic_{query_type}']\n",
        "\n",
        "doc_id_to_idx = { d['id']: i for i, d in enumerate(doc_subset) }\n",
        "def get_doc_text_by_doc_id(doc_id):\n",
        "    doc = doc_subset[ doc_id_to_idx[doc_id] ]\n",
        "    return doc['title'] + ' ' + doc['text']"
      ],
      "metadata": {
        "id": "wQEp7jlVCZFj"
      },
      "execution_count": 4,
      "outputs": []
    },
    {
      "cell_type": "markdown",
      "source": [
        "## Indexing"
      ],
      "metadata": {
        "id": "WbD7iXPfH5BU"
      }
    },
    {
      "cell_type": "markdown",
      "source": [
        "We first index the NeuCLIR Chinese document subset using Anserini\n"
      ],
      "metadata": {
        "id": "zZhGNiigIvKC"
      }
    },
    {
      "cell_type": "code",
      "source": [
        "!mkdir -p collection"
      ],
      "metadata": {
        "id": "KOK9O2yqH6eC"
      },
      "execution_count": 5,
      "outputs": []
    },
    {
      "cell_type": "markdown",
      "source": [
        "Creating jsonl files for Anserini"
      ],
      "metadata": {
        "id": "0bgkFrWMI-5J"
      }
    },
    {
      "cell_type": "code",
      "source": [
        "import json\n",
        "with open(\"collection/zho_neuclir_subset.jsonl\", \"w\") as f:\n",
        "  for doc_id in tqdm(doc_id_to_idx, total = len(doc_id_to_idx)):\n",
        "    content = get_doc_text_by_doc_id(doc_id)\n",
        "    text = json.dumps({\"id\": doc_id, \"contents\": content})\n",
        "    f.write(text+\"\\n\")"
      ],
      "metadata": {
        "colab": {
          "base_uri": "https://localhost:8080/",
          "height": 49,
          "referenced_widgets": [
            "bd1f63f58f8c442e938f62c7b9b3bc89",
            "a1813aabc3f44f589a16bef223640dbf",
            "a5aef6a8ac7740faaa77daebd2e1cb61",
            "06c798075d8e478d8edf6c39ec7a8041",
            "ee68205f025e4eec9b5bd9e16a828154",
            "a2134a76bfee4ad0b5c0297063abcb18",
            "5c40f07cc1914a05acb09135ece6c6dd",
            "a5cd11f939324b24a3e3714ce49dc605",
            "81928b4f3bcd45af9a6511ab9b52856e",
            "ab5ebe5109a04e019adaa6f6209d0ed7",
            "073f1270985141b8b40644df961c0363"
          ]
        },
        "id": "Fdh2QakWICd7",
        "outputId": "ecf6ebd7-f1c9-488a-d546-9d6eb5dfa66b"
      },
      "execution_count": 6,
      "outputs": [
        {
          "output_type": "display_data",
          "data": {
            "text/plain": [
              "  0%|          | 0/40000 [00:00<?, ?it/s]"
            ],
            "application/vnd.jupyter.widget-view+json": {
              "version_major": 2,
              "version_minor": 0,
              "model_id": "bd1f63f58f8c442e938f62c7b9b3bc89"
            }
          },
          "metadata": {}
        }
      ]
    },
    {
      "cell_type": "markdown",
      "source": [
        "Starting the indexing for Chinese documents. At the end of the indexing, you should see 40,000 documents indexed"
      ],
      "metadata": {
        "id": "N8JgnRxfJDzJ"
      }
    },
    {
      "cell_type": "code",
      "source": [
        "!java -cp anserini-0.21.0-fatjar.jar io.anserini.index.IndexCollection \\\n",
        "  -collection JsonCollection \\\n",
        "  -generator DefaultLuceneDocumentGenerator \\\n",
        "  -threads 9 \\\n",
        "  -input collection \\\n",
        "  -index indexes/zho_neuclir_subset_bm25 \\\n",
        "  -storePositions \\\n",
        "  -storeDocvectors \\\n",
        "  -storeRaw \\\n",
        "  -language zh"
      ],
      "metadata": {
        "colab": {
          "base_uri": "https://localhost:8080/"
        },
        "id": "OPRnXU_ZJted",
        "outputId": "a8b5f435-8fc4-4845-d00f-2595e2bddb38"
      },
      "execution_count": 9,
      "outputs": [
        {
          "output_type": "stream",
          "name": "stdout",
          "text": [
            "WARNING: sun.reflect.Reflection.getCallerClass is not supported. This will impact performance.\n",
            "2024-05-27 20:45:02,873 INFO  [main] index.IndexCollection (IndexCollection.java:380) - Setting log level to INFO\n",
            "2024-05-27 20:45:02,877 INFO  [main] index.IndexCollection (IndexCollection.java:383) - Starting indexer...\n",
            "2024-05-27 20:45:02,877 INFO  [main] index.IndexCollection (IndexCollection.java:384) - ============ Loading Parameters ============\n",
            "2024-05-27 20:45:02,878 INFO  [main] index.IndexCollection (IndexCollection.java:385) - DocumentCollection path: collection\n",
            "2024-05-27 20:45:02,878 INFO  [main] index.IndexCollection (IndexCollection.java:386) - CollectionClass: JsonCollection\n",
            "2024-05-27 20:45:02,879 INFO  [main] index.IndexCollection (IndexCollection.java:387) - Generator: DefaultLuceneDocumentGenerator\n",
            "2024-05-27 20:45:02,879 INFO  [main] index.IndexCollection (IndexCollection.java:388) - Threads: 9\n",
            "2024-05-27 20:45:02,880 INFO  [main] index.IndexCollection (IndexCollection.java:389) - Language: zh\n",
            "2024-05-27 20:45:02,880 INFO  [main] index.IndexCollection (IndexCollection.java:390) - Stemmer: porter\n",
            "2024-05-27 20:45:02,880 INFO  [main] index.IndexCollection (IndexCollection.java:391) - Keep stopwords? false\n",
            "2024-05-27 20:45:02,881 INFO  [main] index.IndexCollection (IndexCollection.java:392) - Stopwords: null\n",
            "2024-05-27 20:45:02,881 INFO  [main] index.IndexCollection (IndexCollection.java:393) - Store positions? true\n",
            "2024-05-27 20:45:02,882 INFO  [main] index.IndexCollection (IndexCollection.java:394) - Store docvectors? true\n",
            "2024-05-27 20:45:02,884 INFO  [main] index.IndexCollection (IndexCollection.java:395) - Store document \"contents\" field? false\n",
            "2024-05-27 20:45:02,885 INFO  [main] index.IndexCollection (IndexCollection.java:396) - Store document \"raw\" field? true\n",
            "2024-05-27 20:45:02,885 INFO  [main] index.IndexCollection (IndexCollection.java:397) - Additional fields to index: []\n",
            "2024-05-27 20:45:02,885 INFO  [main] index.IndexCollection (IndexCollection.java:398) - Optimize (merge segments)? false\n",
            "2024-05-27 20:45:02,886 INFO  [main] index.IndexCollection (IndexCollection.java:399) - Whitelist: null\n",
            "2024-05-27 20:45:02,886 INFO  [main] index.IndexCollection (IndexCollection.java:400) - Pretokenized?: false\n",
            "2024-05-27 20:45:02,887 INFO  [main] index.IndexCollection (IndexCollection.java:401) - Index path: indexes/zho_neuclir_subset_bm25\n",
            "2024-05-27 20:45:02,896 INFO  [main] index.IndexCollection (IndexCollection.java:481) - ============ Indexing Collection ============\n",
            "2024-05-27 20:45:02,913 INFO  [main] index.IndexCollection (IndexCollection.java:459) - Using language-specific analyzer\n",
            "2024-05-27 20:45:02,913 INFO  [main] index.IndexCollection (IndexCollection.java:460) - Language: zh\n",
            "2024-05-27 20:45:03,104 INFO  [main] index.IndexCollection (IndexCollection.java:510) - Thread pool with 9 threads initialized.\n",
            "2024-05-27 20:45:03,105 INFO  [main] index.IndexCollection (IndexCollection.java:512) - Initializing collection in collection\n",
            "2024-05-27 20:45:03,108 INFO  [main] index.IndexCollection (IndexCollection.java:521) - 1 file found\n",
            "2024-05-27 20:45:03,109 INFO  [main] index.IndexCollection (IndexCollection.java:522) - Starting to index...\n",
            "2024-05-27 20:45:48,054 DEBUG [pool-2-thread-1] index.IndexCollection$LocalIndexerThread (IndexCollection.java:345) - collection/zho_neuclir_subset.jsonl: 40000 docs added.\n",
            "2024-05-27 20:45:59,427 INFO  [main] index.IndexCollection (IndexCollection.java:578) - Indexing Complete! 40,000 documents indexed\n",
            "2024-05-27 20:45:59,427 INFO  [main] index.IndexCollection (IndexCollection.java:579) - ============ Final Counter Values ============\n",
            "2024-05-27 20:45:59,427 INFO  [main] index.IndexCollection (IndexCollection.java:580) - indexed:           40,000\n",
            "2024-05-27 20:45:59,428 INFO  [main] index.IndexCollection (IndexCollection.java:581) - unindexable:            0\n",
            "2024-05-27 20:45:59,428 INFO  [main] index.IndexCollection (IndexCollection.java:582) - empty:                  0\n",
            "2024-05-27 20:45:59,428 INFO  [main] index.IndexCollection (IndexCollection.java:583) - skipped:                0\n",
            "2024-05-27 20:45:59,428 INFO  [main] index.IndexCollection (IndexCollection.java:584) - errors:                 0\n",
            "2024-05-27 20:45:59,435 INFO  [main] index.IndexCollection (IndexCollection.java:587) - Total 40,000 documents indexed in 00:00:56\n"
          ]
        }
      ]
    },
    {
      "cell_type": "markdown",
      "source": [
        "## Retrieval"
      ],
      "metadata": {
        "id": "lvVExJPLKt8J"
      }
    },
    {
      "cell_type": "markdown",
      "source": [
        "Post indexing of Chinese documents, we want to generate a ranked list for a given translated Chinese query using BM25 model."
      ],
      "metadata": {
        "id": "Rk9DNOLFJYIT"
      }
    },
    {
      "cell_type": "code",
      "source": [
        "!mkdir -p runs"
      ],
      "metadata": {
        "id": "olQOGGtELlfY"
      },
      "execution_count": 10,
      "outputs": []
    },
    {
      "cell_type": "markdown",
      "source": [
        "Get the translated Chinese query for a specific topic_id (66). See the [cell](https://colab.research.google.com/drive/1u_8ESzz_f26toFy45m17UQRZXGVqMt0B#scrollTo=PI64O_uLCK_o&line=19&uniqifier=1) for more details"
      ],
      "metadata": {
        "id": "USnbNierJ_A4"
      }
    },
    {
      "cell_type": "code",
      "source": [
        "topic_text = get_query_by_topic_id(use_topic, lang=\"zho\")"
      ],
      "metadata": {
        "id": "H9Hl_YklKv5d"
      },
      "execution_count": 11,
      "outputs": []
    },
    {
      "cell_type": "markdown",
      "source": [
        "Create a text file for the topic in the following tsv format"
      ],
      "metadata": {
        "id": "NS2bgmbYKrHC"
      }
    },
    {
      "cell_type": "code",
      "source": [
        "with open(\"zho_topics.txt\", \"w\") as f:\n",
        "  f.write(f\"{use_topic}\\t{topic_text}\\n\")"
      ],
      "metadata": {
        "id": "XJxC5oYkK3u8"
      },
      "execution_count": 12,
      "outputs": []
    },
    {
      "cell_type": "markdown",
      "source": [
        "Perform retrieval using Anserini's BM25 with default hyperparameters"
      ],
      "metadata": {
        "id": "-8z2-hTlK3pP"
      }
    },
    {
      "cell_type": "code",
      "source": [
        "!java -cp anserini-0.21.0-fatjar.jar io.anserini.search.SearchCollection \\\n",
        "  -index indexes/zho_neuclir_subset_bm25 \\\n",
        "  -topics zho_topics.txt \\\n",
        "  -topicreader TsvInt \\\n",
        "  -output runs/zho_neuclir_subset_bm25.title.txt \\\n",
        "  -bm25 \\\n",
        "  -language zh"
      ],
      "metadata": {
        "colab": {
          "base_uri": "https://localhost:8080/"
        },
        "id": "rybqyLaTLBSn",
        "outputId": "69fbb1f4-1a1e-4cd6-ea9a-fcfd4d08c2ac"
      },
      "execution_count": 13,
      "outputs": [
        {
          "output_type": "stream",
          "name": "stdout",
          "text": [
            "WARNING: sun.reflect.Reflection.getCallerClass is not supported. This will impact performance.\n",
            "2024-05-27 20:47:08,688 INFO  [main] search.SearchCollection (SearchCollection.java:928) - ============ Initializing Searcher ============\n",
            "2024-05-27 20:47:08,694 INFO  [main] search.SearchCollection (SearchCollection.java:929) - Index: indexes/zho_neuclir_subset_bm25\n",
            "2024-05-27 20:47:08,972 INFO  [main] search.SearchCollection (SearchCollection.java:933) - Fields: []\n",
            "2024-05-27 20:47:08,973 INFO  [main] search.SearchCollection (SearchCollection.java:682) - Using language-specific analyzer\n",
            "2024-05-27 20:47:08,974 INFO  [main] search.SearchCollection (SearchCollection.java:683) - Language: zh\n",
            "2024-05-27 20:47:09,022 INFO  [main] search.SearchCollection (SearchCollection.java:1208) - runtag: Anserini\n",
            "2024-05-27 20:47:09,027 INFO  [main] search.SearchCollection (SearchCollection.java:1214) - ============ Launching Search Threads ============\n",
            "2024-05-27 20:47:09,699 INFO  [pool-2-thread-1] search.SearchCollection$SearcherThread (SearchCollection.java:861) - ranker: bm25(k1=0.9,b=0.4), reranker: default: 1 queries processed in 00:00:00 = ~1.59 q/s\n",
            "2024-05-27 20:47:09,725 INFO  [main] search.SearchCollection (SearchCollection.java:1420) - Total run time: 00:00:01\n"
          ]
        }
      ]
    },
    {
      "cell_type": "markdown",
      "source": [
        "Scoring against the filtered qrels, this BM25 result is just ok -- giving us an nDCG@20 of 0.1483."
      ],
      "metadata": {
        "id": "Kf_l9R6cK9nT"
      }
    },
    {
      "cell_type": "code",
      "source": [
        "!pwd"
      ],
      "metadata": {
        "id": "OzTlPwTJlY5s",
        "outputId": "069d75f0-73d2-497e-b71e-1feb3a2b5d31",
        "colab": {
          "base_uri": "https://localhost:8080/"
        }
      },
      "execution_count": 14,
      "outputs": [
        {
          "output_type": "stream",
          "name": "stdout",
          "text": [
            "/content\n"
          ]
        }
      ]
    },
    {
      "cell_type": "code",
      "source": [
        "to_rerank = pd.DataFrame([ l for l in irms.read_trec_run(\"runs/zho_neuclir_subset_bm25.title.txt\")])\n",
        "\n",
        "irms.calc_aggregate([irms.nDCG@20, irms.AP], qrels, to_rerank)"
      ],
      "metadata": {
        "colab": {
          "base_uri": "https://localhost:8080/"
        },
        "id": "37twjd5lLwvq",
        "outputId": "f609c9b7-47ac-4765-eab9-4bc4eb42e3c6"
      },
      "execution_count": 15,
      "outputs": [
        {
          "output_type": "execute_result",
          "data": {
            "text/plain": [
              "{nDCG@20: 0.1482972305701491, AP: 0.06837054789182448}"
            ]
          },
          "metadata": {},
          "execution_count": 15
        }
      ]
    },
    {
      "cell_type": "markdown",
      "source": [
        "# Exercise\n",
        "Perform retrieval using a different topic id.\n",
        "\n",
        "For generating a score, refer to this [cell](https://colab.research.google.com/drive/1u_8ESzz_f26toFy45m17UQRZXGVqMt0B#scrollTo=PI64O_uLCK_o&line=19&uniqifier=1) on how to filter qrels to only include the chosen topic id.\n",
        "\n",
        "Try it out yourself here:"
      ],
      "metadata": {
        "id": "mD3-D2jhLNAb"
      }
    },
    {
      "cell_type": "code",
      "source": [
        "# Your solution\n",
        "use_topic =\n",
        "qrels ="
      ],
      "metadata": {
        "id": "6YTIEGf2LrUG"
      },
      "execution_count": null,
      "outputs": []
    },
    {
      "cell_type": "markdown",
      "source": [
        "# And there you go!\n",
        "\n",
        "You've learned how to run a simple BM25 retrieval model using query translation for CLIR!"
      ],
      "metadata": {
        "id": "0XGzYMfrLxXR"
      }
    }
  ]
}